{
 "cells": [
  {
   "cell_type": "markdown",
   "metadata": {
    "id": "E8oV1ec1TYpA"
   },
   "source": [
    "# L3: Text clustering and topic modelling"
   ]
  },
  {
   "cell_type": "markdown",
   "metadata": {
    "id": "B0V1V7jSTYpF"
   },
   "source": [
    "Text clustering groups documents in such a way that documents within a group are more &lsquo;similar&rsquo; to other documents in the cluster than to documents not in the cluster. The exact definition of what &lsquo;similar&rsquo; means in this context varies across applications and clustering algorithms.\n",
    "\n",
    "In this lab you will experiment with both hard and soft clustering techniques. More specifically, in the first part you will be using the $k$-means algorithm, and in the second part you will be using a topic model based on the Latent Dirichlet Allocation (LDA)."
   ]
  },
  {
   "cell_type": "markdown",
   "metadata": {
    "id": "iga4pni_TYpG"
   },
   "source": [
    "## Hard clustering data set"
   ]
  },
  {
   "cell_type": "markdown",
   "metadata": {
    "id": "InfgJt-nTYpG"
   },
   "source": [
    "The raw data for the hard clustering part of this lab is a collection of product reviews. We have preprocessed the data by tokenization and lowercasing."
   ]
  },
  {
   "cell_type": "code",
   "execution_count": 1,
   "metadata": {
    "id": "6ZbXbztUTYpH"
   },
   "outputs": [],
   "source": [
    "import pandas as pd\n",
    "import bz2\n",
    "\n",
    "with bz2.open('/content/sample_data/reviews.json.bz2') as source:\n",
    "    df = pd.read_json(source)"
   ]
  },
  {
   "cell_type": "markdown",
   "metadata": {
    "id": "b8wDEnJMTYpI"
   },
   "source": [
    "When you inspect the data frame, you can see that there are three labelled columns: `category` (the product category), `sentiment` (whether the product review was classified as &lsquo;positive&rsquo; or &lsquo;negative&rsquo; towards the product), and `text` (the space-separated text of the review)."
   ]
  },
  {
   "cell_type": "code",
   "execution_count": 2,
   "metadata": {
    "colab": {
     "base_uri": "https://localhost:8080/"
    },
    "id": "6BoOohyTTYpI",
    "outputId": "545aa1da-59e7-4ba3-f53d-acbdacd07027"
   },
   "outputs": [
    {
     "name": "stdout",
     "output_type": "stream",
     "text": [
      "  category sentiment                                               text\n",
      "0    music       neg  i bought this album because i loved the title ...\n",
      "1    music       neg  i was misled and thought i was buying the enti...\n",
      "2    books       neg  i have introduced many of my ell , high school...\n",
      "3    books       pos  anything you purchase in the left behind serie...\n",
      "4      dvd       pos  i loved these movies , and i cant wiat for the...\n",
      "(11914, 3)\n"
     ]
    }
   ],
   "source": [
    "print(df.head())\n",
    "print(df.shape)"
   ]
  },
  {
   "cell_type": "markdown",
   "metadata": {
    "id": "j7a4mv29TYpJ"
   },
   "source": [
    "## Problem 1: K-means clustering"
   ]
  },
  {
   "cell_type": "markdown",
   "metadata": {
    "id": "czHXECl5TYpJ"
   },
   "source": [
    "Your first task is to cluster the product review data using a tf–idf vectorizer and a $k$-means clusterer."
   ]
  },
  {
   "cell_type": "markdown",
   "metadata": {
    "id": "2PNvnfX7TYpK"
   },
   "source": [
    "Start by doing the vectorization. In connection with vectorization, you should also filter out standard English stop words. While you could use [spaCy](https://spacy.io/) for this task, here it suffices to use the word list implemented in [TfidfVectorizer](https://scikit-learn.org/stable/modules/generated/sklearn.feature_extraction.text.TfidfVectorizer.html)."
   ]
  },
  {
   "cell_type": "code",
   "execution_count": 3,
   "metadata": {
    "id": "x8mt5ZdOTYpL"
   },
   "outputs": [],
   "source": [
    "import spacy\n",
    "import collections\n",
    "import seaborn as sns\n",
    "import matplotlib.pyplot as plt\n",
    "from sklearn.cluster import KMeans\n",
    "import numpy as np\n",
    "from sklearn.feature_extraction.text import TfidfVectorizer"
   ]
  },
  {
   "cell_type": "code",
   "execution_count": 4,
   "metadata": {
    "id": "eLkZf3tRXR88"
   },
   "outputs": [],
   "source": [
    "vectorizer = TfidfVectorizer(stop_words = \"english\")\n",
    "reviews = vectorizer.fit_transform(df[\"text\"])"
   ]
  },
  {
   "cell_type": "markdown",
   "metadata": {
    "id": "w1BPhxKITYpL"
   },
   "source": [
    "Test your vectorization by running the following code cell:"
   ]
  },
  {
   "cell_type": "code",
   "execution_count": 5,
   "metadata": {
    "colab": {
     "base_uri": "https://localhost:8080/"
    },
    "id": "Q0XDNeXhTYpL",
    "outputId": "30570568-a131-44a0-8eb0-47601094a742"
   },
   "outputs": [
    {
     "data": {
      "text/plain": [
       "(11914, 46619)"
      ]
     },
     "execution_count": 5,
     "metadata": {},
     "output_type": "execute_result"
    }
   ],
   "source": [
    "reviews.shape"
   ]
  },
  {
   "cell_type": "markdown",
   "metadata": {
    "id": "4GiKGmT9TYpM"
   },
   "source": [
    "If you used the English stop word list from scikit-learn, then the resulting vocabulary should have 46,619 entries."
   ]
  },
  {
   "cell_type": "markdown",
   "metadata": {
    "id": "CWIEwsH7TYpM"
   },
   "source": [
    "Next, cluster the vectorized data. Before doing so, you should read the documentation of the [KMeans](https://scikit-learn.org/stable/modules/generated/sklearn.cluster.KMeans.html) class, which is scikit-learn&rsquo;s implementation of the $k$-means algorithm. As you can see, this class has several parameters that you can tweak. For now, the only parameter that you will have to set is the number of clusters. We recommend that you choose $k=3$.\n",
    "\n",
    "**Tip:** Training $k$-means models will take some time. To speed things up, you can use the `n_init` parameter to control the number of times that the clustering is re-computed with different initial values. The default value for this parameter is 10; here and in the rest of this lab, you may want to set this to a lower value."
   ]
  },
  {
   "cell_type": "code",
   "execution_count": 6,
   "metadata": {
    "id": "U5oIsZ9PTYpM"
   },
   "outputs": [],
   "source": [
    "# TODO: Enter code here to cluster the vectorized data\n",
    "model = KMeans(n_clusters=3,n_init = 6 ).fit(reviews)\n",
    "prediction = model.predict(reviews)"
   ]
  },
  {
   "cell_type": "markdown",
   "metadata": {
    "id": "5wXszyDhTYpM"
   },
   "source": [
    "To sanity-check your clustering, create a bar plot with the number of documents per cluster."
   ]
  },
  {
   "cell_type": "code",
   "execution_count": 7,
   "metadata": {
    "colab": {
     "base_uri": "https://localhost:8080/",
     "height": 357
    },
    "id": "5m_sv-NeTYpN",
    "outputId": "bd952299-043c-4178-f8e1-4155d38e16df"
   },
   "outputs": [
    {
     "name": "stdout",
     "output_type": "stream",
     "text": [
      "Counter({0: 5784, 1: 5050, 2: 1080})\n"
     ]
    },
    {
     "name": "stderr",
     "output_type": "stream",
     "text": [
      "/usr/local/lib/python3.7/dist-packages/seaborn/_decorators.py:43: FutureWarning: Pass the following variable as a keyword arg: x. From version 0.12, the only valid positional argument will be `data`, and passing other arguments without an explicit keyword will result in an error or misinterpretation.\n",
      "  FutureWarning\n"
     ]
    },
    {
     "data": {
      "text/plain": [
       "<matplotlib.axes._subplots.AxesSubplot at 0x7f8a283ba1d0>"
      ]
     },
     "execution_count": 7,
     "metadata": {},
     "output_type": "execute_result"
    },
    {
     "data": {
      "image/png": "[encoded data removed]",
      "text/plain": [
       "<Figure size 432x288 with 1 Axes>"
      ]
     },
     "metadata": {
      "needs_background": "light"
     },
     "output_type": "display_data"
    }
   ],
   "source": [
    "\n",
    "print(collections.Counter(prediction))\n",
    "sns.countplot(prediction)"
   ]
  },
  {
   "cell_type": "markdown",
   "metadata": {
    "id": "G1AsbF4gTYpN"
   },
   "source": [
    "Note that sizes may vary considerable between clusters and among different random seeds."
   ]
  },
  {
   "cell_type": "markdown",
   "metadata": {
    "id": "-sFqA3ddTYpN"
   },
   "source": [
    "## Problem 2: Summarize clusters"
   ]
  },
  {
   "cell_type": "markdown",
   "metadata": {
    "id": "Bi_Ax-CUTYpN"
   },
   "source": [
    "Once you have a clustering, you can try to see whether it is meaningful. One useful technique in that context is to generate a **summary** for each cluster by extracting the $n$ highest-weighted terms from the centroid of each cluster. Your next task is to implement this approach.\n",
    "\n",
    "**Hint:** You will need to construct an &lsquo;inverted vocabulary&rsquo; that allows you to map from the index of a term back to the original term."
   ]
  },
  {
   "cell_type": "code",
   "execution_count": 8,
   "metadata": {
    "colab": {
     "base_uri": "https://localhost:8080/"
    },
    "id": "wpKBBHDvrmY8",
    "outputId": "a8206437-7ec8-415b-ed78-4d27a12f229d"
   },
   "outputs": [
    {
     "data": {
      "text/plain": [
       "array([[ 5695, 27522,  2193, ..., 24093, 24092, 46618],\n",
       "       [32505, 44007, 38539, ..., 20173, 20174, 23309],\n",
       "       [ 6890, 24143, 31125, ..., 29619, 29618, 23309]])"
      ]
     },
     "execution_count": 8,
     "metadata": {},
     "output_type": "execute_result"
    }
   ],
   "source": [
    "model.cluster_centers_.argsort()[:,::-1]"
   ]
  },
  {
   "cell_type": "code",
   "execution_count": 9,
   "metadata": {
    "colab": {
     "base_uri": "https://localhost:8080/",
     "height": 35
    },
    "id": "7Hs92xNW3yUC",
    "outputId": "59dc0a86-e804-4152-dfc0-b225091502ef"
   },
   "outputs": [
    {
     "data": {
      "application/vnd.google.colaboratory.intrinsic+json": {
       "type": "string"
      },
      "text/plain": [
       "'kippurs'"
      ]
     },
     "execution_count": 9,
     "metadata": {},
     "output_type": "execute_result"
    }
   ],
   "source": [
    "t=vectorizer.get_feature_names_out()\n",
    "t[23309]"
   ]
  },
  {
   "cell_type": "code",
   "execution_count": 10,
   "metadata": {
    "colab": {
     "base_uri": "https://localhost:8080/"
    },
    "id": "q5GS32ybr5AW",
    "outputId": "ba7d69aa-7259-4597-a8d3-71c18680e426"
   },
   "outputs": [
    {
     "name": "stdout",
     "output_type": "stream",
     "text": [
      "Cluster 0: book movie album like cd just music quot great good film read songs really love\n",
      "Cluster 1: product use software does great program used just work good time easy hair like bought\n",
      "Cluster 2: camera lens pictures canon digital use flash battery quality great case good cameras picture zoom\n"
     ]
    }
   ],
   "source": [
    "# source:https://stackoverflow.com/questions/47452119/kmean-clustering-top-terms-in-cluster\n",
    "\n",
    "def top_features(k,n,model):\n",
    "  order_centroids = model.cluster_centers_.argsort()[:, ::-1]  # sorting the values in the reverse order\n",
    "  terms = vectorizer.get_feature_names_out()                   # get the transformed features \n",
    "  for i in range(k):\n",
    "    print(\"Cluster %d:\" % i, end='')\n",
    "    for ind in order_centroids[i, :n]:                           \n",
    "      print(' %s' % terms[ind], end='') \n",
    "    print()\n",
    "\n",
    "top_features(3,15,model)"
   ]
  },
  {
   "cell_type": "markdown",
   "metadata": {
    "id": "CTPzzrXJTYpO"
   },
   "source": [
    "Once you have computed the cluster summaries, discuss their quality. Is it clear what the reviews in a given cluster are about? Which clusters are clearest? Which are less clear? Do the cluster summaries contain any unexpected terms? What happens if you re-cluster with, say, $k=6$?"
   ]
  },
  {
   "cell_type": "code",
   "execution_count": 11,
   "metadata": {
    "colab": {
     "base_uri": "https://localhost:8080/",
     "height": 320
    },
    "id": "pMq1nbflr34-",
    "outputId": "1acf9971-7c7d-4ede-83d1-4374165018a9"
   },
   "outputs": [
    {
     "name": "stderr",
     "output_type": "stream",
     "text": [
      "/usr/local/lib/python3.7/dist-packages/seaborn/_decorators.py:43: FutureWarning: Pass the following variable as a keyword arg: x. From version 0.12, the only valid positional argument will be `data`, and passing other arguments without an explicit keyword will result in an error or misinterpretation.\n",
      "  FutureWarning\n"
     ]
    },
    {
     "data": {
      "image/png": "[encoded data removed]",
      "text/plain": [
       "<Figure size 432x288 with 1 Axes>"
      ]
     },
     "metadata": {
      "needs_background": "light"
     },
     "output_type": "display_data"
    }
   ],
   "source": [
    "model1 = KMeans(n_clusters=6,n_init = 6 ).fit(reviews)\n",
    "prediction1 = model1.predict(reviews)\n",
    "sns.countplot(prediction1)\n",
    "plt.show()"
   ]
  },
  {
   "cell_type": "markdown",
   "metadata": {
    "id": "LIDg7_wpTYpP"
   },
   "source": [
    "*TODO: Insert your analysis of the clusters here*"
   ]
  },
  {
   "cell_type": "code",
   "execution_count": 12,
   "metadata": {
    "colab": {
     "base_uri": "https://localhost:8080/"
    },
    "id": "aYq67gOvywRe",
    "outputId": "ec9ba47b-8997-4d2f-9dc7-3c4a6b3e3d9a"
   },
   "outputs": [
    {
     "name": "stdout",
     "output_type": "stream",
     "text": [
      "Cluster 0: software program product version use computer support easy windows microsoft office used new upgrade work\n",
      "Cluster 1: album cd music songs quot song like just great band good listen sound best albums\n",
      "Cluster 2: camera lens pictures canon digital use flash battery quality great case good cameras picture sony\n",
      "Cluster 3: movie film movies like story watch just good great acting seen did love really time\n",
      "Cluster 4: book read books author reading story like quot just written good did great really people\n",
      "Cluster 5: product great good like just use does hair time did really work bought dvd used\n"
     ]
    }
   ],
   "source": [
    "top_features(6,15,model1)"
   ]
  },
  {
   "cell_type": "markdown",
   "metadata": {
    "id": "8dJEP36w073a"
   },
   "source": [
    "By comparing the number of cluster in the kmeans model, we essentially notice that cluster 3 have effective grouping of text than the cluster 6.\n",
    "\n",
    "The clusters are product/album, camera/flash/battery, book/storey/author."
   ]
  },
  {
   "cell_type": "markdown",
   "metadata": {
    "id": "D0FN6C-kTYpP"
   },
   "source": [
    "## Problem 3: Compare clusterings using the Rand index"
   ]
  },
  {
   "cell_type": "markdown",
   "metadata": {
    "id": "opDFih6QTYpP"
   },
   "source": [
    "In some scenarios, you may have gold-standard class labels available for at least a subset of your documents. In these cases you can compute the **Rand index** of a clustering, and use this measure to compare the quality of different clusterings.\n",
    "\n",
    "To compute the Rand index, we view a clustering as a binary classifier on (unordered) pairs of documents. The classifier predicts &lsquo;positive&rsquo; if and only if the two documents belong to the same cluster. The (non-normalized) Rand index of the clustering is the accuracy of this classifier relative to a reference in which a document pair belongs to the &lsquo;positive&rsquo; class if and only if the two documents in the pair have the same gold-standard class label.\n",
    "\n",
    "Compare clusterings with $k \\in \\{1,3,5,7\\}$ clusters. As your evaluation data, use the first 500 documents from the original data set along with their gold-standard categories (from the `category` column). What do you observe? How do you interpret your observations?"
   ]
  },
  {
   "cell_type": "code",
   "execution_count": 13,
   "metadata": {
    "id": "S39s7deQAkYB"
   },
   "outputs": [],
   "source": [
    "from sklearn.metrics.cluster import rand_score\n",
    "df[\"category\"].unique()\n",
    "k = [1,3,5,7]"
   ]
  },
  {
   "cell_type": "code",
   "execution_count": 14,
   "metadata": {
    "id": "gCCHX3eydYs5"
   },
   "outputs": [],
   "source": [
    "def rand_index_fn (clusters,classes):\n",
    "  output = []\n",
    "  for i in range(0,500):         # comparing the classes label of the documnets\n",
    "    for j in range(i+1,500):\n",
    "      if (classes[i] == classes[j]):\n",
    "        if (clusters[i] == clusters[j]):    # same cluster /same classes document to find the true positive \n",
    "          output.append(1)\n",
    "        else:\n",
    "            output.append(0)                # False positive\n",
    "      else:\n",
    "        if (clusters[i] == clusters[j]):    # classes are different / clusters are same\n",
    "          output.append(0)                  # False negatives \n",
    "        else:\n",
    "            output.append(1)                # true negatives\n",
    "  return(output)\n",
    "\n"
   ]
  },
  {
   "cell_type": "code",
   "execution_count": 15,
   "metadata": {
    "id": "9o-erpAhDDdG"
   },
   "outputs": [],
   "source": [
    "data = df[:500]\n",
    "reviews_5 = vectorizer.fit_transform(data[\"text\"])\n",
    "v=[]\n",
    "n=[]\n",
    "for i in k:\n",
    "  # kmeans model with different clusters\n",
    "  model2 = KMeans(n_clusters=i,n_init = 6 ).fit(reviews_5)\n",
    "  prediction2 = model2.predict(reviews_5)\n",
    "  # using the rand index function\n",
    "  rand = rand_index_fn(data[\"category\"],prediction2)\n",
    "  v.append(round(sum(rand)/len(rand),2))\n",
    "  # using the rand score library\n",
    "  n.append(round(rand_score(data[\"category\"],prediction2),2))\n",
    "  \n"
   ]
  },
  {
   "cell_type": "code",
   "execution_count": 16,
   "metadata": {
    "colab": {
     "base_uri": "https://localhost:8080/"
    },
    "id": "lIQJ15SlKXxK",
    "outputId": "855a1ac0-ee5b-47c4-dbf4-380e70cb1c3f"
   },
   "outputs": [
    {
     "name": "stdout",
     "output_type": "stream",
     "text": [
      "[0.17, 0.68, 0.75, 0.8]\n",
      "[0.17, 0.68, 0.75, 0.8]\n"
     ]
    }
   ],
   "source": [
    "print(n)\n",
    "print(v)"
   ]
  },
  {
   "cell_type": "markdown",
   "metadata": {
    "id": "ipNtihYeTYpQ"
   },
   "source": [
    " The Rand index score of the model is very less when we keep cluster k = 1 and 3 . After increasing the cluster k = 5 and 7, the model is performing well to group the data into a different. so, in this case optimal cluster value for this data is 5\n",
    "\n"
   ]
  },
  {
   "cell_type": "markdown",
   "metadata": {
    "id": "tMTDz0tMTYpQ"
   },
   "source": [
    "## Topic modelling data set"
   ]
  },
  {
   "cell_type": "markdown",
   "metadata": {
    "id": "NmbiBf2hTYpQ"
   },
   "source": [
    "The data set for the topic modelling part of this lab is the collection of all [State of the Union](https://en.wikipedia.org/wiki/State_of_the_Union) addresses from the years 1975–2000. These speeches come as a single text file with one sentence per line. The following code cell prints the first 5 lines from the data file:"
   ]
  },
  {
   "cell_type": "code",
   "execution_count": 17,
   "metadata": {
    "colab": {
     "base_uri": "https://localhost:8080/"
    },
    "id": "Btib6iorTYpQ",
    "outputId": "932b16a1-9136-402b-ae55-cf400f1fe352"
   },
   "outputs": [
    {
     "name": "stdout",
     "output_type": "stream",
     "text": [
      "mr speaker mr vice president members of the 94th congress and distinguished guests\n",
      "twenty six years ago a freshman congressman a young fellow with lots of idealism who was out to change the world stood before sam rayburn in the well of the house and solemnly swore to the same oath that all of you took yesterday an unforgettable experience and i congratulate you all\n",
      "two days later that same freshman stood at the back of this great chamber over there someplace as president truman all charged up by his single handed election victory reported as the constitution requires on the state of the union\n",
      "when the bipartisan applause stopped president truman said i am happy to report to this 81st congress that the state of the union is good our nation is better able than ever before to meet the needs of the american people and to give them their fair chance in the pursuit of happiness it is foremost among the nations of the world in the search for peace\n",
      "today that freshman member from michigan stands where mr truman stood and i must say to you that the state of the union is not good\n",
      "millions of americans are out of work\n"
     ]
    }
   ],
   "source": [
    "with open('/content/sample_data/sotu_1975_2000.txt') as source:\n",
    "    for i, line in enumerate(source):\n",
    "        print(line.rstrip())\n",
    "        if i >= 5:\n",
    "            break"
   ]
  },
  {
   "cell_type": "markdown",
   "metadata": {
    "id": "wZjrwkipTYpR"
   },
   "source": [
    "Take a few minutes to think about what topics you would expect in this data set."
   ]
  },
  {
   "cell_type": "markdown",
   "metadata": {
    "id": "xH43Qzgy-egZ"
   },
   "source": [
    "We would emphasize that, the document explains on the political speeches of the party, president work and giving honour to the presendential person.\n",
    "\n"
   ]
  },
  {
   "cell_type": "markdown",
   "metadata": {
    "id": "U0LiluRrTYpR"
   },
   "source": [
    "## Problem 4: Train a topic model"
   ]
  },
  {
   "cell_type": "markdown",
   "metadata": {
    "id": "KDRh9p7oTYpR"
   },
   "source": [
    "Your first task on the topic modelling data is to train an LDA model. For this task you will be using [spaCy](https://spacy.io/) and the [gensim](https://radimrehurek.com/gensim/) topic modelling library.\n",
    "\n",
    "Start by preprocessing the data using spaCy. Given that the data set for this problem is rather small, you do not have to exclude any components from the standard pipeline. Filter out stop words, non-alphabetic tokens, and tokens less than 3 characters in length. Store the documents as a nested list where the first level of nesting corresponds to the sentences and the second level corresponds to the tokens in each sentence."
   ]
  },
  {
   "cell_type": "code",
   "execution_count": 18,
   "metadata": {
    "id": "oYIJCXVPTYpR"
   },
   "outputs": [],
   "source": [
    "     # TODO: Replace the following lines with your own code for preprocessing the documents\n",
    "with open('/content/sample_data/sotu_1975_2000.txt') as source:\n",
    "    documents = [line.split() for line in source]"
   ]
  },
  {
   "cell_type": "markdown",
   "metadata": {
    "id": "KLeDGJKxTYpR"
   },
   "source": [
    "Test your preprocessing by running the following cell:"
   ]
  },
  {
   "cell_type": "code",
   "execution_count": 19,
   "metadata": {
    "colab": {
     "base_uri": "https://localhost:8080/",
     "height": 35
    },
    "id": "SrKeWL-HTYpR",
    "outputId": "5fb8975e-cc11-4fd1-9044-e1be9aae6155"
   },
   "outputs": [
    {
     "data": {
      "application/vnd.google.colaboratory.intrinsic+json": {
       "type": "string"
      },
      "text/plain": [
       "'first we must reduce oil imports by 1 million barrels per day by the end of this year and by 2 million barrels per day by the end of 1977'"
      ]
     },
     "execution_count": 19,
     "metadata": {},
     "output_type": "execute_result"
    }
   ],
   "source": [
    "' '.join(documents[42])"
   ]
  },
  {
   "cell_type": "code",
   "execution_count": 20,
   "metadata": {
    "id": "Y6qvW-QJGk8g"
   },
   "outputs": [],
   "source": [
    "import spacy\n",
    "nlp = spacy.load(\"en_core_web_sm\")"
   ]
  },
  {
   "cell_type": "code",
   "execution_count": 21,
   "metadata": {
    "id": "-RYLG26OGsiQ"
   },
   "outputs": [],
   "source": [
    "def preprocess(text):\n",
    "  # join the every tokens into string\n",
    "  text = ' '.join(text)\n",
    "  # tokenization and removing stop words\n",
    "  token = [t for t in nlp(text) if not t.is_stop] \n",
    "  # lemmatization\n",
    "  lemma = [lem.lemma_ for lem in token]\n",
    "  # removing the non-alphabetic words\n",
    "  return [i for i in lemma if i.isalpha()]"
   ]
  },
  {
   "cell_type": "code",
   "execution_count": 22,
   "metadata": {
    "id": "E8NQ4JXzKula"
   },
   "outputs": [],
   "source": [
    "d= [] # save the preprocessed documents in a list\n",
    "for i in range(len(documents)):\n",
    "  d.append(preprocess(documents[i]))"
   ]
  },
  {
   "cell_type": "markdown",
   "metadata": {
    "id": "GCez6qV_TYpR"
   },
   "source": [
    "You should get the following output:"
   ]
  },
  {
   "cell_type": "code",
   "execution_count": 23,
   "metadata": {
    "colab": {
     "base_uri": "https://localhost:8080/",
     "height": 35
    },
    "id": "ypuGmNFXLO1u",
    "outputId": "91eb44ef-347a-4412-ac0b-dd39c75fdfd5"
   },
   "outputs": [
    {
     "data": {
      "application/vnd.google.colaboratory.intrinsic+json": {
       "type": "string"
      },
      "text/plain": [
       "'reduce oil import million barrel day end year million barrel day end'"
      ]
     },
     "execution_count": 23,
     "metadata": {},
     "output_type": "execute_result"
    }
   ],
   "source": [
    "' '.join(d[42])"
   ]
  },
  {
   "cell_type": "code",
   "execution_count": 24,
   "metadata": {
    "colab": {
     "base_uri": "https://localhost:8080/"
    },
    "id": "idgR7Hjx5tqg",
    "outputId": "181d3172-f27b-4942-90ff-4c66db0ce0cf"
   },
   "outputs": [
    {
     "data": {
      "text/plain": [
       "2898"
      ]
     },
     "execution_count": 24,
     "metadata": {},
     "output_type": "execute_result"
    }
   ],
   "source": [
    "len(d)"
   ]
  },
  {
   "cell_type": "raw",
   "metadata": {
    "id": "boDm-gWITYpS"
   },
   "source": [
    "'reduce oil imports million barrels day end year million barrels day end'"
   ]
  },
  {
   "cell_type": "markdown",
   "metadata": {
    "id": "2Vb7DqXZTYpS"
   },
   "source": [
    "Once you have the list of documents, skim the section [Pre-process and vectorize the documents](https://radimrehurek.com/gensim/auto_examples/tutorials/run_lda.html#pre-process-and-vectorize-the-documents) of the gensim documentation to learn how to create the dictionary and the vectorized corpus representation required by gensim. (Note that you cannot use the standard scikit-learn pipeline in this case.) Then, write code to train an [LdaModel](https://radimrehurek.com/gensim/models/ldamodel.html) for $k=10$ topics, and using default values for all other parameters."
   ]
  },
  {
   "cell_type": "code",
   "execution_count": 25,
   "metadata": {
    "id": "aacMMvbRTYpS"
   },
   "outputs": [],
   "source": [
    "import gensim\n",
    "from gensim.test.utils import common_texts\n",
    "from gensim.corpora.dictionary import Dictionary\n",
    "from gensim.models import LdaModel"
   ]
  },
  {
   "cell_type": "code",
   "execution_count": 26,
   "metadata": {
    "id": "OmZ36LbhdcaQ"
   },
   "outputs": [],
   "source": [
    "# Create a corpus from a list of texts\n",
    "common_dictionary = Dictionary(d)\n",
    "\n",
    "# Filter out words that occur less than 20 documents, or more than 50% of the documents.\n",
    "common_dictionary.filter_extremes(no_below=20, no_above=0.5)\n",
    "corpus = [common_dictionary.doc2bow(text) for text in d]\n",
    "\n",
    "temp = common_dictionary[0]  # This is only to \"load\" the dictionary.\n",
    "id2word = common_dictionary.id2token\n",
    "# Train the model on the corpus.\n",
    "model = LdaModel(\n",
    "    corpus=corpus,\n",
    "    id2word=id2word,\n",
    "    num_topics = 10\n",
    ")"
   ]
  },
  {
   "cell_type": "code",
   "execution_count": 27,
   "metadata": {
    "colab": {
     "base_uri": "https://localhost:8080/"
    },
    "id": "vrZ6nb1x8vYF",
    "outputId": "52cc5372-e8d7-4925-daea-f6a557a4e669"
   },
   "outputs": [
    {
     "name": "stdout",
     "output_type": "stream",
     "text": [
      "721\n",
      "2898\n"
     ]
    }
   ],
   "source": [
    "print(len(common_dictionary))\n",
    "print(len(corpus))"
   ]
  },
  {
   "cell_type": "markdown",
   "metadata": {
    "id": "C4zE9LF7TYpS"
   },
   "source": [
    "Once you have a trained model, run the following cell to print the topics:"
   ]
  },
  {
   "cell_type": "code",
   "execution_count": 28,
   "metadata": {
    "colab": {
     "base_uri": "https://localhost:8080/"
    },
    "id": "j9t1tDpcTYpS",
    "outputId": "7af084c6-3574-42c4-b408-3caf7d49e0e1"
   },
   "outputs": [
    {
     "data": {
      "text/plain": [
       "[(0,\n",
       "  '0.021*\"new\" + 0.021*\"s\" + 0.014*\"president\" + 0.014*\"year\" + 0.013*\"school\" + 0.013*\"congress\" + 0.013*\"america\" + 0.013*\"government\" + 0.012*\"mr\" + 0.011*\"world\"'),\n",
       " (1,\n",
       "  '0.040*\"s\" + 0.016*\"child\" + 0.015*\"america\" + 0.014*\"people\" + 0.013*\"year\" + 0.011*\"drug\" + 0.010*\"program\" + 0.009*\"world\" + 0.008*\"national\" + 0.008*\"health\"'),\n",
       " (2,\n",
       "  '0.017*\"year\" + 0.014*\"work\" + 0.013*\"people\" + 0.013*\"new\" + 0.012*\"s\" + 0.012*\"help\" + 0.011*\"community\" + 0.011*\"america\" + 0.010*\"program\" + 0.010*\"world\"'),\n",
       " (3,\n",
       "  '0.030*\"work\" + 0.025*\"people\" + 0.018*\"welfare\" + 0.017*\"year\" + 0.017*\"child\" + 0.015*\"s\" + 0.015*\"congress\" + 0.014*\"let\" + 0.013*\"community\" + 0.012*\"help\"'),\n",
       " (4,\n",
       "  '0.030*\"year\" + 0.014*\"work\" + 0.014*\"people\" + 0.013*\"s\" + 0.013*\"rate\" + 0.012*\"new\" + 0.010*\"america\" + 0.010*\"wage\" + 0.009*\"congress\" + 0.009*\"american\"'),\n",
       " (5,\n",
       "  '0.025*\"thank\" + 0.022*\"s\" + 0.018*\"year\" + 0.017*\"know\" + 0.012*\"think\" + 0.012*\"world\" + 0.011*\"nation\" + 0.010*\"americans\" + 0.010*\"tonight\" + 0.010*\"god\"'),\n",
       " (6,\n",
       "  '0.027*\"year\" + 0.026*\"child\" + 0.021*\"s\" + 0.019*\"school\" + 0.018*\"work\" + 0.016*\"america\" + 0.015*\"new\" + 0.015*\"t\" + 0.011*\"family\" + 0.010*\"college\"'),\n",
       " (7,\n",
       "  '0.040*\"s\" + 0.025*\"america\" + 0.016*\"year\" + 0.016*\"time\" + 0.014*\"people\" + 0.012*\"government\" + 0.011*\"world\" + 0.011*\"good\" + 0.011*\"support\" + 0.010*\"country\"'),\n",
       " (8,\n",
       "  '0.019*\"work\" + 0.017*\"new\" + 0.017*\"year\" + 0.017*\"americans\" + 0.016*\"security\" + 0.015*\"health\" + 0.014*\"nation\" + 0.013*\"s\" + 0.012*\"care\" + 0.012*\"social\"'),\n",
       " (9,\n",
       "  '0.017*\"new\" + 0.015*\"year\" + 0.015*\"america\" + 0.014*\"nation\" + 0.012*\"responsibility\" + 0.011*\"challenge\" + 0.011*\"state\" + 0.011*\"family\" + 0.010*\"government\" + 0.010*\"world\"')]"
      ]
     },
     "execution_count": 28,
     "metadata": {},
     "output_type": "execute_result"
    }
   ],
   "source": [
    "model.print_topics()"
   ]
  },
  {
   "cell_type": "markdown",
   "metadata": {
    "id": "V4DQDGeETYpS"
   },
   "source": [
    "Inspect the topics. Can you &lsquo;label&rsquo; each topic with a short description of what it is about? Do the topics match your expectations? Summarize your discussion in a short text."
   ]
  },
  {
   "cell_type": "markdown",
   "metadata": {
    "id": "YWlGU0S2TYpS"
   },
   "source": [
    "These are topics which we expect fromt this model,\n",
    "Topic 1 : Budget and welfare of America and people.\n",
    "Topic 2 : schools and Education of childrens\n",
    "Topic 3 : Challenges of people in America\n",
    "Topic 4 : Drug traficking and child crime\n",
    "Topic 5 : Employee right and Act\n",
    "Topic 6 : Health and support to the people\n",
    "Topic 7 : Job and Work of People and congress\n",
    "Topic 8 : world nations and countries work\n",
    "Topic 9 : Social security program and support from government\n"
   ]
  },
  {
   "cell_type": "markdown",
   "metadata": {
    "id": "4VmJUf9mTYpT"
   },
   "source": [
    "## Problem 5: Monitor a topic model for convergence"
   ]
  },
  {
   "cell_type": "markdown",
   "metadata": {
    "id": "i-ny99cdTYpT"
   },
   "source": [
    "When learning an LDA model, it is important to make sure that the training algorithm has converged to a stable posterior distribution. One way to do so is to plot, after each training epochs (or &lsquo;pass&rsquo;, in gensim parlance) the log likelihood of the training data under the posterior. Your last task in this lab is to create such a plot and, based on this, to suggest an appropriate number of epochs.\n",
    "\n",
    "To collect information about the posterior likelihood after each pass, we need to enable the logging facilities of gensim. Once this is done, gensim will add various diagnostics to a log file `gensim.log`."
   ]
  },
  {
   "cell_type": "code",
   "execution_count": 29,
   "metadata": {
    "id": "4QE49pQtTYpT"
   },
   "outputs": [],
   "source": [
    "import logging\n",
    "\n",
    "logging.basicConfig(filename='gensim.log', format='%(asctime)s:%(levelname)s:%(message)s', level=logging.INFO)"
   ]
  },
  {
   "cell_type": "markdown",
   "metadata": {
    "id": "omNpXqy5TYpT"
   },
   "source": [
    "The following function will parse the generated logfile and return the list of log likelihoods."
   ]
  },
  {
   "cell_type": "code",
   "execution_count": 30,
   "metadata": {
    "id": "tc-Y13xUTYpT"
   },
   "outputs": [],
   "source": [
    "import re\n",
    "from matplotlib import pyplot as plt\n",
    "\n",
    "def parse_logfile():\n",
    "    matcher = re.compile('(-*\\d+\\.\\d+) per-word .* (\\d+\\.\\d+) perplexity')\n",
    "    likelihoods = []\n",
    "    with open('gensim.log') as source:\n",
    "        for line in source:\n",
    "            match = matcher.search(line)\n",
    "            if match:\n",
    "                likelihoods.append(float(match.group(1)))\n",
    "    return likelihoods"
   ]
  },
  {
   "cell_type": "markdown",
   "metadata": {
    "id": "T3OYJI6NTYpT"
   },
   "source": [
    "Your task now is to re-train your LDA model for 50&nbsp;passes, retrieve the list of log likelihoods, and create a plot from this data."
   ]
  },
  {
   "cell_type": "code",
   "execution_count": 31,
   "metadata": {
    "id": "vCTWrlMWTYpT"
   },
   "outputs": [],
   "source": [
    "model = LdaModel(\n",
    "    corpus=corpus,\n",
    "    id2word=id2word,\n",
    "    num_topics = 10,\n",
    "    passes = 50\n",
    ") "
   ]
  },
  {
   "cell_type": "code",
   "execution_count": 32,
   "metadata": {
    "colab": {
     "base_uri": "https://localhost:8080/",
     "height": 282
    },
    "id": "VY6qQG0JmMmo",
    "outputId": "7ff15a77-9580-4183-e786-97eb8d4dcc85"
   },
   "outputs": [
    {
     "name": "stdout",
     "output_type": "stream",
     "text": [
      "LdaModel(num_terms=721, num_topics=10, decay=0.5, chunksize=2000)\n"
     ]
    },
    {
     "data": {
      "image/png": "[encoded data removed]",
      "text/plain": [
       "<Figure size 432x288 with 1 Axes>"
      ]
     },
     "metadata": {
      "needs_background": "light"
     },
     "output_type": "display_data"
    }
   ],
   "source": [
    "print(model)\n",
    "llik = parse_logfile()\n",
    "plt.plot(llik)\n",
    "plt.grid()"
   ]
  },
  {
   "cell_type": "code",
   "execution_count": 33,
   "metadata": {
    "colab": {
     "base_uri": "https://localhost:8080/"
    },
    "id": "7cxjTkx590Cq",
    "outputId": "40c2f6d5-c5e2-4cbb-dd2c-f63f8885bb73"
   },
   "outputs": [
    {
     "name": "stdout",
     "output_type": "stream",
     "text": [
      "48\n"
     ]
    },
    {
     "data": {
      "text/plain": [
       "-6.068"
      ]
     },
     "execution_count": 33,
     "metadata": {},
     "output_type": "execute_result"
    }
   ],
   "source": [
    "print(np.argmax(llik))\n",
    "np.max(llik)"
   ]
  },
  {
   "cell_type": "markdown",
   "metadata": {
    "id": "RK_-0DULTYpT"
   },
   "source": [
    "How do you interpret your plot? Based on the plot, what would be a reasonable choice for the number of passes? Retrain your LDA model with that number and re-inspect the topics it finds. Do you consider the new topics to be &lsquo;better&rsquo; than the ones that you got from the 1-pass model in Problem&nbsp;5?"
   ]
  },
  {
   "cell_type": "markdown",
   "metadata": {
    "id": "ZpENbK8STYpU"
   },
   "source": [
    "The plot describes how it begins to plateu, this means there is no reason to have more passes than about 40 as it does not increase the performance by much.\n",
    "\n",
    "With training with 40 passes overall they seem very similar. ."
   ]
  },
  {
   "cell_type": "code",
   "execution_count": 34,
   "metadata": {
    "id": "gLcY2aJA9-fc"
   },
   "outputs": [],
   "source": [
    "lda = gensim.models.ldamodel.LdaModel(\n",
    "    corpus=corpus,\n",
    "    num_topics=10,\n",
    "    id2word=common_dictionary,\n",
    "    passes=40   \n",
    ")\n"
   ]
  },
  {
   "cell_type": "code",
   "execution_count": 35,
   "metadata": {
    "colab": {
     "base_uri": "https://localhost:8080/"
    },
    "id": "1wbA4YGm0tTN",
    "outputId": "ad9d04b2-0693-4973-c0b5-b86cf519f884"
   },
   "outputs": [
    {
     "data": {
      "text/plain": [
       "[(0,\n",
       "  '0.040*\"world\" + 0.037*\"america\" + 0.032*\"year\" + 0.025*\"nation\" + 0.019*\"freedom\" + 0.017*\"people\" + 0.016*\"peace\" + 0.015*\"s\" + 0.015*\"american\" + 0.015*\"great\"'),\n",
       " (1,\n",
       "  '0.044*\"s\" + 0.037*\"people\" + 0.027*\"know\" + 0.021*\"american\" + 0.019*\"world\" + 0.018*\"right\" + 0.018*\"way\" + 0.017*\"far\" + 0.017*\"middle\" + 0.017*\"east\"'),\n",
       " (2,\n",
       "  '0.057*\"year\" + 0.044*\"s\" + 0.028*\"congress\" + 0.021*\"let\" + 0.018*\"ask\" + 0.017*\"pass\" + 0.016*\"college\" + 0.016*\"education\" + 0.015*\"save\" + 0.015*\"bill\"'),\n",
       " (3,\n",
       "  '0.028*\"program\" + 0.026*\"year\" + 0.026*\"federal\" + 0.023*\"budget\" + 0.021*\"government\" + 0.017*\"increase\" + 0.015*\"energy\" + 0.014*\"administration\" + 0.014*\"billion\" + 0.013*\"percent\"'),\n",
       " (4,\n",
       "  '0.042*\"work\" + 0.042*\"family\" + 0.037*\"health\" + 0.037*\"care\" + 0.029*\"welfare\" + 0.028*\"child\" + 0.024*\"job\" + 0.024*\"tax\" + 0.021*\"million\" + 0.019*\"people\"'),\n",
       " (5,\n",
       "  '0.060*\"new\" + 0.040*\"community\" + 0.023*\"work\" + 0.021*\"government\" + 0.017*\"century\" + 0.017*\"america\" + 0.017*\"technology\" + 0.015*\"way\" + 0.015*\"private\" + 0.014*\"economy\"'),\n",
       " (6,\n",
       "  '0.029*\"crime\" + 0.023*\"drug\" + 0.022*\"law\" + 0.021*\"woman\" + 0.018*\"right\" + 0.017*\"people\" + 0.016*\"ask\" + 0.015*\"work\" + 0.015*\"support\" + 0.014*\"house\"'),\n",
       " (7,\n",
       "  '0.028*\"united\" + 0.025*\"s\" + 0.024*\"states\" + 0.023*\"security\" + 0.023*\"nuclear\" + 0.023*\"nation\" + 0.020*\"soviet\" + 0.016*\"force\" + 0.016*\"continue\" + 0.016*\"world\"'),\n",
       " (8,\n",
       "  '0.052*\"child\" + 0.045*\"s\" + 0.038*\"school\" + 0.026*\"t\" + 0.023*\"america\" + 0.015*\"good\" + 0.015*\"parent\" + 0.015*\"help\" + 0.013*\"teacher\" + 0.013*\"know\"'),\n",
       " (9,\n",
       "  '0.063*\"president\" + 0.045*\"congress\" + 0.037*\"state\" + 0.027*\"union\" + 0.023*\"let\" + 0.022*\"member\" + 0.021*\"mr\" + 0.020*\"americans\" + 0.018*\"know\" + 0.018*\"fellow\"')]"
      ]
     },
     "execution_count": 35,
     "metadata": {},
     "output_type": "execute_result"
    }
   ],
   "source": [
    "lda.print_topics()"
   ]
  },
  {
   "cell_type": "markdown",
   "metadata": {
    "id": "AiX9oUHXTYpU"
   },
   "source": [
    "<div class=\"alert alert-info\">\n",
    "    Please read the section ‘General information’ on the ‘Labs’ page of the course website before submitting this notebook!\n",
    "</div>"
   ]
  },
  {
   "cell_type": "markdown",
   "metadata": {
    "id": "sZVAec2S9t-t"
   },
   "source": [
    "Reflection questions\n",
    "The following reflection questions are questions that you could be asked in the oral exam. Try to answer each of them in the form of a short text and enter it in the cell below. You will get feedback on your answers from your lab assistant.\n",
    "\n",
    "RQ 3.1: Based on your experiments in Problem 2 and Problem 3, what is the relation between the quality of a clustering and the number of clusters? What happens when the number of clusters is too low, or too high? For this particular data set, what would a ‘good’ number of clusters be?\n",
    "\n",
    "RQ 3.2: Explain why it is important to monitor an LDA model for convergence and not simply use, say, 1000 passes. How is the log likelihood used in this context? Were the topics from the multi-pass model ‘better’ than the topics from the 1-pass model?\n",
    "\n",
    "RQ 3.3: What are the differences between $k$-means and LDA? When would you use one, when the other?\n",
    "\n",
    "TODO: \n",
    "\n",
    "ANS 3.1 : The relation between the quality of clustering and the number of clusters is as the number of clusters increase the quality if clusters also increases. When the number of clusters is too high, then the quality of cluster is better than when the number of clusters is too low. When the number of clusters is too low then the quality of cluster is poor since all the classes gets identified with those low number of clusters.\n",
    "\n",
    "For this particular dataset the optimal or \"good\" number of clusters would be 7\n",
    "\n",
    "\n",
    "ANS 3.2 : It is important to monitor the LDA model for convergence because of computation cost and time. This also dpends upon the corpus size , if we have a large corpus then we might get away with a few number of passes. The log-likelihood helps us to caluclate the probability of the training data after each pass to determine the optimal number of pass. The topics seems to perform better in multi-pass models\n",
    "\n",
    "\n",
    "ANS 3.3 : K-means is an hard clustering algorithm which is more suited for trivial clustering/classification tasks where we know for sure that this data point belongs to this cluster. Where as the LDA is a soft Clustering algorithm where we insted of saying that a data point  belongs to this cluster compeletely , we calculate the probability of the data point belonging to differenet clusters. \n",
    "\n",
    "Congratulations on finishing L3! 👍"
   ]
  }
 ],
 "metadata": {
  "colab": {
   "collapsed_sections": [],
   "name": "TM-L3.ipynb",
   "provenance": []
  },
  "kernelspec": {
   "display_name": "Python 3",
   "language": "python",
   "name": "python3"
  },
  "language_info": {
   "codemirror_mode": {
    "name": "ipython",
    "version": 3
   },
   "file_extension": ".py",
   "mimetype": "text/x-python",
   "name": "python",
   "nbconvert_exporter": "python",
   "pygments_lexer": "ipython3",
   "version": "3.8.8"
  }
 },
 "nbformat": 4,
 "nbformat_minor": 4
}
