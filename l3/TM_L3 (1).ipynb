{
  "nbformat": 4,
  "nbformat_minor": 0,
  "metadata": {
    "kernelspec": {
      "display_name": "Python 3",
      "language": "python",
      "name": "python3"
    },
    "language_info": {
      "codemirror_mode": {
        "name": "ipython",
        "version": 3
      },
      "file_extension": ".py",
      "mimetype": "text/x-python",
      "name": "python",
      "nbconvert_exporter": "python",
      "pygments_lexer": "ipython3",
      "version": "3.7.6"
    },
    "colab": {
      "name": "TM-L3.ipynb",
      "provenance": [],
      "collapsed_sections": [],
      "toc_visible": true
    }
  },
  "cells": [
    {
      "cell_type": "markdown",
      "metadata": {
        "id": "E8oV1ec1TYpA"
      },
      "source": [
        "# L3: Text clustering and topic modelling"
      ]
    },
    {
      "cell_type": "markdown",
      "metadata": {
        "id": "B0V1V7jSTYpF"
      },
      "source": [
        "Text clustering groups documents in such a way that documents within a group are more &lsquo;similar&rsquo; to other documents in the cluster than to documents not in the cluster. The exact definition of what &lsquo;similar&rsquo; means in this context varies across applications and clustering algorithms.\n",
        "\n",
        "In this lab you will experiment with both hard and soft clustering techniques. More specifically, in the first part you will be using the $k$-means algorithm, and in the second part you will be using a topic model based on the Latent Dirichlet Allocation (LDA)."
      ]
    },
    {
      "cell_type": "markdown",
      "metadata": {
        "id": "iga4pni_TYpG"
      },
      "source": [
        "## Hard clustering data set"
      ]
    },
    {
      "cell_type": "markdown",
      "metadata": {
        "id": "InfgJt-nTYpG"
      },
      "source": [
        "The raw data for the hard clustering part of this lab is a collection of product reviews. We have preprocessed the data by tokenization and lowercasing."
      ]
    },
    {
      "cell_type": "code",
      "metadata": {
        "id": "6ZbXbztUTYpH"
      },
      "source": [
        "import pandas as pd\n",
        "import bz2\n",
        "\n",
        "with bz2.open('/content/sample_data/reviews.json.bz2') as source:\n",
        "    df = pd.read_json(source)"
      ],
      "execution_count": 1,
      "outputs": []
    },
    {
      "cell_type": "markdown",
      "metadata": {
        "id": "b8wDEnJMTYpI"
      },
      "source": [
        "When you inspect the data frame, you can see that there are three labelled columns: `category` (the product category), `sentiment` (whether the product review was classified as &lsquo;positive&rsquo; or &lsquo;negative&rsquo; towards the product), and `text` (the space-separated text of the review)."
      ]
    },
    {
      "cell_type": "code",
      "metadata": {
        "colab": {
          "base_uri": "https://localhost:8080/"
        },
        "id": "6BoOohyTTYpI",
        "outputId": "e9943e06-180e-43dc-8fe1-75b4b2c869a7"
      },
      "source": [
        "print(df.head())\n",
        "print(df.shape)"
      ],
      "execution_count": 2,
      "outputs": [
        {
          "output_type": "stream",
          "name": "stdout",
          "text": [
            "  category sentiment                                               text\n",
            "0    music       neg  i bought this album because i loved the title ...\n",
            "1    music       neg  i was misled and thought i was buying the enti...\n",
            "2    books       neg  i have introduced many of my ell , high school...\n",
            "3    books       pos  anything you purchase in the left behind serie...\n",
            "4      dvd       pos  i loved these movies , and i cant wiat for the...\n",
            "(11914, 3)\n"
          ]
        }
      ]
    },
    {
      "cell_type": "markdown",
      "metadata": {
        "id": "j7a4mv29TYpJ"
      },
      "source": [
        "## Problem 1: K-means clustering"
      ]
    },
    {
      "cell_type": "markdown",
      "metadata": {
        "id": "czHXECl5TYpJ"
      },
      "source": [
        "Your first task is to cluster the product review data using a tf–idf vectorizer and a $k$-means clusterer."
      ]
    },
    {
      "cell_type": "markdown",
      "metadata": {
        "id": "2PNvnfX7TYpK"
      },
      "source": [
        "Start by doing the vectorization. In connection with vectorization, you should also filter out standard English stop words. While you could use [spaCy](https://spacy.io/) for this task, here it suffices to use the word list implemented in [TfidfVectorizer](https://scikit-learn.org/stable/modules/generated/sklearn.feature_extraction.text.TfidfVectorizer.html)."
      ]
    },
    {
      "cell_type": "code",
      "metadata": {
        "id": "x8mt5ZdOTYpL"
      },
      "source": [
        "import spacy\n",
        "import collections\n",
        "import seaborn as sns\n",
        "import matplotlib.pyplot as plt\n",
        "from sklearn.cluster import KMeans\n",
        "import numpy as np\n",
        "from sklearn.feature_extraction.text import TfidfVectorizer"
      ],
      "execution_count": 3,
      "outputs": []
    },
    {
      "cell_type": "code",
      "metadata": {
        "id": "eLkZf3tRXR88"
      },
      "source": [
        "vectorizer = TfidfVectorizer(stop_words = \"english\")\n",
        "reviews = vectorizer.fit_transform(df[\"text\"])"
      ],
      "execution_count": 4,
      "outputs": []
    },
    {
      "cell_type": "markdown",
      "metadata": {
        "id": "w1BPhxKITYpL"
      },
      "source": [
        "Test your vectorization by running the following code cell:"
      ]
    },
    {
      "cell_type": "code",
      "metadata": {
        "colab": {
          "base_uri": "https://localhost:8080/"
        },
        "id": "Q0XDNeXhTYpL",
        "outputId": "ebdbc7df-9059-4682-81fc-7974f392f32e"
      },
      "source": [
        "reviews.shape"
      ],
      "execution_count": 5,
      "outputs": [
        {
          "output_type": "execute_result",
          "data": {
            "text/plain": [
              "(11914, 46619)"
            ]
          },
          "metadata": {},
          "execution_count": 5
        }
      ]
    },
    {
      "cell_type": "markdown",
      "metadata": {
        "id": "4GiKGmT9TYpM"
      },
      "source": [
        "If you used the English stop word list from scikit-learn, then the resulting vocabulary should have 46,619 entries."
      ]
    },
    {
      "cell_type": "markdown",
      "metadata": {
        "id": "CWIEwsH7TYpM"
      },
      "source": [
        "Next, cluster the vectorized data. Before doing so, you should read the documentation of the [KMeans](https://scikit-learn.org/stable/modules/generated/sklearn.cluster.KMeans.html) class, which is scikit-learn&rsquo;s implementation of the $k$-means algorithm. As you can see, this class has several parameters that you can tweak. For now, the only parameter that you will have to set is the number of clusters. We recommend that you choose $k=3$.\n",
        "\n",
        "**Tip:** Training $k$-means models will take some time. To speed things up, you can use the `n_init` parameter to control the number of times that the clustering is re-computed with different initial values. The default value for this parameter is 10; here and in the rest of this lab, you may want to set this to a lower value."
      ]
    },
    {
      "cell_type": "code",
      "metadata": {
        "id": "U5oIsZ9PTYpM"
      },
      "source": [
        "# TODO: Enter code here to cluster the vectorized data\n",
        "model = KMeans(n_clusters=3,n_init = 6 ).fit(reviews)\n",
        "prediction = model.predict(reviews)"
      ],
      "execution_count": 6,
      "outputs": []
    },
    {
      "cell_type": "markdown",
      "metadata": {
        "id": "5wXszyDhTYpM"
      },
      "source": [
        "To sanity-check your clustering, create a bar plot with the number of documents per cluster."
      ]
    },
    {
      "cell_type": "code",
      "metadata": {
        "colab": {
          "base_uri": "https://localhost:8080/",
          "height": 354
        },
        "id": "5m_sv-NeTYpN",
        "outputId": "be1e3db1-6454-4397-d851-4ce40ce8c5b0"
      },
      "source": [
        "\n",
        "print(collections.Counter(prediction))\n",
        "sns.countplot(prediction)"
      ],
      "execution_count": 7,
      "outputs": [
        {
          "output_type": "stream",
          "name": "stdout",
          "text": [
            "Counter({0: 9384, 1: 1412, 2: 1118})\n"
          ]
        },
        {
          "output_type": "stream",
          "name": "stderr",
          "text": [
            "/usr/local/lib/python3.7/dist-packages/seaborn/_decorators.py:43: FutureWarning: Pass the following variable as a keyword arg: x. From version 0.12, the only valid positional argument will be `data`, and passing other arguments without an explicit keyword will result in an error or misinterpretation.\n",
            "  FutureWarning\n"
          ]
        },
        {
          "output_type": "execute_result",
          "data": {
            "text/plain": [
              "<matplotlib.axes._subplots.AxesSubplot at 0x7f83f46f4a50>"
            ]
          },
          "metadata": {},
          "execution_count": 7
        },
        {
          "output_type": "display_data",
          "data": {
            "image/png": "[encoded data removed]",
            "text/plain": [
              "<Figure size 432x288 with 1 Axes>"
            ]
          },
          "metadata": {
            "needs_background": "light"
          }
        }
      ]
    },
    {
      "cell_type": "markdown",
      "metadata": {
        "id": "G1AsbF4gTYpN"
      },
      "source": [
        "Note that sizes may vary considerable between clusters and among different random seeds."
      ]
    },
    {
      "cell_type": "markdown",
      "metadata": {
        "id": "-sFqA3ddTYpN"
      },
      "source": [
        "## Problem 2: Summarize clusters"
      ]
    },
    {
      "cell_type": "markdown",
      "metadata": {
        "id": "Bi_Ax-CUTYpN"
      },
      "source": [
        "Once you have a clustering, you can try to see whether it is meaningful. One useful technique in that context is to generate a **summary** for each cluster by extracting the $n$ highest-weighted terms from the centroid of each cluster. Your next task is to implement this approach.\n",
        "\n",
        "**Hint:** You will need to construct an &lsquo;inverted vocabulary&rsquo; that allows you to map from the index of a term back to the original term."
      ]
    },
    {
      "cell_type": "code",
      "metadata": {
        "colab": {
          "base_uri": "https://localhost:8080/"
        },
        "id": "wpKBBHDvrmY8",
        "outputId": "49606ff1-2a4f-471f-ed83-4fefa9966b54"
      },
      "source": [
        "model.cluster_centers_.argsort()[:,::-1]"
      ],
      "execution_count": 8,
      "outputs": [
        {
          "output_type": "execute_result",
          "data": {
            "text/plain": [
              "array([[24390, 32505, 27522, ..., 11250, 26109, 23309],\n",
              "       [ 5695, 33667,  5716, ..., 20423, 20424, 46618],\n",
              "       [ 6890, 24143, 31125, ..., 29580, 29579, 23309]])"
            ]
          },
          "metadata": {},
          "execution_count": 8
        }
      ]
    },
    {
      "cell_type": "code",
      "metadata": {
        "colab": {
          "base_uri": "https://localhost:8080/",
          "height": 35
        },
        "id": "7Hs92xNW3yUC",
        "outputId": "028697c0-d4ba-4619-824a-9da4b31ca943"
      },
      "source": [
        "t=vectorizer.get_feature_names_out()\n",
        "t[23309]"
      ],
      "execution_count": 9,
      "outputs": [
        {
          "output_type": "execute_result",
          "data": {
            "application/vnd.google.colaboratory.intrinsic+json": {
              "type": "string"
            },
            "text/plain": [
              "'kippurs'"
            ]
          },
          "metadata": {},
          "execution_count": 9
        }
      ]
    },
    {
      "cell_type": "code",
      "metadata": {
        "colab": {
          "base_uri": "https://localhost:8080/"
        },
        "id": "q5GS32ybr5AW",
        "outputId": "8314d066-0504-4021-a0d7-6c396b0b70fd"
      },
      "source": [
        "# source:https://stackoverflow.com/questions/47452119/kmean-clustering-top-terms-in-cluster\n",
        "\n",
        "def top_features(k,n,model):\n",
        "  order_centroids = model.cluster_centers_.argsort()[:, ::-1]  # sorting the values in the reverse order\n",
        "  terms = vectorizer.get_feature_names_out()                   # get the transformed features \n",
        "  for i in range(k):\n",
        "    print(\"Cluster %d:\" % i, end='')\n",
        "    for ind in order_centroids[i, :n]:                           \n",
        "      print(' %s' % terms[ind], end='') \n",
        "    print()\n",
        "\n",
        "top_features(3,15,model)"
      ],
      "execution_count": 10,
      "outputs": [
        {
          "output_type": "stream",
          "name": "stdout",
          "text": [
            "Cluster 0: like product movie great just good cd album use time does did really music work\n",
            "Cluster 1: book read books author reading story quot like just good written did great really people\n",
            "Cluster 2: camera lens pictures canon digital use battery flash quality great case good cameras picture zoom\n"
          ]
        }
      ]
    },
    {
      "cell_type": "markdown",
      "metadata": {
        "id": "CTPzzrXJTYpO"
      },
      "source": [
        "Once you have computed the cluster summaries, discuss their quality. Is it clear what the reviews in a given cluster are about? Which clusters are clearest? Which are less clear? Do the cluster summaries contain any unexpected terms? What happens if you re-cluster with, say, $k=6$?"
      ]
    },
    {
      "cell_type": "code",
      "metadata": {
        "id": "pMq1nbflr34-",
        "colab": {
          "base_uri": "https://localhost:8080/",
          "height": 320
        },
        "outputId": "70120528-8407-4279-cb9e-496154a18d94"
      },
      "source": [
        "model1 = KMeans(n_clusters=6,n_init = 6 ).fit(reviews)\n",
        "prediction1 = model1.predict(reviews)\n",
        "sns.countplot(prediction1)\n",
        "plt.show()"
      ],
      "execution_count": 11,
      "outputs": [
        {
          "output_type": "stream",
          "name": "stderr",
          "text": [
            "/usr/local/lib/python3.7/dist-packages/seaborn/_decorators.py:43: FutureWarning: Pass the following variable as a keyword arg: x. From version 0.12, the only valid positional argument will be `data`, and passing other arguments without an explicit keyword will result in an error or misinterpretation.\n",
            "  FutureWarning\n"
          ]
        },
        {
          "output_type": "display_data",
          "data": {
            "image/png": "[encoded data removed]",
            "text/plain": [
              "<Figure size 432x288 with 1 Axes>"
            ]
          },
          "metadata": {
            "needs_background": "light"
          }
        }
      ]
    },
    {
      "cell_type": "markdown",
      "metadata": {
        "id": "LIDg7_wpTYpP"
      },
      "source": [
        "*TODO: Insert your analysis of the clusters here*"
      ]
    },
    {
      "cell_type": "code",
      "metadata": {
        "colab": {
          "base_uri": "https://localhost:8080/"
        },
        "id": "aYq67gOvywRe",
        "outputId": "2a1a2fc4-f3b1-416a-9666-76c73a1f681c"
      },
      "source": [
        "top_features(6,15,model1)"
      ],
      "execution_count": 12,
      "outputs": [
        {
          "output_type": "stream",
          "name": "stdout",
          "text": [
            "Cluster 0: movie film movies like story watch just good great acting seen did love really time\n",
            "Cluster 1: software program version product use computer support windows microsoft easy office used new upgrade norton\n",
            "Cluster 2: album cd music songs quot song like just great band good listen sound best love\n",
            "Cluster 3: book read books author reading story like quot just written good did great really people\n",
            "Cluster 4: camera lens pictures canon digital use flash battery quality great case good cameras picture sony\n",
            "Cluster 5: product great good use just like does hair time did work really bought dvd used\n"
          ]
        }
      ]
    },
    {
      "cell_type": "markdown",
      "metadata": {
        "id": "8dJEP36w073a"
      },
      "source": [
        "By comparing the number of cluster in the kmeans model, we essentially notice that cluster 3 have effective grouping of text than the cluster 6.\n",
        "\n",
        "The clusters are product/album, camera/flash/battery, book/storey/author."
      ]
    },
    {
      "cell_type": "markdown",
      "metadata": {
        "id": "D0FN6C-kTYpP"
      },
      "source": [
        "## Problem 3: Compare clusterings using the Rand index"
      ]
    },
    {
      "cell_type": "markdown",
      "metadata": {
        "id": "opDFih6QTYpP"
      },
      "source": [
        "In some scenarios, you may have gold-standard class labels available for at least a subset of your documents. In these cases you can compute the **Rand index** of a clustering, and use this measure to compare the quality of different clusterings.\n",
        "\n",
        "To compute the Rand index, we view a clustering as a binary classifier on (unordered) pairs of documents. The classifier predicts &lsquo;positive&rsquo; if and only if the two documents belong to the same cluster. The (non-normalized) Rand index of the clustering is the accuracy of this classifier relative to a reference in which a document pair belongs to the &lsquo;positive&rsquo; class if and only if the two documents in the pair have the same gold-standard class label.\n",
        "\n",
        "Compare clusterings with $k \\in \\{1,3,5,7\\}$ clusters. As your evaluation data, use the first 500 documents from the original data set along with their gold-standard categories (from the `category` column). What do you observe? How do you interpret your observations?"
      ]
    },
    {
      "cell_type": "code",
      "metadata": {
        "id": "S39s7deQAkYB"
      },
      "source": [
        "from sklearn.metrics.cluster import rand_score\n",
        "df[\"category\"].unique()\n",
        "k = [1,3,5,7]"
      ],
      "execution_count": 13,
      "outputs": []
    },
    {
      "cell_type": "code",
      "metadata": {
        "id": "gCCHX3eydYs5"
      },
      "source": [
        "def rand_index_fn (clusters,classes):\n",
        "  output = []\n",
        "  for i in range(0,500):         # comparing the classes label of the documnets\n",
        "    for j in range(i+1,500):\n",
        "      if (classes[i] == classes[j]):\n",
        "        if (clusters[i] == clusters[j]):    # same cluster /same classes document to find the true positive \n",
        "          output.append(1)\n",
        "        else:\n",
        "            output.append(0)                # False positive\n",
        "      else:\n",
        "        if (clusters[i] == clusters[j]):    # classes are different / clusters are same\n",
        "          output.append(0)                  # False negatives \n",
        "        else:\n",
        "            output.append(1)                # true negatives\n",
        "  return(output)\n",
        "\n"
      ],
      "execution_count": 14,
      "outputs": []
    },
    {
      "cell_type": "code",
      "metadata": {
        "id": "9o-erpAhDDdG"
      },
      "source": [
        "data = df[:500]\n",
        "reviews_5 = vectorizer.fit_transform(data[\"text\"])\n",
        "v=[]\n",
        "n=[]\n",
        "for i in k:\n",
        "  # kmeans model with different clusters\n",
        "  model2 = KMeans(n_clusters=i,n_init = 6 ).fit(reviews_5)\n",
        "  prediction2 = model2.predict(reviews_5)\n",
        "  # using the rand index function\n",
        "  rand = rand_index_fn(data[\"category\"],prediction2)\n",
        "  v.append(round(sum(rand)/len(rand),2))\n",
        "  # using the rand score library\n",
        "  n.append(round(rand_score(data[\"category\"],prediction2),2))\n",
        "  \n"
      ],
      "execution_count": 15,
      "outputs": []
    },
    {
      "cell_type": "code",
      "metadata": {
        "colab": {
          "base_uri": "https://localhost:8080/"
        },
        "id": "lIQJ15SlKXxK",
        "outputId": "39ed7403-91be-4d7f-a261-785dd46ecda8"
      },
      "source": [
        "print(n)\n",
        "print(v)"
      ],
      "execution_count": 16,
      "outputs": [
        {
          "output_type": "stream",
          "name": "stdout",
          "text": [
            "[0.17, 0.59, 0.77, 0.81]\n",
            "[0.17, 0.59, 0.77, 0.81]\n"
          ]
        }
      ]
    },
    {
      "cell_type": "markdown",
      "metadata": {
        "id": "ipNtihYeTYpQ"
      },
      "source": [
        " The Rand index score of the model is very less when we keep cluster k = 1 and 3 . After increasing the cluster k = 5 and 7, the model is performing well to group the data into a different. so, in this case optimal cluster for this data is 7\n",
        "\n"
      ]
    },
    {
      "cell_type": "markdown",
      "metadata": {
        "id": "tMTDz0tMTYpQ"
      },
      "source": [
        "## Topic modelling data set"
      ]
    },
    {
      "cell_type": "markdown",
      "metadata": {
        "id": "NmbiBf2hTYpQ"
      },
      "source": [
        "The data set for the topic modelling part of this lab is the collection of all [State of the Union](https://en.wikipedia.org/wiki/State_of_the_Union) addresses from the years 1975–2000. These speeches come as a single text file with one sentence per line. The following code cell prints the first 5 lines from the data file:"
      ]
    },
    {
      "cell_type": "code",
      "metadata": {
        "colab": {
          "base_uri": "https://localhost:8080/"
        },
        "id": "Btib6iorTYpQ",
        "outputId": "f791eb88-20f8-4d48-8f57-8a228342ad56"
      },
      "source": [
        "with open('/content/sample_data/sotu_1975_2000.txt') as source:\n",
        "    for i, line in enumerate(source):\n",
        "        print(line.rstrip())\n",
        "        if i >= 5:\n",
        "            break"
      ],
      "execution_count": 17,
      "outputs": [
        {
          "output_type": "stream",
          "name": "stdout",
          "text": [
            "mr speaker mr vice president members of the 94th congress and distinguished guests\n",
            "twenty six years ago a freshman congressman a young fellow with lots of idealism who was out to change the world stood before sam rayburn in the well of the house and solemnly swore to the same oath that all of you took yesterday an unforgettable experience and i congratulate you all\n",
            "two days later that same freshman stood at the back of this great chamber over there someplace as president truman all charged up by his single handed election victory reported as the constitution requires on the state of the union\n",
            "when the bipartisan applause stopped president truman said i am happy to report to this 81st congress that the state of the union is good our nation is better able than ever before to meet the needs of the american people and to give them their fair chance in the pursuit of happiness it is foremost among the nations of the world in the search for peace\n",
            "today that freshman member from michigan stands where mr truman stood and i must say to you that the state of the union is not good\n",
            "millions of americans are out of work\n"
          ]
        }
      ]
    },
    {
      "cell_type": "markdown",
      "metadata": {
        "id": "wZjrwkipTYpR"
      },
      "source": [
        "Take a few minutes to think about what topics you would expect in this data set."
      ]
    },
    {
      "cell_type": "markdown",
      "metadata": {
        "id": "xH43Qzgy-egZ"
      },
      "source": [
        "We would emphasize that, the document explains on the political speeches of the party, president work and giving honour to the presendential person.\n",
        "\n"
      ]
    },
    {
      "cell_type": "markdown",
      "metadata": {
        "id": "U0LiluRrTYpR"
      },
      "source": [
        "## Problem 4: Train a topic model"
      ]
    },
    {
      "cell_type": "markdown",
      "metadata": {
        "id": "KDRh9p7oTYpR"
      },
      "source": [
        "Your first task on the topic modelling data is to train an LDA model. For this task you will be using [spaCy](https://spacy.io/) and the [gensim](https://radimrehurek.com/gensim/) topic modelling library.\n",
        "\n",
        "Start by preprocessing the data using spaCy. Given that the data set for this problem is rather small, you do not have to exclude any components from the standard pipeline. Filter out stop words, non-alphabetic tokens, and tokens less than 3 characters in length. Store the documents as a nested list where the first level of nesting corresponds to the sentences and the second level corresponds to the tokens in each sentence."
      ]
    },
    {
      "cell_type": "code",
      "metadata": {
        "id": "oYIJCXVPTYpR"
      },
      "source": [
        "     # TODO: Replace the following lines with your own code for preprocessing the documents\n",
        "with open('/content/sample_data/sotu_1975_2000.txt') as source:\n",
        "    documents = [line.split() for line in source]"
      ],
      "execution_count": 18,
      "outputs": []
    },
    {
      "cell_type": "markdown",
      "metadata": {
        "id": "KLeDGJKxTYpR"
      },
      "source": [
        "Test your preprocessing by running the following cell:"
      ]
    },
    {
      "cell_type": "code",
      "metadata": {
        "id": "SrKeWL-HTYpR",
        "colab": {
          "base_uri": "https://localhost:8080/",
          "height": 35
        },
        "outputId": "2fdf5ead-54ca-4104-f6f1-5e387b4fb40c"
      },
      "source": [
        "' '.join(documents[42])"
      ],
      "execution_count": 19,
      "outputs": [
        {
          "output_type": "execute_result",
          "data": {
            "application/vnd.google.colaboratory.intrinsic+json": {
              "type": "string"
            },
            "text/plain": [
              "'first we must reduce oil imports by 1 million barrels per day by the end of this year and by 2 million barrels per day by the end of 1977'"
            ]
          },
          "metadata": {},
          "execution_count": 19
        }
      ]
    },
    {
      "cell_type": "code",
      "metadata": {
        "id": "Y6qvW-QJGk8g"
      },
      "source": [
        "import spacy\n",
        "nlp = spacy.load(\"en_core_web_sm\")"
      ],
      "execution_count": 20,
      "outputs": []
    },
    {
      "cell_type": "code",
      "metadata": {
        "id": "-RYLG26OGsiQ"
      },
      "source": [
        "def preprocess(text):\n",
        "  # join the every tokens into string\n",
        "  text = ' '.join(text)\n",
        "  # tokenization and removing stop words\n",
        "  token = [t for t in nlp(text) if not t.is_stop] \n",
        "  # lemmatization\n",
        "  lemma = [lem.lemma_ for lem in token]\n",
        "  # removing the non-alphabetic words\n",
        "  return [i for i in lemma if i.isalpha()]"
      ],
      "execution_count": 27,
      "outputs": []
    },
    {
      "cell_type": "code",
      "metadata": {
        "id": "E8NQ4JXzKula"
      },
      "source": [
        "d= [] # save the preprocessed documents in a list\n",
        "for i in range(len(documents)):\n",
        "  d.append(preprocess(documents[i]))"
      ],
      "execution_count": 28,
      "outputs": []
    },
    {
      "cell_type": "markdown",
      "metadata": {
        "id": "GCez6qV_TYpR"
      },
      "source": [
        "You should get the following output:"
      ]
    },
    {
      "cell_type": "code",
      "metadata": {
        "colab": {
          "base_uri": "https://localhost:8080/",
          "height": 35
        },
        "id": "ypuGmNFXLO1u",
        "outputId": "993fa5e3-d7a3-4916-befe-9ef010218305"
      },
      "source": [
        "' '.join(d[42])"
      ],
      "execution_count": 29,
      "outputs": [
        {
          "output_type": "execute_result",
          "data": {
            "application/vnd.google.colaboratory.intrinsic+json": {
              "type": "string"
            },
            "text/plain": [
              "'reduce oil import million barrel day end year million barrel day end'"
            ]
          },
          "metadata": {},
          "execution_count": 29
        }
      ]
    },
    {
      "cell_type": "code",
      "metadata": {
        "colab": {
          "base_uri": "https://localhost:8080/"
        },
        "id": "idgR7Hjx5tqg",
        "outputId": "f3bcafa3-b885-49ad-bacc-e2b8183b26ea"
      },
      "source": [
        "len(d)"
      ],
      "execution_count": 31,
      "outputs": [
        {
          "output_type": "execute_result",
          "data": {
            "text/plain": [
              "2898"
            ]
          },
          "metadata": {},
          "execution_count": 31
        }
      ]
    },
    {
      "cell_type": "raw",
      "metadata": {
        "id": "boDm-gWITYpS"
      },
      "source": [
        "'reduce oil imports million barrels day end year million barrels day end'"
      ]
    },
    {
      "cell_type": "markdown",
      "metadata": {
        "id": "2Vb7DqXZTYpS"
      },
      "source": [
        "Once you have the list of documents, skim the section [Pre-process and vectorize the documents](https://radimrehurek.com/gensim/auto_examples/tutorials/run_lda.html#pre-process-and-vectorize-the-documents) of the gensim documentation to learn how to create the dictionary and the vectorized corpus representation required by gensim. (Note that you cannot use the standard scikit-learn pipeline in this case.) Then, write code to train an [LdaModel](https://radimrehurek.com/gensim/models/ldamodel.html) for $k=10$ topics, and using default values for all other parameters."
      ]
    },
    {
      "cell_type": "code",
      "metadata": {
        "id": "aacMMvbRTYpS"
      },
      "source": [
        "import gensim\n",
        "from gensim.test.utils import common_texts\n",
        "from gensim.corpora.dictionary import Dictionary\n",
        "from gensim.models import LdaModel"
      ],
      "execution_count": 32,
      "outputs": []
    },
    {
      "cell_type": "code",
      "metadata": {
        "id": "OmZ36LbhdcaQ"
      },
      "source": [
        "# Create a corpus from a list of texts\n",
        "common_dictionary = Dictionary(d)\n",
        "\n",
        "# Filter out words that occur less than 20 documents, or more than 50% of the documents.\n",
        "common_dictionary.filter_extremes(no_below=20, no_above=0.5)\n",
        "corpus = [common_dictionary.doc2bow(text) for text in d]\n",
        "\n",
        "temp = common_dictionary[0]  # This is only to \"load\" the dictionary.\n",
        "id2word = common_dictionary.id2token\n",
        "# Train the model on the corpus.\n",
        "model = LdaModel(\n",
        "    corpus=corpus,\n",
        "    id2word=id2word,\n",
        "    num_topics = 10\n",
        ")"
      ],
      "execution_count": 33,
      "outputs": []
    },
    {
      "cell_type": "code",
      "metadata": {
        "colab": {
          "base_uri": "https://localhost:8080/"
        },
        "id": "vrZ6nb1x8vYF",
        "outputId": "2b83d4e0-66c6-4b92-c9de-72abe7c3b1f0"
      },
      "source": [
        "print(len(common_dictionary))\n",
        "print(len(corpus))"
      ],
      "execution_count": 46,
      "outputs": [
        {
          "output_type": "execute_result",
          "data": {
            "text/plain": [
              "gensim.corpora.dictionary.Dictionary"
            ]
          },
          "metadata": {},
          "execution_count": 46
        }
      ]
    },
    {
      "cell_type": "markdown",
      "metadata": {
        "id": "C4zE9LF7TYpS"
      },
      "source": [
        "Once you have a trained model, run the following cell to print the topics:"
      ]
    },
    {
      "cell_type": "code",
      "metadata": {
        "id": "j9t1tDpcTYpS",
        "colab": {
          "base_uri": "https://localhost:8080/"
        },
        "outputId": "f25d6688-2b40-4e7d-df1b-ab14033aca0f"
      },
      "source": [
        "model.print_topics()"
      ],
      "execution_count": 34,
      "outputs": [
        {
          "output_type": "execute_result",
          "data": {
            "text/plain": [
              "[(0,\n",
              "  '0.020*\"crime\" + 0.018*\"people\" + 0.017*\"americans\" + 0.016*\"community\" + 0.015*\"s\" + 0.014*\"pass\" + 0.013*\"time\" + 0.013*\"new\" + 0.012*\"drug\" + 0.012*\"year\"'),\n",
              " (1,\n",
              "  '0.034*\"child\" + 0.025*\"work\" + 0.022*\"s\" + 0.019*\"year\" + 0.018*\"people\" + 0.015*\"america\" + 0.015*\"world\" + 0.013*\"family\" + 0.012*\"good\" + 0.012*\"parent\"'),\n",
              " (2,\n",
              "  '0.036*\"s\" + 0.016*\"america\" + 0.013*\"opportunity\" + 0.012*\"nuclear\" + 0.011*\"work\" + 0.009*\"state\" + 0.009*\"continue\" + 0.008*\"weapon\" + 0.008*\"nation\" + 0.008*\"new\"'),\n",
              " (3,\n",
              "  '0.024*\"year\" + 0.019*\"work\" + 0.015*\"s\" + 0.013*\"support\" + 0.011*\"government\" + 0.010*\"people\" + 0.009*\"know\" + 0.009*\"child\" + 0.009*\"continue\" + 0.009*\"nation\"'),\n",
              " (4,\n",
              "  '0.028*\"government\" + 0.026*\"new\" + 0.021*\"s\" + 0.014*\"technology\" + 0.013*\"standard\" + 0.012*\"ve\" + 0.011*\"science\" + 0.010*\"nation\" + 0.009*\"lead\" + 0.009*\"environment\"'),\n",
              " (5,\n",
              "  '0.030*\"s\" + 0.021*\"people\" + 0.017*\"college\" + 0.016*\"american\" + 0.016*\"program\" + 0.013*\"work\" + 0.013*\"year\" + 0.012*\"america\" + 0.012*\"need\" + 0.011*\"job\"'),\n",
              " (6,\n",
              "  '0.021*\"year\" + 0.019*\"america\" + 0.018*\"s\" + 0.015*\"work\" + 0.013*\"people\" + 0.013*\"government\" + 0.012*\"challenge\" + 0.011*\"community\" + 0.011*\"school\" + 0.010*\"small\"'),\n",
              " (7,\n",
              "  '0.027*\"year\" + 0.017*\"congress\" + 0.017*\"new\" + 0.017*\"s\" + 0.012*\"propose\" + 0.011*\"america\" + 0.011*\"national\" + 0.011*\"help\" + 0.009*\"social\" + 0.009*\"energy\"'),\n",
              " (8,\n",
              "  '0.027*\"year\" + 0.025*\"new\" + 0.013*\"cut\" + 0.012*\"budget\" + 0.011*\"percent\" + 0.009*\"s\" + 0.009*\"effort\" + 0.009*\"citizen\" + 0.009*\"community\" + 0.008*\"time\"'),\n",
              " (9,\n",
              "  '0.023*\"year\" + 0.020*\"s\" + 0.016*\"america\" + 0.015*\"congress\" + 0.014*\"american\" + 0.013*\"tonight\" + 0.011*\"health\" + 0.011*\"strong\" + 0.010*\"nation\" + 0.010*\"americans\"')]"
            ]
          },
          "metadata": {},
          "execution_count": 34
        }
      ]
    },
    {
      "cell_type": "markdown",
      "metadata": {
        "id": "V4DQDGeETYpS"
      },
      "source": [
        "Inspect the topics. Can you &lsquo;label&rsquo; each topic with a short description of what it is about? Do the topics match your expectations? Summarize your discussion in a short text."
      ]
    },
    {
      "cell_type": "markdown",
      "metadata": {
        "id": "YWlGU0S2TYpS"
      },
      "source": [
        "*TODO: Insert your discussion of the topics here*"
      ]
    },
    {
      "cell_type": "markdown",
      "metadata": {
        "id": "4VmJUf9mTYpT"
      },
      "source": [
        "## Problem 5: Monitor a topic model for convergence"
      ]
    },
    {
      "cell_type": "markdown",
      "metadata": {
        "id": "i-ny99cdTYpT"
      },
      "source": [
        "When learning an LDA model, it is important to make sure that the training algorithm has converged to a stable posterior distribution. One way to do so is to plot, after each training epochs (or &lsquo;pass&rsquo;, in gensim parlance) the log likelihood of the training data under the posterior. Your last task in this lab is to create such a plot and, based on this, to suggest an appropriate number of epochs.\n",
        "\n",
        "To collect information about the posterior likelihood after each pass, we need to enable the logging facilities of gensim. Once this is done, gensim will add various diagnostics to a log file `gensim.log`."
      ]
    },
    {
      "cell_type": "code",
      "metadata": {
        "id": "4QE49pQtTYpT"
      },
      "source": [
        "import logging\n",
        "\n",
        "logging.basicConfig(filename='gensim.log', format='%(asctime)s:%(levelname)s:%(message)s', level=logging.INFO)"
      ],
      "execution_count": 35,
      "outputs": []
    },
    {
      "cell_type": "markdown",
      "metadata": {
        "id": "omNpXqy5TYpT"
      },
      "source": [
        "The following function will parse the generated logfile and return the list of log likelihoods."
      ]
    },
    {
      "cell_type": "code",
      "metadata": {
        "id": "tc-Y13xUTYpT"
      },
      "source": [
        "import re\n",
        "from matplotlib import pyplot as plt\n",
        "\n",
        "def parse_logfile():\n",
        "    matcher = re.compile('(-*\\d+\\.\\d+) per-word .* (\\d+\\.\\d+) perplexity')\n",
        "    likelihoods = []\n",
        "    with open('gensim.log') as source:\n",
        "        for line in source:\n",
        "            match = matcher.search(line)\n",
        "            if match:\n",
        "                likelihoods.append(float(match.group(1)))\n",
        "    return likelihoods"
      ],
      "execution_count": 36,
      "outputs": []
    },
    {
      "cell_type": "markdown",
      "metadata": {
        "id": "T3OYJI6NTYpT"
      },
      "source": [
        "Your task now is to re-train your LDA model for 50&nbsp;passes, retrieve the list of log likelihoods, and create a plot from this data."
      ]
    },
    {
      "cell_type": "code",
      "metadata": {
        "id": "vCTWrlMWTYpT"
      },
      "source": [
        "model = LdaModel(\n",
        "    corpus=corpus,\n",
        "    id2word=id2word,\n",
        "    num_topics = 10,\n",
        "    passes = 50\n",
        ") "
      ],
      "execution_count": 37,
      "outputs": []
    },
    {
      "cell_type": "code",
      "metadata": {
        "colab": {
          "base_uri": "https://localhost:8080/",
          "height": 282
        },
        "id": "VY6qQG0JmMmo",
        "outputId": "7a719a44-cb89-46a3-ddfe-1332c08a1d11"
      },
      "source": [
        "print(model)\n",
        "llik = parse_logfile()\n",
        "plt.plot(llik)\n",
        "plt.grid()"
      ],
      "execution_count": 40,
      "outputs": [
        {
          "output_type": "stream",
          "name": "stdout",
          "text": [
            "LdaModel(num_terms=721, num_topics=10, decay=0.5, chunksize=2000)\n"
          ]
        },
        {
          "output_type": "display_data",
          "data": {
            "image/png": "[encoded data removed]",
            "text/plain": [
              "<Figure size 432x288 with 1 Axes>"
            ]
          },
          "metadata": {
            "needs_background": "light"
          }
        }
      ]
    },
    {
      "cell_type": "code",
      "metadata": {
        "colab": {
          "base_uri": "https://localhost:8080/"
        },
        "id": "7cxjTkx590Cq",
        "outputId": "3f997fc4-4e3c-4c96-d209-dd574496c981"
      },
      "source": [
        "print(np.argmax(llik))\n",
        "np.max(llik)"
      ],
      "execution_count": 48,
      "outputs": [
        {
          "output_type": "stream",
          "name": "stdout",
          "text": [
            "49\n"
          ]
        },
        {
          "output_type": "execute_result",
          "data": {
            "text/plain": [
              "-6.063"
            ]
          },
          "metadata": {},
          "execution_count": 48
        }
      ]
    },
    {
      "cell_type": "markdown",
      "metadata": {
        "id": "RK_-0DULTYpT"
      },
      "source": [
        "How do you interpret your plot? Based on the plot, what would be a reasonable choice for the number of passes? Retrain your LDA model with that number and re-inspect the topics it finds. Do you consider the new topics to be &lsquo;better&rsquo; than the ones that you got from the 1-pass model in Problem&nbsp;5?"
      ]
    },
    {
      "cell_type": "markdown",
      "metadata": {
        "id": "ZpENbK8STYpU"
      },
      "source": [
        "*TODO: Insert your discussion of these questions here*"
      ]
    },
    {
      "cell_type": "code",
      "metadata": {
        "id": "gLcY2aJA9-fc"
      },
      "source": [
        "lda = gensim.models.ldamodel.LdaModel(\n",
        "    corpus=corpus,\n",
        "    num_topics=10,\n",
        "    id2word=common_dictionary,\n",
        "    passes=40   \n",
        ")\n"
      ],
      "execution_count": 50,
      "outputs": []
    },
    {
      "cell_type": "markdown",
      "metadata": {
        "id": "AiX9oUHXTYpU"
      },
      "source": [
        "<div class=\"alert alert-info\">\n",
        "    Please read the section ‘General information’ on the ‘Labs’ page of the course website before submitting this notebook!\n",
        "</div>"
      ]
    },
    {
      "cell_type": "markdown",
      "metadata": {
        "id": "sZVAec2S9t-t"
      },
      "source": [
        "Reflection questions\n",
        "The following reflection questions are questions that you could be asked in the oral exam. Try to answer each of them in the form of a short text and enter it in the cell below. You will get feedback on your answers from your lab assistant.\n",
        "\n",
        "RQ 3.1: Based on your experiments in Problem 2 and Problem 3, what is the relation between the quality of a clustering and the number of clusters? What happens when the number of clusters is too low, or too high? For this particular data set, what would a ‘good’ number of clusters be?\n",
        "\n",
        "RQ 3.2: Explain why it is important to monitor an LDA model for convergence and not simply use, say, 1000 passes. How is the log likelihood used in this context? Were the topics from the multi-pass model ‘better’ than the topics from the 1-pass model?\n",
        "\n",
        "RQ 3.3: What are the differences between $k$-means and LDA? When would you use one, when the other?\n",
        "\n",
        "TODO: \n",
        "\n",
        "ANS 3.1 : The relation between the quality of clustering and the number of clusters is as the number of clusters increase the quality if clusters also increases. When the number of clusters is too high, then the quality of cluster is better than when the number of clusters is too low. When the number of clusters is too low then the quality of cluster is poor since all the classes gets identified with those low number of clusters.\n",
        "\n",
        "For this particular dataset the optimal or \"good\" number of clusters would be 7\n",
        "\n",
        "\n",
        "ANS 3.2 : It is important to monitor the LDA model for convergence because of computation cost and time. This also dpends upon the corpus size , if we have a large corpus then we might get away with a few number of passes. The log-likelihood helps us to caluclate the probability of the training data after each pass to determine the optimal number of pass. The topics seems to perform better in multi-pass models\n",
        "\n",
        "\n",
        "ANS 3.3 : K-means is an hard clustering algorithm which is more suited for trivial clustering/classification tasks where we know for sure that this data point belongs to this cluster. Where as the LDA is a soft Clustering algorithm where we insted of saying that a data point  belongs to this cluster compeletely , we calculate the probability of the data point belonging to differenet clusters. \n",
        "\n",
        "Congratulations on finishing L3! 👍"
      ]
    },
    {
      "cell_type": "code",
      "metadata": {
        "id": "w21kYNjT9uvD"
      },
      "source": [
        ""
      ],
      "execution_count": null,
      "outputs": []
    },
    {
      "cell_type": "code",
      "metadata": {
        "id": "kjR-k9df9zG-"
      },
      "source": [
        ""
      ],
      "execution_count": null,
      "outputs": []
    }
  ]
}