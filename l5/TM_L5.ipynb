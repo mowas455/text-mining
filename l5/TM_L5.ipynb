{
  "nbformat": 4,
  "nbformat_minor": 0,
  "metadata": {
    "kernelspec": {
      "display_name": "Python 3",
      "language": "python",
      "name": "python3"
    },
    "language_info": {
      "codemirror_mode": {
        "name": "ipython",
        "version": 3
      },
      "file_extension": ".py",
      "mimetype": "text/x-python",
      "name": "python",
      "nbconvert_exporter": "python",
      "pygments_lexer": "ipython3",
      "version": "3.8.8"
    },
    "colab": {
      "name": "TM-L5.ipynb",
      "provenance": [],
      "collapsed_sections": []
    }
  },
  "cells": [
    {
      "cell_type": "markdown",
      "metadata": {
        "id": "h9VbIqS59fsN"
      },
      "source": [
        "# L5: Information extraction"
      ]
    },
    {
      "cell_type": "markdown",
      "metadata": {
        "id": "Cp1HVqPR9fsU"
      },
      "source": [
        "Information extraction (IE) is the task of identifying named entities and semantic relations between these entities in text data. In this lab we will focus on two sub-tasks in IE, **named entity recognition** (identifying mentions of entities) and **entity linking** (matching these mentions to entities in a knowledge base)."
      ]
    },
    {
      "cell_type": "markdown",
      "metadata": {
        "id": "tGZThmFn9fsW"
      },
      "source": [
        "We start by loading spaCy:"
      ]
    },
    {
      "cell_type": "code",
      "metadata": {
        "id": "yeGgjKUY9fsY"
      },
      "source": [
        "import spacy\n",
        "\n",
        "nlp = spacy.load('en_core_web_sm')"
      ],
      "execution_count": 1,
      "outputs": []
    },
    {
      "cell_type": "markdown",
      "metadata": {
        "id": "uicwSFtU9fsb"
      },
      "source": [
        "The data that we will be using has been tokenized following the conventions of the [Penn Treebank](ftp://ftp.cis.upenn.edu/pub/treebank/public_html/tokenization.html), and we need to prevent spaCy from using its own tokenizer on top of this. We therefore override spaCy&rsquo;s tokenizer with one that simply splits on space."
      ]
    },
    {
      "cell_type": "code",
      "metadata": {
        "id": "9DLaWt509fsc"
      },
      "source": [
        "from spacy.tokens import Doc\n",
        "\n",
        "class WhitespaceTokenizer(object):\n",
        "    def __init__(self, vocab):\n",
        "        self.vocab = vocab\n",
        "\n",
        "    def __call__(self, text):\n",
        "        return Doc(self.vocab, words=text.split(' '))\n",
        "\n",
        "nlp.tokenizer = WhitespaceTokenizer(nlp.vocab)"
      ],
      "execution_count": 2,
      "outputs": []
    },
    {
      "cell_type": "markdown",
      "metadata": {
        "id": "QiK9DOuo9fsd"
      },
      "source": [
        "## Data set"
      ]
    },
    {
      "cell_type": "markdown",
      "metadata": {
        "id": "w65ekHSX9fse"
      },
      "source": [
        "The main data set for this lab is a collection of news wire articles in which mentions of named entities have been annotated with page names from the [English Wikipedia](https://en.wikipedia.org/wiki/). The next code cell loads the training and the development parts of the data into Pandas data frames."
      ]
    },
    {
      "cell_type": "code",
      "metadata": {
        "id": "mqOd65HX9fsf"
      },
      "source": [
        "import bz2\n",
        "import csv\n",
        "import pandas as pd\n",
        "\n",
        "with bz2.open('/content/sample_data/ner-train.tsv.bz2', 'rt') as source:\n",
        "    df_train = pd.read_csv(source, sep='\\t', quoting=csv.QUOTE_NONE)\n",
        "\n",
        "with bz2.open('/content/sample_data/ner-dev.tsv.bz2', 'rt') as source:\n",
        "    df_dev = pd.read_csv(source, sep='\\t', quoting=csv.QUOTE_NONE)"
      ],
      "execution_count": 3,
      "outputs": []
    },
    {
      "cell_type": "markdown",
      "metadata": {
        "id": "ibAyUT7h9fsg"
      },
      "source": [
        "Each row in these two data frames corresponds to one mention of a named entity and has five columns:\n",
        "\n",
        "1. a unique identifier for the sentence containing the entity mention\n",
        "2. the pre-tokenized sentence, with tokens separated by spaces\n",
        "3. the start position of the token span containing the entity mention\n",
        "4. the end position of the token span (exclusive, as in Python list indexing)\n",
        "5. the entity label; either a Wikipedia page name or the generic label `--NME--`\n",
        "\n",
        "The following cell prints the first five samples from the training data:"
      ]
    },
    {
      "cell_type": "code",
      "metadata": {
        "colab": {
          "base_uri": "https://localhost:8080/",
          "height": 206
        },
        "id": "d16mb_AH9fsi",
        "outputId": "709f4db7-e279-416f-dc45-88c2464c97c1"
      },
      "source": [
        "df_train.head()"
      ],
      "execution_count": 4,
      "outputs": [
        {
          "output_type": "execute_result",
          "data": {
            "text/html": [
              "<div>\n",
              "<style scoped>\n",
              "    .dataframe tbody tr th:only-of-type {\n",
              "        vertical-align: middle;\n",
              "    }\n",
              "\n",
              "    .dataframe tbody tr th {\n",
              "        vertical-align: top;\n",
              "    }\n",
              "\n",
              "    .dataframe thead th {\n",
              "        text-align: right;\n",
              "    }\n",
              "</style>\n",
              "<table border=\"1\" class=\"dataframe\">\n",
              "  <thead>\n",
              "    <tr style=\"text-align: right;\">\n",
              "      <th></th>\n",
              "      <th>sentence_id</th>\n",
              "      <th>sentence</th>\n",
              "      <th>beg</th>\n",
              "      <th>end</th>\n",
              "      <th>label</th>\n",
              "    </tr>\n",
              "  </thead>\n",
              "  <tbody>\n",
              "    <tr>\n",
              "      <th>0</th>\n",
              "      <td>0000-000</td>\n",
              "      <td>EU rejects German call to boycott British lamb .</td>\n",
              "      <td>0</td>\n",
              "      <td>1</td>\n",
              "      <td>--NME--</td>\n",
              "    </tr>\n",
              "    <tr>\n",
              "      <th>1</th>\n",
              "      <td>0000-000</td>\n",
              "      <td>EU rejects German call to boycott British lamb .</td>\n",
              "      <td>2</td>\n",
              "      <td>3</td>\n",
              "      <td>Germany</td>\n",
              "    </tr>\n",
              "    <tr>\n",
              "      <th>2</th>\n",
              "      <td>0000-000</td>\n",
              "      <td>EU rejects German call to boycott British lamb .</td>\n",
              "      <td>6</td>\n",
              "      <td>7</td>\n",
              "      <td>United_Kingdom</td>\n",
              "    </tr>\n",
              "    <tr>\n",
              "      <th>3</th>\n",
              "      <td>0000-001</td>\n",
              "      <td>Peter Blackburn</td>\n",
              "      <td>0</td>\n",
              "      <td>2</td>\n",
              "      <td>--NME--</td>\n",
              "    </tr>\n",
              "    <tr>\n",
              "      <th>4</th>\n",
              "      <td>0000-002</td>\n",
              "      <td>BRUSSELS 1996-08-22</td>\n",
              "      <td>0</td>\n",
              "      <td>1</td>\n",
              "      <td>Brussels</td>\n",
              "    </tr>\n",
              "  </tbody>\n",
              "</table>\n",
              "</div>"
            ],
            "text/plain": [
              "  sentence_id  ...           label\n",
              "0    0000-000  ...         --NME--\n",
              "1    0000-000  ...         Germany\n",
              "2    0000-000  ...  United_Kingdom\n",
              "3    0000-001  ...         --NME--\n",
              "4    0000-002  ...        Brussels\n",
              "\n",
              "[5 rows x 5 columns]"
            ]
          },
          "metadata": {},
          "execution_count": 4
        }
      ]
    },
    {
      "cell_type": "markdown",
      "metadata": {
        "id": "DXa24oar9fsi"
      },
      "source": [
        "In this sample, we see that the first sentence is annotated with three entity mentions:\n",
        "\n",
        "* the span 0–1 &lsquo;EU&rsquo; is annotated as a mention but only labelled with the generic `--NME--`\n",
        "* the span 2–3 &lsquo;German&rsquo; is annotated with the page [Germany](http://en.wikipedia.org/wiki/Germany)\n",
        "* the span 6–7 &lsquo;British&rsquo; is annotated with the page [United_Kingdom](http://en.wikipedia.org/wiki/United_Kingdom)"
      ]
    },
    {
      "cell_type": "markdown",
      "metadata": {
        "id": "Pn6YdIU59fs-"
      },
      "source": [
        "## Problem 1: Evaluation measures"
      ]
    },
    {
      "cell_type": "markdown",
      "metadata": {
        "id": "dqDuYbGB9fs_"
      },
      "source": [
        "To warm up, we ask you to write code to print the three measures that you will be using for evaluation:"
      ]
    },
    {
      "cell_type": "code",
      "metadata": {
        "id": "IDOketCc9fs_"
      },
      "source": [
        "def evaluation_report(gold, pred):\n",
        "    \"\"\"Print precision, recall, and F1 score.\n",
        "    \n",
        "    Args:\n",
        "        gold: The set with the gold-standard values.\n",
        "        pred: The set with the predicted values.\n",
        "    \n",
        "    Returns:\n",
        "        Nothing, but prints the precision, recall, and F1 values computed\n",
        "        based on the specified sets.\n",
        "    \"\"\"\n",
        "    precision = len(gold.intersection(pred))/len(pred)*100 \n",
        "    recall = len(gold.intersection(pred))/len(gold)*100\n",
        "    F1_score = 2*(precision * recall )/ (precision + recall)\n",
        "    \n",
        "    print(\"Precision : \",precision)\n",
        "    print(\"Recall : \",recall)\n",
        "    print(\"F1 Score :\",F1_score)"
      ],
      "execution_count": 5,
      "outputs": []
    },
    {
      "cell_type": "markdown",
      "metadata": {
        "id": "FJ6XDYrZ9ftB"
      },
      "source": [
        "To test your code, you can run the following cell:"
      ]
    },
    {
      "cell_type": "code",
      "metadata": {
        "id": "ObaCEwiE9ftC",
        "colab": {
          "base_uri": "https://localhost:8080/"
        },
        "outputId": "fdcda58b-1c52-46d4-9502-639efcb8fedc"
      },
      "source": [
        "evaluation_report(set(range(3)), set(range(5)))"
      ],
      "execution_count": 6,
      "outputs": [
        {
          "output_type": "stream",
          "name": "stdout",
          "text": [
            "Precision :  60.0\n",
            "Recall :  100.0\n",
            "F1 Score : 75.0\n"
          ]
        }
      ]
    },
    {
      "cell_type": "markdown",
      "metadata": {
        "id": "lFtkCYIj9ftD"
      },
      "source": [
        "This should give you a precision of 60%, a recall of 100%, and an F1-value of 75%."
      ]
    },
    {
      "cell_type": "markdown",
      "metadata": {
        "id": "tvmvdnjK9ftE"
      },
      "source": [
        "## Problem 2: Span recognition"
      ]
    },
    {
      "cell_type": "markdown",
      "metadata": {
        "id": "wVPyJgds9ftE"
      },
      "source": [
        "One of the first tasks that an information extraction system has to solve is to locate and classify (mentions of) named entities, such as persons and organizations. Here we will tackle the simpler task of recognizing **spans** of tokens that contain an entity mention, without the actual entity label.\n",
        "\n",
        "The English language model in spaCy features a full-fledged [named entity recognizer](https://spacy.io/usage/linguistic-features#named-entities) that identifies a variety of entities, and can be updated with new entity types by the user. Your task in this problem is to evaluate the performance of this component when predicting entity spans in the development data.\n",
        "\n",
        "Start by implementing a generator function that yields the gold-standard spans in a given data frame.\n",
        "\n",
        "**Hint:** The Pandas method [`itertuples()`](https://pandas.pydata.org/pandas-docs/version/0.17.0/generated/pandas.DataFrame.itertuples.html) is useful when iterating over the rows in a DataFrame."
      ]
    },
    {
      "cell_type": "code",
      "metadata": {
        "id": "QrsqSwLU9ftG"
      },
      "source": [
        "def gold_spans(df):\n",
        "    \"\"\"Yield the gold-standard mention spans in a data frame.\n",
        "\n",
        "    Args:\n",
        "        df: A data frame.\n",
        "\n",
        "    Yields:\n",
        "        The gold-standard mention spans in the specified data frame as\n",
        "        triples consisting of the sentence id, start position, and end\n",
        "        position of each span.\n",
        "    \"\"\"\n",
        "    for r in df.itertuples():\n",
        "      yield  (r[1],r[3],r[4])"
      ],
      "execution_count": 7,
      "outputs": []
    },
    {
      "cell_type": "code",
      "metadata": {
        "colab": {
          "base_uri": "https://localhost:8080/"
        },
        "id": "4943rGv_M4iM",
        "outputId": "291ce17e-1996-497a-b66b-b6db258767e0"
      },
      "source": [
        "print(next(gold_spans(df_dev)))\n",
        "*_,last = gold_spans(df_dev)\n",
        "print(last)"
      ],
      "execution_count": 8,
      "outputs": [
        {
          "output_type": "stream",
          "name": "stdout",
          "text": [
            "('0946-000', 2, 3)\n",
            "('1161-010', 1, 3)\n"
          ]
        }
      ]
    },
    {
      "cell_type": "markdown",
      "metadata": {
        "id": "BCuiBGZr9ftI"
      },
      "source": [
        "To test your code, you can count the spans yielded by your function. When called on the development data, you should get a total of 5,917 unique triples. The first triple and the last triple should be\n",
        "\n",
        "    ('0946-000', 2, 3)\n",
        "    ('1161-010', 1, 3)  "
      ]
    },
    {
      "cell_type": "code",
      "metadata": {
        "id": "XZ7iACWY9ftJ",
        "colab": {
          "base_uri": "https://localhost:8080/"
        },
        "outputId": "5a935742-b684-4293-b180-dd9e4ed58d4b"
      },
      "source": [
        "spans_dev_gold = set(gold_spans(df_dev))\n",
        "print(len(spans_dev_gold))"
      ],
      "execution_count": 9,
      "outputs": [
        {
          "output_type": "stream",
          "name": "stdout",
          "text": [
            "5917\n"
          ]
        }
      ]
    },
    {
      "cell_type": "markdown",
      "metadata": {
        "id": "71AWEKqT9ftL"
      },
      "source": [
        "Your next task is to write code that calls spaCy to predict the named entities in the development data, and to evaluate the accuracy of these predictions in terms of precision, recall, and F1. Print these scores using the function that you wrote for Problem&nbsp;1."
      ]
    },
    {
      "cell_type": "code",
      "metadata": {
        "id": "tV9sDvEn9ftN"
      },
      "source": [
        "# TODO: Write code here to run and evaluate the spaCy NER on the development data\n",
        "import spacy\n",
        "\n",
        "def Predictions(df):\n",
        "  for row in df.itertuples():\n",
        "    doc = row[2]   # sentence from the dataframe\n",
        "    sentence_id = row[1] # sentence_id from dataframe\n",
        "    sentence = nlp(doc)\n",
        "    for ent in sentence.ents:\n",
        "      yield (sentence_id, ent.start, ent.end)"
      ],
      "execution_count": 10,
      "outputs": []
    },
    {
      "cell_type": "code",
      "metadata": {
        "id": "3GcPpZoS1gds"
      },
      "source": [
        "pred_dev = set(Predictions(df_dev))"
      ],
      "execution_count": 11,
      "outputs": []
    },
    {
      "cell_type": "code",
      "metadata": {
        "colab": {
          "base_uri": "https://localhost:8080/"
        },
        "id": "Kxv9Ak3w4bVs",
        "outputId": "73fe7739-30ac-4765-9236-11d1f389b75f"
      },
      "source": [
        "evaluation_report(spans_dev_gold,pred_dev)"
      ],
      "execution_count": 12,
      "outputs": [
        {
          "output_type": "stream",
          "name": "stdout",
          "text": [
            "Precision :  52.94499221587961\n",
            "Recall :  68.97076221057968\n",
            "F1 Score : 59.904587155963306\n"
          ]
        }
      ]
    },
    {
      "cell_type": "markdown",
      "metadata": {
        "id": "n1wc9kwP9ftO"
      },
      "source": [
        "## Problem 3: Error analysis"
      ]
    },
    {
      "cell_type": "markdown",
      "metadata": {
        "id": "k2xhbc2N9ftO"
      },
      "source": [
        "As you were able to see in Problem&nbsp;2, the span accuracy of the named entity recognizer is far from perfect. In particular, only slightly more than half of the predicted spans are correct according to the gold standard. Your next task is to analyse this result in more detail.\n",
        "\n",
        "Here is a function that prints the false positives as well as the false negatives spans for a data frame, given a reference set of gold-standard spans and a candidate set of predicted spans."
      ]
    },
    {
      "cell_type": "code",
      "metadata": {
        "id": "kLrodBGe9ftP"
      },
      "source": [
        "from collections import defaultdict\n",
        "\n",
        "def error_report(df, spans_gold, spans_pred):\n",
        "    false_pos = defaultdict(list)\n",
        "    for s, b, e in spans_pred - spans_gold:\n",
        "        false_pos[s].append((b, e))\n",
        "    false_neg = defaultdict(list)\n",
        "    for s, b, e in spans_gold - spans_pred:\n",
        "        false_neg[s].append((b, e))\n",
        "    for row in df.drop_duplicates('sentence_id').itertuples():\n",
        "        if row.sentence_id in false_pos or row.sentence_id in false_neg:\n",
        "            print('Sentence:', row.sentence)\n",
        "            for b, e in false_pos[row.sentence_id]:\n",
        "                print('  FP:', ' '.join(row.sentence.split()[b:e]))\n",
        "            for b, e in false_neg[row.sentence_id]:\n",
        "                print('  FN:', ' '.join(row.sentence.split()[b:e]))"
      ],
      "execution_count": 13,
      "outputs": []
    },
    {
      "cell_type": "markdown",
      "metadata": {
        "id": "INedbIF19ftQ"
      },
      "source": [
        "Use this function to inspect and analyse the errors that the automated prediction makes. Can you see any patterns? Base your analysis on the first 500 rows of the training data. Summarize your observations in a short text."
      ]
    },
    {
      "cell_type": "code",
      "metadata": {
        "id": "H6-JnBMD-NHn"
      },
      "source": [
        "n_data = df_train.iloc[0:500,]\n",
        "insp_dev_gold = set(gold_spans(n_data))\n",
        "insp_dev_pred = set(Predictions(n_data))"
      ],
      "execution_count": 14,
      "outputs": []
    },
    {
      "cell_type": "code",
      "metadata": {
        "id": "o-LNv2St9ftR",
        "colab": {
          "base_uri": "https://localhost:8080/"
        },
        "outputId": "12afce72-3f1f-430c-8ce5-1b4c01c35a61"
      },
      "source": [
        "error_report(n_data,insp_dev_gold,insp_dev_pred)"
      ],
      "execution_count": 15,
      "outputs": [
        {
          "output_type": "stream",
          "name": "stdout",
          "text": [
            "Sentence: The European Commission said on Thursday it disagreed with German advice to consumers to shun British lamb until scientists determine whether mad cow disease can be transmitted to sheep .\n",
            "  FP: Thursday\n",
            "  FP: The European Commission\n",
            "  FN: European Commission\n",
            "Sentence: Germany 's representative to the European Union 's veterinary committee Werner Zwingmann said on Wednesday consumers should buy sheepmeat from countries other than Britain until the scientific advice was clearer .\n",
            "  FP: Wednesday\n",
            "  FP: the European Union 's\n",
            "  FN: European Union\n",
            "Sentence: He said further scientific study was required and if it was found that action was needed it should be taken by the European Union .\n",
            "  FP: the European Union\n",
            "  FN: European Union\n",
            "Sentence: He said a proposal last month by EU Farm Commissioner Franz Fischler to ban sheep brains , spleens and spinal cords from the human and animal food chains was a highly specific and precautionary move to protect human health .\n",
            "  FP: last month\n",
            "  FP: EU Farm\n",
            "  FN: EU\n",
            "Sentence: Fischler proposed EU-wide measures after reports from Britain and France that under laboratory conditions sheep could contract Bovine Spongiform Encephalopathy ( BSE ) -- mad cow disease .\n",
            "  FN: BSE\n",
            "Sentence: The EU 's scientific veterinary and multidisciplinary committees are due to re-examine the issue early next month and make recommendations to the senior veterinary officials .\n",
            "  FP: early next month\n",
            "Sentence: Sheep have long been known to contract scrapie , a brain-wasting disease similar to BSE which is believed to have been transferred to cattle through feed containing animal waste .\n",
            "  FN: BSE\n",
            "Sentence: British farmers denied on Thursday there was any danger to human health from their sheep , but expressed concern that German government advice to consumers to avoid British lamb might influence consumers across Europe .\n",
            "  FP: Thursday\n",
            "Sentence: \" What we have to be extremely careful of is how other countries are going to take Germany 's lead , \" Welsh National Farmers ' Union ( NFU ) chairman John Lloyd Jones said on BBC radio .\n",
            "  FP: BBC\n",
            "  FN: BBC radio\n",
            "Sentence: Bonn has led efforts to protect public health after consumer confidence collapsed in March after a British report suggested humans could contract an illness similar to mad cow disease by eating contaminated beef .\n",
            "  FP: March\n",
            "Sentence: Germany imported 47,600 sheep from Britain last year , nearly half of total imports .\n",
            "  FP: 47,600\n",
            "  FP: last year\n",
            "  FP: nearly half\n",
            "Sentence: It brought in 4,275 tonnes of British mutton , some 10 percent of overall imports .\n",
            "  FP: some 10 percent\n",
            "  FP: 4,275 tonnes\n",
            "Sentence: Rare Hendrix song draft sells for almost $ 17,000 .\n",
            "  FP: almost $ 17,000\n",
            "  FP: Rare Hendrix\n",
            "  FN: Hendrix\n",
            "Sentence: A rare early handwritten draft of a song by U.S. guitar legend Jimi Hendrix was sold for almost $ 17,000 on Thursday at an auction of some of the late musician 's favourite possessions .\n",
            "  FP: Thursday\n",
            "  FP: almost $ 17,000\n",
            "Sentence: A Florida restaurant paid 10,925 pounds ( $ 16,935 ) for the draft of \" Ai n't no telling \" , which Hendrix penned on a piece of London hotel stationery in late 1966 .\n",
            "  FP: late 1966\n",
            "  FP: 16,935\n",
            "  FP: 10,925 pounds\n",
            "  FN: Ai n't no telling\n",
            "Sentence: At the end of a January 1967 concert in the English city of Nottingham he threw the sheet of paper into the audience , where it was retrieved by a fan .\n",
            "  FP: the end of a January 1967\n",
            "Sentence: Buyers also snapped up 16 other items that were put up for auction by Hendrix 's former girlfriend Kathy Etchingham , who lived with him from 1966 to 1969 .\n",
            "  FP: 16\n",
            "  FP: 1966 to 1969\n",
            "Sentence: They included a black lacquer and mother of pearl inlaid box used by Hendrix to store his drugs , which an anonymous Australian purchaser bought for 5,060 pounds ( $ 7,845 ) .\n",
            "  FP: 7,845\n",
            "  FP: 5,060 pounds\n",
            "Sentence: China on Thursday accused Taipei of spoiling the atmosphere for a resumption of talks across the Taiwan Strait with a visit to Ukraine by Taiwanese Vice President Lien Chan this week that infuriated Beijing .\n",
            "  FP: Thursday\n",
            "  FP: the Taiwan Strait\n",
            "  FP: this week\n",
            "  FN: Taiwan Strait\n",
            "Sentence: Speaking only hours after Chinese state media said the time was right to engage in political talks with Taiwan , Foreign Ministry spokesman Shen Guofang told Reuters : \" The necessary atmosphere for the opening of the talks has been disrupted by the Taiwan authorities . \"\n",
            "  FP: only hours\n",
            "Sentence: State media quoted China 's top negotiator with Taipei , Tang Shubei , as telling a visiting group from Taiwan on Wednesday that it was time for the rivals to hold political talks .\n",
            "  FP: Wednesday\n",
            "Sentence: that is to end the state of hostility , \" Thursday 's overseas edition of the People 's Daily quoted Tang as saying .\n",
            "  FP: the People 's Daily\n",
            "  FP: Thursday\n",
            "  FN: People 's Daily\n",
            "Sentence: China , which has long opposed all Taipei efforts to gain greater international recognition , was infuriated by a visit to Ukraine this week by Taiwanese Vice President Lien .\n",
            "  FP: this week\n",
            "Sentence: Consultations should be held to set the time and format of the talks , the official Xinhua news agency quoted Tang Shubei , executive vice chairman of the Association for Relations Across the Taiwan Straits , as saying late on Wednesday .\n",
            "  FP: Wednesday\n",
            "  FP: Xinhua news agency\n",
            "  FP: the Association for Relations Across the Taiwan Straits\n",
            "  FN: Association for Relations Across the Taiwan Straits\n",
            "  FN: Xinhua\n",
            "Sentence: German July car registrations up 14.2 pct yr / yr .\n",
            "  FP: July\n",
            "  FP: 14.2\n",
            "Sentence: FRANKFURT 1996-08-22\n",
            "  FN: FRANKFURT\n",
            "Sentence: German first-time registrations of motor vehicles jumped 14.2 percent in July this year from the year-earlier period , the Federal office for motor vehicles said on Thursday .\n",
            "  FP: July\n",
            "  FP: Thursday\n",
            "  FP: this year\n",
            "  FP: 14.2 percent\n",
            "  FN: Federal office for motor vehicles\n",
            "Sentence: Volkswagen AG won 77,719 registrations , slightly more than a quarter of the total .\n",
            "  FP: 77,719\n",
            "Sentence: Opel AG together with General Motors came in second place with 49,269 registrations , 16.4 percent of the overall figure .\n",
            "  FP: 49,269\n",
            "  FP: second\n",
            "  FP: 16.4 percent\n",
            "Sentence: Third was Ford with 35,563 registrations , or 11.7 percent .\n",
            "  FP: 35,563\n",
            "  FP: 11.7 percent\n",
            "  FP: Third\n",
            "Sentence: Only Seat and Porsche had fewer registrations in July 1996 compared to last year 's July .\n",
            "  FP: July 1996\n",
            "  FP: last year 's\n",
            "  FP: July\n",
            "Sentence: Seat posted 3,420 registrations compared with 5522 registrations in July a year earlier .\n",
            "  FP: a year earlier\n",
            "  FP: July\n",
            "  FP: 3,420\n",
            "  FP: 5522\n",
            "  FN: Seat\n",
            "Sentence: Porsche 's registrations fell to 554 from 643 .\n",
            "  FP: 554\n",
            "  FP: 643\n",
            "Sentence: GREEK SOCIALISTS GIVE GREEN LIGHT TO PM FOR ELECTIONS .\n",
            "  FP: GREEN LIGHT\n",
            "  FN: GREEK\n",
            "Sentence: Prime Minister Costas Simitis is going to make an official announcement after a cabinet meeting later on Thursday , said Skandalidis .\n",
            "  FP: Thursday\n",
            "Sentence: -- Dimitris Kontogiannis , Athens Newsroom +301 3311812-4\n",
            "  FP: -- Dimitris Kontogiannis ,\n",
            "  FN: Dimitris Kontogiannis\n",
            "Sentence: BayerVB sets C$ 100 million six-year bond .\n",
            "  FP: C$ 100 million\n",
            "  FN: C$\n",
            "  FN: BayerVB\n",
            "Sentence: BORROWER BAYERISCHE VEREINSBANK\n",
            "  FN: BAYERISCHE VEREINSBANK\n",
            "Sentence: AMT C$ 100 MLN COUPON 6.625 MATURITY 24.SEP.02\n",
            "  FN: C$\n",
            "Sentence: S&P = DENOMS ( K ) 1-10-100 SALE LIMITS US / UK / CA\n",
            "  FP: DENOMS\n",
            "  FP: SALE\n",
            "  FN: CA\n",
            "  FN: US\n",
            "  FN: UK\n",
            "Sentence: GOV LAW GERMAN HOME CTRY = TAX PROVS STANDARD\n",
            "  FN: GERMAN\n",
            "Sentence: NOTES BAYERISCHE VEREINSBANK IS JOINT LEAD MANAGER\n",
            "  FN: BAYERISCHE VEREINSBANK\n",
            "Sentence: -- London Newsroom +44 171 542 7658\n",
            "  FP: 171\n",
            "  FP: -- London Newsroom +44\n",
            "  FN: London Newsroom\n",
            "Sentence: Venantius sets $ 300 million January 1999 FRN .\n",
            "  FP: $ 300 million\n",
            "  FP: FRN\n",
            "  FP: January 1999\n",
            "  FN: Venantius\n",
            "Sentence: BORROWER VENANTIUS AB ( SWEDISH NATIONAL MORTGAGE AGENCY )\n",
            "  FP: SWEDISH NATIONAL MORTGAGE AGENCY\n",
            "  FP: BORROWER VENANTIUS AB\n",
            "  FN: SWEDISH\n",
            "  FN: VENANTIUS AB\n",
            "Sentence: TYPE FRN BASE 3M LIBOR PAY DATE S23.SEP.96\n",
            "  FN: 3M\n",
            "Sentence: LAST S&P AA+ REOFFER =\n",
            "  FN: S&P\n",
            "Sentence: LISTING LONDON DENOMS ( K ) 1-10-100 SALE LIMITS US / UK / JP / FR\n",
            "  FN: FR\n",
            "  FN: UK\n",
            "  FN: JP\n",
            "Sentence: GOV LAW ENGLISH HOME CTRY SWEDEN TAX PROVS STANDARD\n",
            "  FP: ENGLISH HOME\n",
            "  FN: ENGLISH\n",
            "  FN: SWEDEN\n",
            "Sentence: -- London Newsroom +44 171 542 8863\n",
            "  FP: 171 542 8863\n",
            "  FP: -- London Newsroom +44\n",
            "  FN: London Newsroom\n",
            "Sentence: Port conditions update - Syria - Lloyds Shipping .\n",
            "  FN: Lloyds Shipping\n",
            "Sentence: LATTAKIA , Aug 10 - waiting time at Lattakia and Tartous presently 24 hours .\n",
            "  FP: 24 hours\n",
            "  FP: 10\n",
            "  FP: Lattakia and Tartous\n",
            "  FN: Tartous\n",
            "  FN: LATTAKIA\n",
            "  FN: Lattakia\n",
            "Sentence: JERUSALEM 1996-08-22\n",
            "  FN: JERUSALEM\n",
            "Sentence: Israel 's outgoing peace negotiator with Syria said on Thursday current tensions between the two countries appeared to be a storm in a teacup .\n",
            "  FP: two\n",
            "  FP: Thursday\n",
            "Sentence: Israel on Wednesday sent Syria a message , via Washington , saying it was committed to peace and wanted to open negotiations without preconditions .\n",
            "  FP: Wednesday\n",
            "Sentence: Syria accused Israel on Wednesday of launching a hysterical campaign against it after Israeli television reported that Damascus had recently test fired a missile .\n",
            "  FP: Wednesday\n",
            "Sentence: Tension has mounted since Israeli Prime Minister Benjamin Netanyahu took office in June vowing to retain the Golan Heights Israel captured from Syria in the 1967 Middle East war .\n",
            "  FP: June\n",
            "  FP: 1967\n",
            "  FN: Golan Heights\n",
            "Sentence: Israeli-Syrian peace talks have been deadlocked over the Golan since 1991 despite the previous government 's willingness to make Golan concessions .\n",
            "  FP: 1991\n",
            "Sentence: The television also said that Netanyahu had sent messages to reassure Syria via Cairo , the United States and Moscow .\n",
            "  FP: the United States\n",
            "  FN: United States\n",
            "Sentence: TUNIS 1996-08-22\n",
            "  FN: TUNIS\n",
            "Sentence: A Polish diplomat on Thursday denied a Polish tabloid report this week that Libya was refusing exit visas to 100 Polish nurses trying to return home after working in the North African country .\n",
            "  FP: this week\n",
            "  FP: 100\n",
            "  FP: Thursday\n",
            "Sentence: Up to today , we have no knowledge of any nurse stranded or kept in Libya without her will , and we have not received any complaint , \" the Polish embassy 's charge d'affaires in Tripoli , Tadeusz Awdankiewicz , told Reuters by telephone .\n",
            "  FP: today\n",
            "Sentence: Poland 's labour ministry said this week it would send a team to Libya to investigate , but Awdankiewicz said the probe was prompted by some nurses complaining about their work conditions such as non-payment of their salaries .\n",
            "  FP: this week\n",
            "Sentence: He said that there are an estimated 800 Polish nurses working in Libya .\n",
            "  FP: an estimated 800\n",
            "Sentence: Two Iranian opposition leaders meet in Baghdad .\n",
            "  FP: Two\n",
            "Sentence: BAGHDAD 1996-08-22\n",
            "  FN: BAGHDAD\n",
            "Sentence: An Iranian exile group based in Iraq vowed on Thursday to extend support to Iran 's Kurdish rebels after they were attacked by Iranian troops deep inside Iraq last month .\n",
            "  FP: Thursday\n",
            "  FP: last month\n",
            "Sentence: A Mujahideen Khalq statement said its leader Massoud Rajavi met in Baghdad the Secretary-General of the Kurdistan Democratic Party of Iran ( KDPI ) Hassan Rastegar on Wednesday and voiced his support to Iran 's rebel Kurds .\n",
            "  FP: Wednesday\n",
            "  FP: the Kurdistan Democratic Party of Iran\n",
            "  FN: Kurdistan Democratic Party of Iran\n",
            "  FN: Mujahideen Khalq\n",
            "Sentence: \" Rajavi emphasised that the Iranian Resistance would continue to stand side by side with their Kurdish compatriots and the resistance movement in Iranian Kurdistan , \" it said .\n",
            "  FP: the Iranian Resistance\n",
            "  FP: Kurdistan\n",
            "  FP: Iranian\n",
            "  FN: Iranian\n",
            "  FN: Iranian Kurdistan\n",
            "  FN: Rajavi\n",
            "  FN: Resistance\n",
            "Sentence: A spokesman for the group said the meeting \" signals a new level of cooperation between Mujahideen Khalq and the Iranian Kurdish oppositions \" .\n",
            "  FP: Kurdish\n",
            "  FP: Iranian\n",
            "  FN: Iranian Kurdish\n",
            "  FN: Mujahideen Khalq\n",
            "Sentence: Iran heavily bombarded targets in northern Iraq in July in pursuit of KDPI guerrillas based in Iraqi Kurdish areas outside the control of the government in Baghdad .\n",
            "  FP: July\n",
            "  FP: Kurdish\n",
            "  FP: Iraqi\n",
            "  FN: Iraqi Kurdish\n",
            "Sentence: Iraqi Kurdish areas bordering Iran are under the control of guerrillas of the Iraqi Kurdish Patriotic Union of Kurdistan ( PUK ) group .\n",
            "  FP: Kurdish\n",
            "  FP: the Iraqi Kurdish Patriotic Union of Kurdistan\n",
            "  FP: Iraqi\n",
            "  FN: Iraqi Kurdish Patriotic Union of Kurdistan\n",
            "  FN: PUK\n",
            "  FN: Iraqi Kurdish\n",
            "Sentence: PUK and Iraq 's Kurdistan Democratic Party ( KDP ) the two main Iraqi Kurdish factions , have had northern Iraq under their control since Iraqi forces were ousted from Kuwait in the 1991 Gulf War .\n",
            "  FP: Iraqi\n",
            "  FP: the 1991 Gulf War\n",
            "  FP: Kurdish\n",
            "  FP: two\n",
            "  FN: Iraqi Kurdish\n",
            "  FN: Gulf War\n",
            "Sentence: Clashes between the two parties broke out at the weekend in the most serious fighting since a U.S.-sponsored ceasefire last year .\n",
            "  FP: two\n",
            "  FP: last year\n",
            "  FP: the weekend\n",
            "  FN: U.S.-sponsored\n",
            "Sentence: Mujahideen Khalq said Iranian troops had also been shelling KDP positions in Qasri region in Suleimaniya province near the Iranian border over the last two days .\n",
            "  FP: Suleimaniya province\n",
            "  FP: the last two days\n",
            "  FN: Suleimaniya\n",
            "Sentence: It said about 100 Iraqi Kurds were killed or wounded in the attack .\n",
            "  FP: Kurds\n",
            "  FP: about 100\n",
            "  FP: Iraqi\n",
            "  FN: Iraqi Kurds\n",
            "Sentence: A U.S.-led air force in southern Turkey protects Iraqi Kurds from possible attacks by Baghdad troops .\n",
            "  FP: Kurds\n",
            "  FP: Iraqi\n",
            "  FN: Iraqi Kurds\n",
            "  FN: U.S.-led\n",
            "Sentence: Saudi riyal rates steady in quiet summer trade .\n",
            "  FP: summer\n",
            "Sentence: MANAMA 1996-08-22\n",
            "  FN: MANAMA\n",
            "Sentence: The spot Saudi riyal against the dollar and riyal interbank deposit rates were mainly steady this week in quiet summer trade , dealers in the kingdom said .\n",
            "  FP: summer\n",
            "  FP: this week\n",
            "  FP: kingdom\n",
            "Sentence: One-month interbank deposits were at 5-1/2 , 3/8 percent , three months were 5-5/8 , 1/2 percent and six months were 5-3/4 , 5/8 percent .\n",
            "  FP: six months\n",
            "  FP: 5-3/4\n",
            "  FP: 5-1/2\n",
            "  FP: three months\n",
            "  FP: 3/8 percent\n",
            "  FP: 5/8 percent\n",
            "  FP: 5-5/8 , 1/2 percent\n",
            "  FN: One-month\n",
            "Sentence: One-year funds were at six , 5-7/8 percent .\n",
            "  FP: 5-7/8 percent\n",
            "  FP: six\n",
            "  FN: One-year\n",
            "Sentence: JERUSALEM 1996-08-22\n",
            "  FN: JERUSALEM\n",
            "Sentence: Israel gave Palestinian President Yasser Arafat permission on Thursday to fly over its territory to the West Bank , ending a brief Israeli-PLO crisis , an Arafat adviser said .\n",
            "  FP: the West Bank\n",
            "  FP: Thursday\n",
            "  FN: Israeli-PLO\n",
            "  FN: West Bank\n",
            "Sentence: The president 's aircraft has received permission to pass through Israeli airspace but the president is not expected to travel to the West Bank before Monday , \" Nabil Abu Rdainah told Reuters .\n",
            "  FP: Monday\n",
            "  FP: the West Bank\n",
            "  FN: West Bank\n",
            "Sentence: Arafat had been scheduled to meet former Israeli prime minister Shimon Peres in the West Bank town of Ramallah on Thursday but the venue was changed to Gaza after Israel denied flight clearance to the Palestinian leader 's helicopters .\n",
            "  FP: Thursday\n",
            "Sentence: Arafat subsequently cancelled a meeting between Israeli and PLO officials , on civilian affairs , at the Allenby Bridge crossing between Jordan and the West Bank .\n",
            "  FP: the Allenby Bridge\n",
            "  FP: the West Bank\n",
            "  FN: West Bank\n",
            "  FN: Allenby Bridge\n",
            "Sentence: Abu Rdainah said Arafat had decided against flying to the West Bank on Thursday , after Israel lifted the ban , because he had a busy schedule in Gaza and would not be free until Monday .\n",
            "  FP: the West Bank\n",
            "  FP: Thursday\n",
            "  FP: Monday\n",
            "  FN: West Bank\n",
            "Sentence: JERUSALEM 1996-08-22\n",
            "  FN: JERUSALEM\n",
            "Sentence: Yasser Arafat will meet Shimon Peres in Gaza on Thursday after Palestinians said the right-wing Israeli government had barred the Palestinian leader from flying to the West Bank for talks with the former prime minister .\n",
            "  FP: the West Bank\n",
            "  FP: Thursday\n",
            "  FN: West Bank\n",
            "Sentence: Palestinian officials said the Israeli government had barred Arafat from overflying Israel in a Palestinian helicopter to the West Bank in an attempt to bar the meeting with Peres .\n",
            "  FP: the West Bank\n",
            "  FN: West Bank\n",
            "Sentence: Israeli Prime Minister Benjamin Netanyahu has accused opposition leader Peres , who he defeated in May elections , of trying to undermine his Likud government 's authority to conduct peace talks .\n",
            "  FP: May\n",
            "Sentence: DUBAI 1996-08-22\n",
            "  FN: DUBAI\n",
            "Sentence: Three Afghan guards brought to the United Arab Emirates last week by Russian hostages who escaped from the Taleban militia will return to Afghanistan in a few days , the Afghan embassy in Abu Dhabi said on Thursday .\n",
            "  FP: the United Arab Emirates\n",
            "  FP: last week\n",
            "  FP: Three\n",
            "  FP: Thursday\n",
            "  FP: a few days\n",
            "  FN: United Arab Emirates\n",
            "Sentence: \" Our ambassador is in touch with the UAE foreign ministry .\n",
            "  FP: the UAE foreign ministry\n",
            "  FN: UAE\n",
            "Sentence: Their return to Afghanistan will take place in two or three days , \" an embassy official said .\n",
            "  FP: two or three days\n",
            "Sentence: The three Islamic Taleban guards were overpowered by seven Russian aircrew who escaped to UAE state Sharjah last Friday on board their own aircraft after a year in the captivity of Taleban militia in Kandahar in southern Afghanistan .\n",
            "  FP: three\n",
            "  FP: a year\n",
            "  FP: UAE state Sharjah\n",
            "  FP: last Friday\n",
            "  FP: seven\n",
            "  FN: UAE\n",
            "  FN: Sharjah\n",
            "Sentence: The UAE said on Monday it would hand over the three to the International Red Crescent , possibly last Tuesday .\n",
            "  FP: three\n",
            "  FP: last Tuesday\n",
            "  FP: Monday\n",
            "  FP: the International Red Crescent\n",
            "  FN: International Red Crescent\n",
            "Sentence: When asked whether the three guards would travel back to Kandahar or the Afghan capital Kabul , the embassy official said : \" That has not been decided , but possibly Kandahar . \"\n",
            "  FP: three\n",
            "Sentence: The embassy official said the three men , believed to be in their 20s , were currently in Abu Dhabi .\n",
            "  FP: three\n",
            "Sentence: The Russians , working for the Aerostan firm in the Russian republic of Tatarstan , were taken hostage after a Taleban MiG-19 fighter forced their cargo plane to land in August 1995 .\n",
            "  FP: the Russian republic of Tatarstan\n",
            "  FP: August 1995\n",
            "  FP: Taleban MiG-19\n",
            "  FN: Russian\n",
            "  FN: MiG-19\n",
            "  FN: Taleban\n",
            "  FN: Tatarstan\n",
            "Sentence: The Russians , who said they overpowered the guards -- two armed with Kalashnikov automatic rifles -- while doing regular maintenance work on their Ilyushin 76 cargo plane last Friday , left the UAE capital Abu Dhabi for home on Sunday .\n",
            "  FP: Sunday\n",
            "  FP: last Friday\n",
            "  FP: two\n",
            "Sentence: BAGHDAD 1996-08-22\n",
            "  FN: BAGHDAD\n",
            "Sentence: Iraqi President Saddam Hussein has told visiting Russian ultra-nationalist Vladimir Zhirinovsky that Baghdad wanted to maintain \" friendship and cooperation \" with Moscow , official Iraqi newspapers said on Thursday .\n",
            "  FP: Thursday\n",
            "Sentence: They said Zhirinovsky told Saddam before he left Baghdad on Wednesday that his Liberal Democratic party and the Russian Duma ( parliament ) \" are calling for an immediate lifting of the embargo \" imposed on Iraq after its 1990 invasion of Kuwait .\n",
            "  FP: 1990\n",
            "  FP: Wednesday\n",
            "  FN: Duma\n",
            "Sentence: Zhirinovsky said on Tuesday he would press the Russian government to help end U.N. trade sanctions on Iraq and blamed Moscow for delaying establishment of good ties with Baghdad .\n",
            "  FP: Tuesday\n",
            "Sentence: Zhirinovsky visited Iraq twice in 1995 .\n",
            "  FP: 1995\n",
            "Sentence: Last October he was invited to attend the referendum held on Iraq 's presidency , which extended Saddam 's term for seven more years .\n",
            "  FP: Last October\n",
            "  FP: seven more years\n",
            "Sentence: PRESS DIGEST - Iraq - Aug 22 .\n",
            "  FP: PRESS DIGEST - Iraq - Aug 22\n",
            "  FN: Iraq\n",
            "Sentence: BAGHDAD 1996-08-22\n",
            "  FN: BAGHDAD\n",
            "Sentence: These are some of the leading stories in the official Iraqi press on Thursday .\n",
            "  FP: Thursday\n",
            "Sentence: THAWRA\n",
            "  FN: THAWRA\n",
            "Sentence: - Turkish foreign minister says Turkey will take part in the Baghdad trade fair that will be held in November .\n",
            "  FP: November\n",
            "Sentence: - A shipload of 12 tonnes of rice arrives in Umm Qasr port in the Gulf .\n",
            "  FP: 12 tonnes\n",
            "Sentence: PRESS DIGEST - Lebanon - Aug 22 .\n",
            "  FP: PRESS DIGEST - Lebanon - Aug 22\n",
            "  FN: Lebanon\n",
            "Sentence: BEIRUT 1996-08-22\n",
            "  FP: BEIRUT 1996-08-22\n",
            "  FN: BEIRUT\n",
            "Sentence: These are the leading stories in the Beirut press on Thursday .\n",
            "  FP: Thursday\n",
            "Sentence: AN-NAHAR\n",
            "  FN: AN-NAHAR\n",
            "Sentence: AS-SAFIR\n",
            "  FN: AS-SAFIR\n",
            "Sentence: - Parliament Speaker Berri : Israel is preparing for war against Syria and Lebanon .\n",
            "  FP: Parliament\n",
            "Sentence: - Continued criticism of law violation incidents -- which occurred in the Mount Lebanon elections last Sunday .\n",
            "  FP: last Sunday\n",
            "Sentence: AD-DIYAR\n",
            "  FN: AD-DIYAR\n",
            "Sentence: - Hariri to step into the election battle with an incomplete list .\n",
            "  FP: - Hariri\n",
            "  FN: Hariri\n",
            "Sentence: NIDA'A AL-WATAN\n",
            "  FN: NIDA'A AL-WATAN\n",
            "Sentence: - Maronite Patriarch Sfeir expressed sorrow over the violations in Sunday ' elections .\n",
            "  FP: Sunday\n",
            "  FN: Maronite\n",
            "Sentence: CHICAGO 1996-08-22\n",
            "  FN: CHICAGO\n",
            "Sentence: Early calls on CME live and feeder cattle futures ranged from 0.200 cent higher to 0.100 lower , livestock analysts said .\n",
            "  FP: 0.200 cent\n",
            "  FP: 0.100\n",
            "Sentence: KinderCare Learning Centers Inc said on Thursday that a debt buyback would mean an extraordinary loss of $ 1.2 million in its fiscal 1997 first quarter .\n",
            "  FP: $ 1.2 million\n",
            "  FP: Thursday\n",
            "  FP: its fiscal 1997 first quarter\n",
            "Sentence: RESEARCH ALERT - Lehman starts SNET .\n",
            "  FP: RESEARCH ALERT - Lehman\n",
            "  FN: Lehman\n"
          ]
        }
      ]
    },
    {
      "cell_type": "markdown",
      "metadata": {
        "id": "08TN8XOz9ftR"
      },
      "source": [
        "From the above result of the error report function, the values are confused with the numbers, days and dates.In some case the fractional values are taken as numbered entity relation."
      ]
    },
    {
      "cell_type": "markdown",
      "metadata": {
        "id": "w_V1GPaL9ftS"
      },
      "source": [
        "Now, use the insights from your error analysis to improve the automated prediction that you implemented in Problem&nbsp;2. While the best way to do this would be to [update spaCy&rsquo;s NER model](https://spacy.io/usage/linguistic-features#updating) using domain-specific training data, for this lab it suffices to write code to post-process the output produced by spaCy. You should be able to improve the F1 score from Problem&nbsp;2 by at last 15 percentage points."
      ]
    },
    {
      "cell_type": "code",
      "metadata": {
        "id": "ZWE0i_2g9ftS"
      },
      "source": [
        "def process_Predictions(df):\n",
        "  for row in df.itertuples():\n",
        "    doc = row[2]\n",
        "    sentence_id = row[1]\n",
        "    sentence = nlp(doc)\n",
        "    for ent in sentence.ents:\n",
        "      if (ent.label_!=\"DATE\" and ent.label_!=\"MONEY\" and ent.label_!=\"CARDINAL\"):\n",
        "        yield (sentence_id, ent.start, ent.end)"
      ],
      "execution_count": 16,
      "outputs": []
    },
    {
      "cell_type": "code",
      "metadata": {
        "colab": {
          "base_uri": "https://localhost:8080/"
        },
        "id": "-wRZ7bHmtOlh",
        "outputId": "ee437c2c-4e66-4789-fb4a-2df093d1b06e"
      },
      "source": [
        " improved_pred = set(process_Predictions(df_dev))   # prdiction is improved by removing anonymous labels\n",
        "evaluation_report(spans_dev_gold,improved_pred)     # F1 score is increase to certain limit"
      ],
      "execution_count": 17,
      "outputs": [
        {
          "output_type": "stream",
          "name": "stdout",
          "text": [
            "Precision :  77.12393566698202\n",
            "Recall :  68.88625992901808\n",
            "F1 Score : 72.77271915729334\n"
          ]
        }
      ]
    },
    {
      "cell_type": "markdown",
      "metadata": {
        "id": "mjBfayQ59ftT"
      },
      "source": [
        "Show that you achieve the performance goal by reporting the evaluation measures that you implemented in Problem&nbsp;1."
      ]
    },
    {
      "cell_type": "markdown",
      "metadata": {
        "id": "K-LsplIf9ftU"
      },
      "source": [
        "Before going on, we ask you to store the outputs of the improved named entity recognizer on the development data in a new data frame. This new frame should have the same layout as the original data frame for the development data that you loaded above, but should contain the *predicted* start and end positions for each token span, rather than the gold positions. As the `label` of each span, you can use the special value `--NME--`."
      ]
    },
    {
      "cell_type": "code",
      "metadata": {
        "id": "OPG0GHC-TA48"
      },
      "source": [
        "u = list(improved_pred)[1][0]"
      ],
      "execution_count": 18,
      "outputs": []
    },
    {
      "cell_type": "code",
      "metadata": {
        "colab": {
          "base_uri": "https://localhost:8080/"
        },
        "id": "28oiDgaHQwgp",
        "outputId": "97b3531c-c8a4-4cc3-fa09-89b98653e1bc"
      },
      "source": [
        "df_dev[df_dev[\"sentence_id\"] == u ].iloc[0] # there may be possibility mutiple rows have a same sentenc id"
      ],
      "execution_count": 19,
      "outputs": [
        {
          "output_type": "execute_result",
          "data": {
            "text/plain": [
              "sentence_id                 0958-052\n",
              "sentence       SAN DIEGO AT MONTREAL\n",
              "beg                                0\n",
              "end                                2\n",
              "label               San_Diego_Padres\n",
              "Name: 455, dtype: object"
            ]
          },
          "metadata": {},
          "execution_count": 19
        }
      ]
    },
    {
      "cell_type": "code",
      "metadata": {
        "id": "-QtRI5_uNKbi"
      },
      "source": [
        "column_names = [\"sentence_id\",\"sentence\",\"beg\",\"end\",\"label\"]\n",
        "\n",
        "output = [] \n",
        "\n",
        "for x in improved_pred:\n",
        "  s_id,beg,end = x\n",
        "  label = \"--NME--\"\n",
        "  sentence = df_dev[df_dev[\"sentence_id\"] == s_id].iloc[0][\"sentence\"]   # took the sentence that occurs in the head of the list\n",
        "  output.append((s_id,sentence,beg,end,label))\n",
        "\n",
        "# improved dataframe\n",
        "updated_data = pd.DataFrame(output,columns=column_names)  "
      ],
      "execution_count": 20,
      "outputs": []
    },
    {
      "cell_type": "code",
      "metadata": {
        "colab": {
          "base_uri": "https://localhost:8080/",
          "height": 206
        },
        "id": "NyhKOz0aTvoJ",
        "outputId": "cce6a6ab-de8b-4fab-ae40-8021a80df980"
      },
      "source": [
        "updated_data.head() "
      ],
      "execution_count": 21,
      "outputs": [
        {
          "output_type": "execute_result",
          "data": {
            "text/html": [
              "<div>\n",
              "<style scoped>\n",
              "    .dataframe tbody tr th:only-of-type {\n",
              "        vertical-align: middle;\n",
              "    }\n",
              "\n",
              "    .dataframe tbody tr th {\n",
              "        vertical-align: top;\n",
              "    }\n",
              "\n",
              "    .dataframe thead th {\n",
              "        text-align: right;\n",
              "    }\n",
              "</style>\n",
              "<table border=\"1\" class=\"dataframe\">\n",
              "  <thead>\n",
              "    <tr style=\"text-align: right;\">\n",
              "      <th></th>\n",
              "      <th>sentence_id</th>\n",
              "      <th>sentence</th>\n",
              "      <th>beg</th>\n",
              "      <th>end</th>\n",
              "      <th>label</th>\n",
              "    </tr>\n",
              "  </thead>\n",
              "  <tbody>\n",
              "    <tr>\n",
              "      <th>0</th>\n",
              "      <td>0981-003</td>\n",
              "      <td>Shares of Douglas &amp; Lomason Co were up 4-1/2 a...</td>\n",
              "      <td>2</td>\n",
              "      <td>6</td>\n",
              "      <td>--NME--</td>\n",
              "    </tr>\n",
              "    <tr>\n",
              "      <th>1</th>\n",
              "      <td>0958-052</td>\n",
              "      <td>SAN DIEGO AT MONTREAL</td>\n",
              "      <td>3</td>\n",
              "      <td>4</td>\n",
              "      <td>--NME--</td>\n",
              "    </tr>\n",
              "    <tr>\n",
              "      <th>2</th>\n",
              "      <td>1061-017</td>\n",
              "      <td>Scottish premier league division one</td>\n",
              "      <td>0</td>\n",
              "      <td>1</td>\n",
              "      <td>--NME--</td>\n",
              "    </tr>\n",
              "    <tr>\n",
              "      <th>3</th>\n",
              "      <td>1089-025</td>\n",
              "      <td>Steve Stricker , who tied for second at last w...</td>\n",
              "      <td>11</td>\n",
              "      <td>15</td>\n",
              "      <td>--NME--</td>\n",
              "    </tr>\n",
              "    <tr>\n",
              "      <th>4</th>\n",
              "      <td>1050-003</td>\n",
              "      <td>Scorers : Andy Townsend ( 5th ) , Keith O'Neil...</td>\n",
              "      <td>22</td>\n",
              "      <td>24</td>\n",
              "      <td>--NME--</td>\n",
              "    </tr>\n",
              "  </tbody>\n",
              "</table>\n",
              "</div>"
            ],
            "text/plain": [
              "  sentence_id                                           sentence  ...  end    label\n",
              "0    0981-003  Shares of Douglas & Lomason Co were up 4-1/2 a...  ...    6  --NME--\n",
              "1    0958-052                              SAN DIEGO AT MONTREAL  ...    4  --NME--\n",
              "2    1061-017               Scottish premier league division one  ...    1  --NME--\n",
              "3    1089-025  Steve Stricker , who tied for second at last w...  ...   15  --NME--\n",
              "4    1050-003  Scorers : Andy Townsend ( 5th ) , Keith O'Neil...  ...   24  --NME--\n",
              "\n",
              "[5 rows x 5 columns]"
            ]
          },
          "metadata": {},
          "execution_count": 21
        }
      ]
    },
    {
      "cell_type": "markdown",
      "metadata": {
        "id": "jKGrHfy69ftV"
      },
      "source": [
        "## Problem 4: Entity linking"
      ]
    },
    {
      "cell_type": "markdown",
      "metadata": {
        "id": "vTn3iOYf9ftW"
      },
      "source": [
        "Now that we have a method for predicting mention spans, we turn to the task of **entity linking**, which amounts to predicting the knowledge base entity that is referenced by a given mention. In our case, for each span we want to predict the Wikipedia page that this mention references.\n",
        "\n",
        "Start by extending the generator function that you implemented in Problem&nbsp;2 to labelled spans."
      ]
    },
    {
      "cell_type": "code",
      "metadata": {
        "id": "EucJ9QQz9ftX"
      },
      "source": [
        "def gold_mentions(df):\n",
        "    \"\"\"Yield the gold-standard mentions in a data frame.\n",
        "\n",
        "    Args:\n",
        "        df: A data frame.\n",
        "\n",
        "    Yields:\n",
        "        The gold-standard mention spans in the specified data frame as\n",
        "        quadruples consisting of the sentence id, start position, end\n",
        "        position and entity label of each span.\n",
        "    \"\"\"\n",
        "    # TODO: Replace the next line with your own code\n",
        "    yield None"
      ],
      "execution_count": 22,
      "outputs": []
    },
    {
      "cell_type": "markdown",
      "metadata": {
        "id": "sGmrvu5b9ftY"
      },
      "source": [
        "A naive baseline for entity linking on our data set is to link each mention span to the Wikipedia page name that we get when we join the tokens in the span by underscores, as is standard in Wikipedia page names. Suppose, for example, that a span contains the two tokens\n",
        "\n",
        "    Jimi Hendrix\n",
        "\n",
        "The baseline Wikipedia page name for this span would be\n",
        "\n",
        "    Jimi_Hendrix\n",
        "\n",
        "Implement this naive baseline and evaluate its performance. Print the evaluation measures that you implemented in Problem&nbsp;1."
      ]
    },
    {
      "cell_type": "markdown",
      "metadata": {
        "id": "LxrP_cuH9ftZ"
      },
      "source": [
        "<div class=\"alert alert-warning\">\n",
        "    Here and in the remainder of this lab, you should base your entity predictions on the predicted spans that you computed in Problem&nbsp;3.\n",
        "</div>"
      ]
    },
    {
      "cell_type": "code",
      "metadata": {
        "id": "OLVS4JS09ftZ"
      },
      "source": [
        "# TODO: Write code here to implement the baseline"
      ],
      "execution_count": 23,
      "outputs": []
    },
    {
      "cell_type": "markdown",
      "metadata": {
        "id": "Fsmu3cKB9fta"
      },
      "source": [
        "## Problem 5: Extending the training data using the knowledge base"
      ]
    },
    {
      "cell_type": "markdown",
      "metadata": {
        "id": "wN7SsXkz9fta"
      },
      "source": [
        "State-of-the-art approaches to entity linking exploit information in knowledge bases. In our case, where Wikipedia is the knowledge base, one particularly useful type of information are links to other Wikipedia pages. In particular, we can interpret the anchor texts (the highlighted texts that you click on) as mentions of the entities (pages) that they link to. This allows us to harvest long lists of mention–entity pairings.\n",
        "\n",
        "The following cell loads a data frame summarizing anchor texts and page references harvested from the first paragraphs of the English Wikipedia. The data frame also contains all entity mentions in the training data (but not the development or the test data)."
      ]
    },
    {
      "cell_type": "code",
      "metadata": {
        "id": "FR_jsMiC9ftb",
        "colab": {
          "base_uri": "https://localhost:8080/",
          "height": 328
        },
        "outputId": "5d1b3738-eb04-4936-f991-9978ad8f4520"
      },
      "source": [
        "with bz2.open('kb.tsv.bz2', 'rt') as source:\n",
        "    df_kb = pd.read_csv(source, sep='\\t', quoting=csv.QUOTE_NONE)"
      ],
      "execution_count": 24,
      "outputs": [
        {
          "output_type": "error",
          "ename": "FileNotFoundError",
          "evalue": "ignored",
          "traceback": [
            "\u001b[0;31m---------------------------------------------------------------------------\u001b[0m",
            "\u001b[0;31mFileNotFoundError\u001b[0m                         Traceback (most recent call last)",
            "\u001b[0;32m<ipython-input-24-273810407e63>\u001b[0m in \u001b[0;36m<module>\u001b[0;34m()\u001b[0m\n\u001b[0;32m----> 1\u001b[0;31m \u001b[0;32mwith\u001b[0m \u001b[0mbz2\u001b[0m\u001b[0;34m.\u001b[0m\u001b[0mopen\u001b[0m\u001b[0;34m(\u001b[0m\u001b[0;34m'kb.tsv.bz2'\u001b[0m\u001b[0;34m,\u001b[0m \u001b[0;34m'rt'\u001b[0m\u001b[0;34m)\u001b[0m \u001b[0;32mas\u001b[0m \u001b[0msource\u001b[0m\u001b[0;34m:\u001b[0m\u001b[0;34m\u001b[0m\u001b[0;34m\u001b[0m\u001b[0m\n\u001b[0m\u001b[1;32m      2\u001b[0m     \u001b[0mdf_kb\u001b[0m \u001b[0;34m=\u001b[0m \u001b[0mpd\u001b[0m\u001b[0;34m.\u001b[0m\u001b[0mread_csv\u001b[0m\u001b[0;34m(\u001b[0m\u001b[0msource\u001b[0m\u001b[0;34m,\u001b[0m \u001b[0msep\u001b[0m\u001b[0;34m=\u001b[0m\u001b[0;34m'\\t'\u001b[0m\u001b[0;34m,\u001b[0m \u001b[0mquoting\u001b[0m\u001b[0;34m=\u001b[0m\u001b[0mcsv\u001b[0m\u001b[0;34m.\u001b[0m\u001b[0mQUOTE_NONE\u001b[0m\u001b[0;34m)\u001b[0m\u001b[0;34m\u001b[0m\u001b[0;34m\u001b[0m\u001b[0m\n",
            "\u001b[0;32m/usr/lib/python3.7/bz2.py\u001b[0m in \u001b[0;36mopen\u001b[0;34m(filename, mode, compresslevel, encoding, errors, newline)\u001b[0m\n\u001b[1;32m    316\u001b[0m \u001b[0;34m\u001b[0m\u001b[0m\n\u001b[1;32m    317\u001b[0m     \u001b[0mbz_mode\u001b[0m \u001b[0;34m=\u001b[0m \u001b[0mmode\u001b[0m\u001b[0;34m.\u001b[0m\u001b[0mreplace\u001b[0m\u001b[0;34m(\u001b[0m\u001b[0;34m\"t\"\u001b[0m\u001b[0;34m,\u001b[0m \u001b[0;34m\"\"\u001b[0m\u001b[0;34m)\u001b[0m\u001b[0;34m\u001b[0m\u001b[0;34m\u001b[0m\u001b[0m\n\u001b[0;32m--> 318\u001b[0;31m     \u001b[0mbinary_file\u001b[0m \u001b[0;34m=\u001b[0m \u001b[0mBZ2File\u001b[0m\u001b[0;34m(\u001b[0m\u001b[0mfilename\u001b[0m\u001b[0;34m,\u001b[0m \u001b[0mbz_mode\u001b[0m\u001b[0;34m,\u001b[0m \u001b[0mcompresslevel\u001b[0m\u001b[0;34m=\u001b[0m\u001b[0mcompresslevel\u001b[0m\u001b[0;34m)\u001b[0m\u001b[0;34m\u001b[0m\u001b[0;34m\u001b[0m\u001b[0m\n\u001b[0m\u001b[1;32m    319\u001b[0m \u001b[0;34m\u001b[0m\u001b[0m\n\u001b[1;32m    320\u001b[0m     \u001b[0;32mif\u001b[0m \u001b[0;34m\"t\"\u001b[0m \u001b[0;32min\u001b[0m \u001b[0mmode\u001b[0m\u001b[0;34m:\u001b[0m\u001b[0;34m\u001b[0m\u001b[0;34m\u001b[0m\u001b[0m\n",
            "\u001b[0;32m/usr/lib/python3.7/bz2.py\u001b[0m in \u001b[0;36m__init__\u001b[0;34m(self, filename, mode, buffering, compresslevel)\u001b[0m\n\u001b[1;32m     90\u001b[0m \u001b[0;34m\u001b[0m\u001b[0m\n\u001b[1;32m     91\u001b[0m         \u001b[0;32mif\u001b[0m \u001b[0misinstance\u001b[0m\u001b[0;34m(\u001b[0m\u001b[0mfilename\u001b[0m\u001b[0;34m,\u001b[0m \u001b[0;34m(\u001b[0m\u001b[0mstr\u001b[0m\u001b[0;34m,\u001b[0m \u001b[0mbytes\u001b[0m\u001b[0;34m,\u001b[0m \u001b[0mos\u001b[0m\u001b[0;34m.\u001b[0m\u001b[0mPathLike\u001b[0m\u001b[0;34m)\u001b[0m\u001b[0;34m)\u001b[0m\u001b[0;34m:\u001b[0m\u001b[0;34m\u001b[0m\u001b[0;34m\u001b[0m\u001b[0m\n\u001b[0;32m---> 92\u001b[0;31m             \u001b[0mself\u001b[0m\u001b[0;34m.\u001b[0m\u001b[0m_fp\u001b[0m \u001b[0;34m=\u001b[0m \u001b[0m_builtin_open\u001b[0m\u001b[0;34m(\u001b[0m\u001b[0mfilename\u001b[0m\u001b[0;34m,\u001b[0m \u001b[0mmode\u001b[0m\u001b[0;34m)\u001b[0m\u001b[0;34m\u001b[0m\u001b[0;34m\u001b[0m\u001b[0m\n\u001b[0m\u001b[1;32m     93\u001b[0m             \u001b[0mself\u001b[0m\u001b[0;34m.\u001b[0m\u001b[0m_closefp\u001b[0m \u001b[0;34m=\u001b[0m \u001b[0;32mTrue\u001b[0m\u001b[0;34m\u001b[0m\u001b[0;34m\u001b[0m\u001b[0m\n\u001b[1;32m     94\u001b[0m             \u001b[0mself\u001b[0m\u001b[0;34m.\u001b[0m\u001b[0m_mode\u001b[0m \u001b[0;34m=\u001b[0m \u001b[0mmode_code\u001b[0m\u001b[0;34m\u001b[0m\u001b[0;34m\u001b[0m\u001b[0m\n",
            "\u001b[0;31mFileNotFoundError\u001b[0m: [Errno 2] No such file or directory: 'kb.tsv.bz2'"
          ]
        }
      ]
    },
    {
      "cell_type": "markdown",
      "metadata": {
        "id": "y1cqh7rE9ftd"
      },
      "source": [
        "To understand what information is available in this data, the following cell shows the entry for the anchor text `Sweden`."
      ]
    },
    {
      "cell_type": "code",
      "metadata": {
        "id": "895K23Rd9fte"
      },
      "source": [
        "df_kb.loc[df_kb.mention == 'Sweden']"
      ],
      "execution_count": null,
      "outputs": []
    },
    {
      "cell_type": "markdown",
      "metadata": {
        "id": "rfaZBd0-9ftf"
      },
      "source": [
        "As you can see, each row of the data frame contains a pair $(m, e)$ of a mention $m$ and an entity $e$, as well as the conditional probability $P(e|m)$ for mention $m$ referring to entity $e$. These probabilities were estimated based on the frequencies of mention–entity pairs in the knowledge base. The example shows that the anchor text &lsquo;Sweden&rsquo; is most often used to refer to the entity [Sweden](http://en.wikipedia.org/wiki/Sweden), but in a few cases also to refer to Sweden&rsquo;s national football and ice hockey teams. Note that references are sorted in decreasing order of probability, so that the most probable pairing come first.\n",
        "\n",
        "Implement an entity linking method that resolves each mention to the most probable entity in the data frame. If the mention is not included in the data frame, you can predict the generic label `--NME--`. Print the precision, recall, and F1 of your method using the function that you implemented for Problem&nbsp;1."
      ]
    },
    {
      "cell_type": "code",
      "metadata": {
        "id": "eZCHL4Ff9ftg"
      },
      "source": [
        "# TODO: Write code here to implement the \"most probable entity\" method."
      ],
      "execution_count": null,
      "outputs": []
    },
    {
      "cell_type": "markdown",
      "metadata": {
        "id": "QXkD6DVM9fth"
      },
      "source": [
        "## Problem 6: Context-sensitive disambiguation"
      ]
    },
    {
      "cell_type": "markdown",
      "metadata": {
        "id": "me9_0thD9fti"
      },
      "source": [
        "Consider the entity mention &lsquo;Lincoln&rsquo;. The most probable entity for this mention turns out to be [Lincoln, Nebraska](http://en.wikipedia.org/Lincoln,_Nebraska); but in pages about American history, we would be better off to predict [Abraham Lincoln](http://en.wikipedia.org/Abraham_Lincoln). This suggests that we should try to disambiguate between different entity references based on the textual context on the page from which the mention was taken. Your task in this last problem is to implement this idea.\n",
        "\n",
        "Set up a dictionary that contains, for each mention $m$ that can refer to more than one entity $e$, a separate Naive Bayes classifier that is trained to predict the correct entity $e$, given the textual context of the mention. As the prior probabilities of the classifier, choose the probabilities $P(e|m)$ that you used in Problem&nbsp;5. To let you estimate the context-specific probabilities, we have compiled a data set with mention contexts:"
      ]
    },
    {
      "cell_type": "code",
      "metadata": {
        "id": "qS3As9RI9ftj"
      },
      "source": [
        "with bz2.open('contexts.tsv.bz2') as source:\n",
        "    df_contexts = pd.read_csv(source, sep='\\t', quoting=csv.QUOTE_NONE)"
      ],
      "execution_count": null,
      "outputs": []
    },
    {
      "cell_type": "markdown",
      "metadata": {
        "id": "C7WEgESn9ftj"
      },
      "source": [
        "This data frame contains, for each ambiguous mention $m$ and each knowledge base entity $e$ to which this mention can refer, up to 100 randomly selected contexts in which $m$ is used to refer to $e$. For this data, a **context** is defined as the 5 tokens to the left and the 5 tokens to the right of the mention. Here are a few examples:"
      ]
    },
    {
      "cell_type": "code",
      "metadata": {
        "id": "dFB_NoE_9ftk"
      },
      "source": [
        "df_contexts.head()"
      ],
      "execution_count": null,
      "outputs": []
    },
    {
      "cell_type": "markdown",
      "metadata": {
        "id": "BCHp8Hpn9ftl"
      },
      "source": [
        "Note that, in each context, the position of the mention is indicated by the `@` symbol.\n",
        "\n",
        "From this data frame, it is easy to select the data that you need to train the classifiers – the contexts and corresponding entities for all mentions. To illustrate this, the following cell shows how to select all contexts that belong to the mention &lsquo;Lincoln&rsquo;:"
      ]
    },
    {
      "cell_type": "code",
      "metadata": {
        "id": "SDnAEVLu9ftl"
      },
      "source": [
        "df_contexts.context[df_contexts.mention == 'Lincoln']"
      ],
      "execution_count": null,
      "outputs": []
    },
    {
      "cell_type": "markdown",
      "metadata": {
        "id": "URQTM0IJ9ftm"
      },
      "source": [
        "Implement the context-sensitive disambiguation method and evaluate its performance. Here are some more hints that may help you along the way:\n",
        "\n",
        "**Hint 1:** The prior probabilities for a Naive Bayes classifier can be specified using the `class_prior` option. You will have to provide the probabilities in the same order as the alphabetically sorted class (entity) names.\n",
        "\n",
        "**Hint 2:** Not all mentions in the knowledge base are ambiguous, and therefore not all mentions have context data. If a mention has only one possible entity, pick that one. If a mention has no entity at all, predict the `--NME--` label."
      ]
    },
    {
      "cell_type": "code",
      "metadata": {
        "id": "nkD77vQ-9ftm"
      },
      "source": [
        "# TODO: Write code here to implement the context-sensitive disambiguation method"
      ],
      "execution_count": null,
      "outputs": []
    },
    {
      "cell_type": "markdown",
      "metadata": {
        "id": "jdwiAN_l9ftn"
      },
      "source": [
        "You should expect to see a small (around 1&nbsp;unit) increase in both precision, recall, and F1."
      ]
    },
    {
      "cell_type": "markdown",
      "metadata": {
        "id": "O9XTfTMx9fto"
      },
      "source": [
        "**This was the last lab in the Text Mining course. Congratulations!**"
      ]
    },
    {
      "cell_type": "markdown",
      "metadata": {
        "id": "dJWO_8TL9fto"
      },
      "source": [
        "<div class=\"alert alert-info\">\n",
        "    Please read the section ‘General information’ on the ‘Labs’ page of the course website before submitting this notebook!\n",
        "</div>"
      ]
    }
  ]
}