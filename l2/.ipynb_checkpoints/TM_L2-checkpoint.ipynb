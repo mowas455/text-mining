{
 "cells": [
  {
   "cell_type": "markdown",
   "metadata": {
    "id": "gomfbv5LGvpv"
   },
   "source": [
    "# L2: Text classification"
   ]
  },
  {
   "cell_type": "markdown",
   "metadata": {
    "id": "joL4x8OfGvp6"
   },
   "source": [
    "Text classification is the task of sorting text documents into predefined classes. The concrete problem you will be working on in this lab is the classification of texts with respect to their political affiliation. The specific texts you are going to classify are speeches held in the [Riksdag](https://www.riksdagen.se/en/), the Swedish national legislature."
   ]
  },
  {
   "cell_type": "markdown",
   "metadata": {
    "id": "5R_nykYUGvp8"
   },
   "source": [
    "**Before starting with this lab, here is a quick reminder about our [Rules for hand-in assignments](https://www.ida.liu.se/~TDDE16/exam.en.shtml#handins) and the [Policy on cheating and plagiarism](https://www.ida.liu.se/~TDDE16/exam.en.shtml#cheating).**"
   ]
  },
  {
   "cell_type": "markdown",
   "metadata": {
    "id": "iZujZnwzGvp-"
   },
   "source": [
    "## Data set"
   ]
  },
  {
   "cell_type": "markdown",
   "metadata": {
    "id": "lBCXhg4mGvp_"
   },
   "source": [
    "The raw data for this lab comes from [The Riksdag’s Open Data](https://data.riksdagen.se/in-english/). We have tokenized the speeches and put them into two compressed [JSON](https://en.wikipedia.org/wiki/JSON) files:\n",
    "\n",
    "* `speeches-201718.json.bz2` (speeches from the 2017/2018 parliamentary session)\n",
    "* `speeches-201819.json.bz2` (ditto, from the 2018/2019 session)\n",
    "\n",
    "We start by loading these files into two separate data frames."
   ]
  },
  {
   "cell_type": "code",
   "execution_count": 1,
   "metadata": {
    "id": "iHL6jIypGvqB"
   },
   "outputs": [],
   "source": [
    "import pandas as pd\n",
    "import bz2\n",
    "\n",
    "with bz2.open('speeches-201718.json.bz2') as source:\n",
    "    speeches_201718 = pd.read_json(source)\n",
    "\n",
    "with bz2.open('speeches-201819.json.bz2') as source:\n",
    "    speeches_201819 = pd.read_json(source)"
   ]
  },
  {
   "cell_type": "markdown",
   "metadata": {
    "id": "0UkjqCMYGvqD"
   },
   "source": [
    "When you inspect the two data frames, you can see that there are three labelled columns: `id` (the official speech ID), `words` (the space-separated words of the speech), and `party` (the party of the speaker, represented by its customary abbreviation)."
   ]
  },
  {
   "cell_type": "code",
   "execution_count": 2,
   "metadata": {
    "colab": {
     "base_uri": "https://localhost:8080/",
     "height": 203
    },
    "id": "IRiGhw0PGvqF",
    "outputId": "052b8614-fe72-4480-884d-af3d2f5ae1ea"
   },
   "outputs": [
    {
     "data": {
      "text/html": [
       "<div>\n",
       "<style scoped>\n",
       "    .dataframe tbody tr th:only-of-type {\n",
       "        vertical-align: middle;\n",
       "    }\n",
       "\n",
       "    .dataframe tbody tr th {\n",
       "        vertical-align: top;\n",
       "    }\n",
       "\n",
       "    .dataframe thead th {\n",
       "        text-align: right;\n",
       "    }\n",
       "</style>\n",
       "<table border=\"1\" class=\"dataframe\">\n",
       "  <thead>\n",
       "    <tr style=\"text-align: right;\">\n",
       "      <th></th>\n",
       "      <th>id</th>\n",
       "      <th>words</th>\n",
       "      <th>party</th>\n",
       "    </tr>\n",
       "  </thead>\n",
       "  <tbody>\n",
       "    <tr>\n",
       "      <th>0</th>\n",
       "      <td>H5-002-004</td>\n",
       "      <td>eders majestäter eders kungliga högheter herr ...</td>\n",
       "      <td>S</td>\n",
       "    </tr>\n",
       "    <tr>\n",
       "      <th>1</th>\n",
       "      <td>H5-003-001</td>\n",
       "      <td>aktuell debatt om situationen för ensamkommand...</td>\n",
       "      <td>V</td>\n",
       "    </tr>\n",
       "    <tr>\n",
       "      <th>2</th>\n",
       "      <td>H5-003-002</td>\n",
       "      <td>herr talman och ledamöter jag vill börja med a...</td>\n",
       "      <td>S</td>\n",
       "    </tr>\n",
       "    <tr>\n",
       "      <th>3</th>\n",
       "      <td>H5-003-003</td>\n",
       "      <td>herr talman åhörare den här debatten handlar a...</td>\n",
       "      <td>M</td>\n",
       "    </tr>\n",
       "    <tr>\n",
       "      <th>4</th>\n",
       "      <td>H5-003-004</td>\n",
       "      <td>herr talman ansvar och rättssäkerhet är två or...</td>\n",
       "      <td>SD</td>\n",
       "    </tr>\n",
       "  </tbody>\n",
       "</table>\n",
       "</div>"
      ],
      "text/plain": [
       "           id                                              words party\n",
       "0  H5-002-004  eders majestäter eders kungliga högheter herr ...     S\n",
       "1  H5-003-001  aktuell debatt om situationen för ensamkommand...     V\n",
       "2  H5-003-002  herr talman och ledamöter jag vill börja med a...     S\n",
       "3  H5-003-003  herr talman åhörare den här debatten handlar a...     M\n",
       "4  H5-003-004  herr talman ansvar och rättssäkerhet är två or...    SD"
      ]
     },
     "execution_count": 2,
     "metadata": {},
     "output_type": "execute_result"
    }
   ],
   "source": [
    "speeches_201718.head()"
   ]
  },
  {
   "cell_type": "markdown",
   "metadata": {
    "id": "LclyJN0HGvqH"
   },
   "source": [
    "Throughout the lab, we will be using the speeches from 2017/2018 as our training data, and the speeches from 2018/2019 as our test data."
   ]
  },
  {
   "cell_type": "code",
   "execution_count": 3,
   "metadata": {
    "id": "Eb244qe4GvqJ"
   },
   "outputs": [],
   "source": [
    "training_data, test_data = speeches_201718, speeches_201819"
   ]
  },
  {
   "cell_type": "code",
   "execution_count": 4,
   "metadata": {
    "colab": {
     "base_uri": "https://localhost:8080/"
    },
    "id": "7eU0C8K6Nsz2",
    "outputId": "530c2dec-8be2-489a-81a6-497c248331f1"
   },
   "outputs": [
    {
     "name": "stdout",
     "output_type": "stream",
     "text": [
      "(12343, 3)\n",
      "(9288, 3)\n"
     ]
    }
   ],
   "source": [
    "print(training_data.shape)\n",
    "print(test_data.shape)"
   ]
  },
  {
   "cell_type": "markdown",
   "metadata": {
    "id": "CYjitc_IGvqK"
   },
   "source": [
    "For later reference, we store the sorted list of party abbreviations."
   ]
  },
  {
   "cell_type": "code",
   "execution_count": 5,
   "metadata": {
    "colab": {
     "base_uri": "https://localhost:8080/"
    },
    "id": "onmQuPUwGvqL",
    "outputId": "a53959ee-aca8-4634-8904-8b73b74f9dca"
   },
   "outputs": [
    {
     "name": "stdout",
     "output_type": "stream",
     "text": [
      "['C', 'KD', 'L', 'M', 'MP', 'S', 'SD', 'V']\n"
     ]
    }
   ],
   "source": [
    "parties = sorted(training_data['party'].unique())\n",
    "print(parties)"
   ]
  },
  {
   "cell_type": "markdown",
   "metadata": {
    "id": "NTNt4CjoGvqL"
   },
   "source": [
    "## Problem 1: Visualization"
   ]
  },
  {
   "cell_type": "markdown",
   "metadata": {
    "id": "KYbdP5EiGvqM"
   },
   "source": [
    "Your first task is to get to know the data better by producing a simple visualization.\n",
    "\n",
    "If you are not familiar with the Swedish political system and the parties represented in the Riksdag in particular, then we suggest that you have a look at the Wikipedia article about the [2018 Swedish general election](https://en.wikipedia.org/wiki/2018_Swedish_general_election).\n",
    "\n",
    "For the lab, we ask you to compare the two data frames with respect to the distribution of the speeches over the different parties. Write code to generate two bar plots that visualize this information, one for the 2017/2018 speeches and one for the 2018/2019 speeches. Inspect the two plots, and compare them\n",
    "\n",
    "* to each other\n",
    "* to the results of the 2014 and the 2018 general elections\n",
    "\n",
    "Summarize your observations in a short text in the cell below.\n",
    "\n",
    "**Tip:** If you need help with creating bar plots, [Bar Plot using Pandas](https://dfrieds.com/data-visualizations/bar-plot-python-pandas) provides a useful tutorial."
   ]
  },
  {
   "cell_type": "code",
   "execution_count": 6,
   "metadata": {
    "id": "MLiYex7YfK9L"
   },
   "outputs": [],
   "source": [
    "import matplotlib.pyplot as plt\n",
    "import pandas as pd\n",
    "import numpy as np\n",
    "import seaborn as sns\n",
    "#% matplotlib inline"
   ]
  },
  {
   "cell_type": "code",
   "execution_count": 7,
   "metadata": {
    "colab": {
     "base_uri": "https://localhost:8080/",
     "height": 409
    },
    "id": "yGvtpmNiUIPU",
    "outputId": "37761989-6a0e-48fd-e3a3-f4bd8152ce6b"
   },
   "outputs": [
    {
     "data": {
      "image/png": "[encoded data removed]",
      "text/plain": [
       "<Figure size 1152x432 with 2 Axes>"
      ]
     },
     "metadata": {
      "needs_background": "light"
     },
     "output_type": "display_data"
    }
   ],
   "source": [
    "plt.figure(figsize=(16,6))\n",
    "plt.subplot(1,2,1)\n",
    "training_data['party'].value_counts().plot(kind='bar',color=['green', 'red', 'blue', 'yellow', 'cyan','orange','pink','black'])\n",
    "plt.xlabel(\"Parties\")\n",
    "plt.ylabel(\"Counts\")\n",
    "plt.title(\"Speeches 2017/2018\")\n",
    "\n",
    "plt.subplot(1,2,2)\n",
    "test_data['party'].value_counts().plot(kind='bar',color=['green', 'red', 'blue', 'yellow', 'cyan','orange','pink','black'])\n",
    "plt.xlabel(\"Parties\")\n",
    "plt.ylabel(\"Counts\")\n",
    "plt.title(\"Speeches 2018/2019 speeches\")\n",
    "plt.show()"
   ]
  },
  {
   "cell_type": "markdown",
   "metadata": {
    "id": "F0IQKULBVNSO"
   },
   "source": [
    "From this bar plot, the distribution of the classes are imbalanced.where the party S has high number of speeches data compare with the other parties.\n",
    "\n",
    "\n",
    "The speeches in the year 2017/2018 were mostly given by parties M, S , MP. The other parties seems to give significantly less speeches than these 3.\n",
    "\n",
    "However in 2018/2019 S,M and SD seems to give the majority of the speeches where the other parties contribute a small portion of the speeches during the campain.\n",
    "\n",
    "In both the campains the parties M and S have managed to give the majority of the speeches."
   ]
  },
  {
   "cell_type": "markdown",
   "metadata": {
    "id": "0LtZcIZeGvqO"
   },
   "source": [
    "## Problem 2: Naive Bayes classifier"
   ]
  },
  {
   "cell_type": "markdown",
   "metadata": {
    "id": "w0OI4JQVGvqP"
   },
   "source": [
    "You are now ready to train and evaluate a classifier. More specifically, we ask you to train a [Multinomial Naive Bayes](https://scikit-learn.org/stable/modules/naive_bayes.html#multinomial-naive-bayes) classifier. You will have to\n",
    "\n",
    "1. vectorize the speeches in the training data\n",
    "2. instantiate and fit the Naive Bayes model\n",
    "3. evaluate the model on the test data\n",
    "\n",
    "The scikit-learn library provides a convenience class [Pipeline](https://scikit-learn.org/stable/modules/generated/sklearn.pipeline.Pipeline.html) that allows you to solve the first two tasks with very compact code. For the evaluation you can use the function [`classification_report`](https://scikit-learn.org/stable/modules/generated/sklearn.metrics.classification_report.html), which will report per-class precision, recall and F1, as well as overall accuracy."
   ]
  },
  {
   "cell_type": "markdown",
   "metadata": {
    "id": "qizTbMPNbH0k"
   },
   "source": [
    "For the implementation of text classification.\n",
    "\n",
    "\n",
    "vectorizer(countvectorizer)-- matrix document vector --- predictor(MNB)"
   ]
  },
  {
   "cell_type": "code",
   "execution_count": 8,
   "metadata": {
    "id": "JTYy8Hq7YbLC"
   },
   "outputs": [],
   "source": [
    "from sklearn.feature_extraction.text import CountVectorizer\n",
    "from sklearn.feature_extraction.text import TfidfTransformer\n",
    "from sklearn.preprocessing import StandardScaler\n",
    "from sklearn.pipeline import Pipeline\n",
    "from sklearn.naive_bayes import MultinomialNB\n",
    "from sklearn.metrics import classification_report"
   ]
  },
  {
   "cell_type": "code",
   "execution_count": 9,
   "metadata": {
    "colab": {
     "base_uri": "https://localhost:8080/"
    },
    "id": "ZgidnXasZoLZ",
    "outputId": "3c84df29-11a3-43c7-cbdc-fa804eb6e0fd"
   },
   "outputs": [
    {
     "name": "stderr",
     "output_type": "stream",
     "text": [
      "C:\\Users\\Mowniesh\\anaconda3\\lib\\site-packages\\sklearn\\metrics\\_classification.py:1245: UndefinedMetricWarning: Precision and F-score are ill-defined and being set to 0.0 in labels with no predicted samples. Use `zero_division` parameter to control this behavior.\n",
      "  _warn_prf(average, modifier, msg_start, len(result))\n",
      "C:\\Users\\Mowniesh\\anaconda3\\lib\\site-packages\\sklearn\\metrics\\_classification.py:1245: UndefinedMetricWarning: Precision and F-score are ill-defined and being set to 0.0 in labels with no predicted samples. Use `zero_division` parameter to control this behavior.\n",
      "  _warn_prf(average, modifier, msg_start, len(result))\n"
     ]
    },
    {
     "name": "stdout",
     "output_type": "stream",
     "text": [
      "              precision    recall  f1-score   support\n",
      "\n",
      "           C       0.00      0.00      0.00       865\n",
      "          KD       0.00      0.00      0.00       743\n",
      "           L       0.00      0.00      0.00       719\n",
      "           M       0.97      0.01      0.03      2370\n",
      "          MP       0.00      0.00      0.00      1481\n",
      "           S       0.35      1.00      0.51      4261\n",
      "          SD       0.00      0.00      0.00      1010\n",
      "           V       0.00      0.00      0.00       894\n",
      "\n",
      "    accuracy                           0.35     12343\n",
      "   macro avg       0.16      0.13      0.07     12343\n",
      "weighted avg       0.31      0.35      0.18     12343\n",
      "\n"
     ]
    },
    {
     "name": "stderr",
     "output_type": "stream",
     "text": [
      "C:\\Users\\Mowniesh\\anaconda3\\lib\\site-packages\\sklearn\\metrics\\_classification.py:1245: UndefinedMetricWarning: Precision and F-score are ill-defined and being set to 0.0 in labels with no predicted samples. Use `zero_division` parameter to control this behavior.\n",
      "  _warn_prf(average, modifier, msg_start, len(result))\n"
     ]
    }
   ],
   "source": [
    "# split the training and test data\n",
    "X_train = training_data[\"words\"]\n",
    "X_test  = test_data[\"words\"]\n",
    "y_train = training_data[\"party\"]\n",
    "y_test  = test_data[\"party\"]\n",
    "\n",
    "# pipline the process for text classification\n",
    "pipe = Pipeline([(\"count_vectorizer\",CountVectorizer()),\n",
    "                 (\"tfidf_transformer\",TfidfTransformer()),\n",
    "                 (\"nb_classifier\",MultinomialNB())])\n",
    "\n",
    "# fit the model to the train data\n",
    "pipe.fit(X_train, y_train)\n",
    "\n",
    "# predict the train values \n",
    "train_pred = pipe.predict(X_train)\n",
    "print(classification_report(y_train, train_pred,target_names=parties))"
   ]
  },
  {
   "cell_type": "code",
   "execution_count": 10,
   "metadata": {
    "colab": {
     "base_uri": "https://localhost:8080/"
    },
    "id": "vh9EnmaOeUGD",
    "outputId": "8245976e-be88-4ca8-ca0d-ee28678785ae"
   },
   "outputs": [
    {
     "name": "stdout",
     "output_type": "stream",
     "text": [
      "              precision    recall  f1-score   support\n",
      "\n",
      "           C       0.00      0.00      0.00       671\n",
      "          KD       0.00      0.00      0.00       821\n",
      "           L       0.00      0.00      0.00       560\n",
      "           M       0.50      0.00      0.00      1644\n",
      "          MP       0.00      0.00      0.00       809\n",
      "           S       0.30      1.00      0.46      2773\n",
      "          SD       0.00      0.00      0.00      1060\n",
      "           V       0.00      0.00      0.00       950\n",
      "\n",
      "    accuracy                           0.30      9288\n",
      "   macro avg       0.10      0.13      0.06      9288\n",
      "weighted avg       0.18      0.30      0.14      9288\n",
      "\n"
     ]
    },
    {
     "name": "stderr",
     "output_type": "stream",
     "text": [
      "C:\\Users\\Mowniesh\\anaconda3\\lib\\site-packages\\sklearn\\metrics\\_classification.py:1245: UndefinedMetricWarning: Precision and F-score are ill-defined and being set to 0.0 in labels with no predicted samples. Use `zero_division` parameter to control this behavior.\n",
      "  _warn_prf(average, modifier, msg_start, len(result))\n",
      "C:\\Users\\Mowniesh\\anaconda3\\lib\\site-packages\\sklearn\\metrics\\_classification.py:1245: UndefinedMetricWarning: Precision and F-score are ill-defined and being set to 0.0 in labels with no predicted samples. Use `zero_division` parameter to control this behavior.\n",
      "  _warn_prf(average, modifier, msg_start, len(result))\n",
      "C:\\Users\\Mowniesh\\anaconda3\\lib\\site-packages\\sklearn\\metrics\\_classification.py:1245: UndefinedMetricWarning: Precision and F-score are ill-defined and being set to 0.0 in labels with no predicted samples. Use `zero_division` parameter to control this behavior.\n",
      "  _warn_prf(average, modifier, msg_start, len(result))\n"
     ]
    }
   ],
   "source": [
    "# predict the test values\n",
    "test_pred = pipe.predict(X_test)\n",
    "print(classification_report(y_test, test_pred, target_names=parties))"
   ]
  },
  {
   "cell_type": "markdown",
   "metadata": {
    "id": "SAnD56uMGvqQ"
   },
   "source": [
    "Would you have expected the results that you got?"
   ]
  },
  {
   "cell_type": "markdown",
   "metadata": {
    "id": "j5DJXj7ShXWM"
   },
   "source": [
    "The train accuracy is 35% but the test accuracy is 30%,it is due to the unbalanced distribution of each classes in the training data.To achieve a high accuracy sampling the each classes of data.\n"
   ]
  },
  {
   "cell_type": "markdown",
   "metadata": {
    "id": "bv_DNIZdGvqR"
   },
   "source": [
    "## Problem 3: Baselines"
   ]
  },
  {
   "cell_type": "markdown",
   "metadata": {
    "id": "osUIgUCPGvqS"
   },
   "source": [
    "Evaluation metrics such as accuracy should not be understood as absolute measures of performance, but should be used only to compare different classifiers. When other classifiers are not available, a simple baseline is a classifier that generates predictions by random sampling, respecting the training set&rsquo;s class distribution. This baseline is implemented by the class [DummyClassifier](https://scikit-learn.org/stable/modules/generated/sklearn.dummy.DummyClassifier.html). What is the performance of the random baseline on the test data?"
   ]
  },
  {
   "cell_type": "code",
   "execution_count": 11,
   "metadata": {
    "id": "G062SQ7KGvqS"
   },
   "outputs": [],
   "source": [
    "from sklearn.dummy import DummyClassifier"
   ]
  },
  {
   "cell_type": "code",
   "execution_count": 12,
   "metadata": {
    "colab": {
     "base_uri": "https://localhost:8080/"
    },
    "id": "phTpiWKy-01i",
    "outputId": "e5cb497b-2804-4dfa-ff9f-6fb2cefc292f"
   },
   "outputs": [
    {
     "name": "stdout",
     "output_type": "stream",
     "text": [
      "Accuraccy of the training data by  using the dummy classifier 19.18\n",
      "Accuraccy of the test data by  using the dummy classifier 17.6\n"
     ]
    }
   ],
   "source": [
    "# Dummy classifier model\n",
    "clf = DummyClassifier(strategy='stratified')\n",
    "clf.fit(X_train, y_train)\n",
    "\n",
    "# Predict the train by using dummmy classifier\n",
    "dummy_train_pred = clf.predict(X_train)\n",
    "dummy_test_pred  = clf.predict(X_test)\n",
    "\n",
    "# Evaluate the model with train and test\n",
    "print(\"Accuraccy of the training data by  using the dummy classifier {}\".format(round(np.mean(y_train == dummy_train_pred)*100,2)))\n",
    "print(\"Accuraccy of the test data by  using the dummy classifier {}\".format(round(np.mean(y_test == dummy_test_pred)*100,2)))"
   ]
  },
  {
   "cell_type": "markdown",
   "metadata": {
    "id": "sOt-z_yhD71V"
   },
   "source": [
    "* The Random baseline Dummy classifier is giving low accuraccy for training and test data when compare with the multinomail naive bayes classifier"
   ]
  },
  {
   "cell_type": "markdown",
   "metadata": {
    "id": "KPcq647VGvqT"
   },
   "source": [
    "An even dumber baseline is to predict, for every document, that class which appears most often in the training data. This baseline is also called the most frequent class baseline. What is the accuracy of that baseline on the test data?"
   ]
  },
  {
   "cell_type": "code",
   "execution_count": 13,
   "metadata": {
    "colab": {
     "base_uri": "https://localhost:8080/"
    },
    "id": "RAJFFBJqE1rb",
    "outputId": "68d5f308-419f-49eb-bb2c-7472ac402027"
   },
   "outputs": [
    {
     "name": "stdout",
     "output_type": "stream",
     "text": [
      "Accuraccy of the training data by  using the dummy classifier 34.52\n",
      "Accuraccy of the test data by  using the dummy classifier 29.86\n"
     ]
    }
   ],
   "source": [
    "# Dummy classifier model\n",
    "clf = DummyClassifier(strategy='most_frequent')\n",
    "clf.fit(X_train, y_train)\n",
    "\n",
    "# Predict the train by using dummmy classifier\n",
    "dummy_train_pred = clf.predict(X_train)\n",
    "dummy_test_pred  = clf.predict(X_test)\n",
    "\n",
    "# Evaluate the model with train and test\n",
    "print(\"Accuraccy of the training data by  using the dummy classifier {}\".format(round(np.mean(y_train == dummy_train_pred)*100,2)))\n",
    "print(\"Accuraccy of the test data by  using the dummy classifier {}\".format(round(np.mean(y_test == dummy_test_pred)*100,2)))"
   ]
  },
  {
   "cell_type": "markdown",
   "metadata": {
    "id": "1g_GepchFCda"
   },
   "source": [
    "The accuracy of the base line clsssifier using most_frequent strategy is more similar to the naive bayes classifier"
   ]
  },
  {
   "cell_type": "markdown",
   "metadata": {
    "id": "uLnwE8NhGvqU"
   },
   "source": [
    "## Problem 4: Creating a balanced data set"
   ]
  },
  {
   "cell_type": "markdown",
   "metadata": {
    "id": "ZDdBuKUpGvqU"
   },
   "source": [
    "As you saw in Problem&nbsp;1, the distribution of the speeches over the eight different parties (classes) is imbalanced. One technique used to alleviate this is **undersampling**, in which one randomly removes samples from over-represented classes until all classes are represented with the same number of samples.\n",
    "\n",
    "Implement undersampling to create a balanced subset of the training data. Rerun the evaluation from Problem&nbsp;2 on the balanced data and compare the results. Summarise your results in a short text.\n",
    "\n",
    "**Hint:** Your balanced subset should consist of 5,752 speeches."
   ]
  },
  {
   "cell_type": "code",
   "execution_count": 14,
   "metadata": {
    "id": "HOd3kjpjGvqV"
   },
   "outputs": [],
   "source": [
    "from sklearn.utils import resample\n",
    "\n",
    "min_amount = min(training_data['party'].value_counts())\n",
    "min_amount\n",
    "\n",
    "# open a list to segragate a each class values\n",
    "dflist=[]\n",
    "for i in parties:\n",
    "   dflist.append(training_data[training_data[\"party\"]==i])\n",
    "\n",
    "# sampling function\n",
    "def nsample(x, n=min_amount):\n",
    "  new = resample(x, replace = False, n_samples = n)\n",
    "  return new  \n",
    "\n",
    "# Apppend the eqaully sampled data of each classes\n",
    "undersampled_data  = []\n",
    "for i in dflist:\n",
    "  undersampled_data.append(nsample(i))\n",
    "\n",
    "# Final undersampled data\n",
    "df2 =  pd.concat(undersampled_data)\n"
   ]
  },
  {
   "cell_type": "code",
   "execution_count": 15,
   "metadata": {
    "colab": {
     "base_uri": "https://localhost:8080/"
    },
    "id": "bio9Fa5kVmbh",
    "outputId": "a1ab7864-342c-4dc2-e022-2b1f64963945"
   },
   "outputs": [
    {
     "name": "stdout",
     "output_type": "stream",
     "text": [
      "              precision    recall  f1-score   support\n",
      "\n",
      "           C       0.94      0.93      0.93       719\n",
      "          KD       0.85      0.97      0.91       719\n",
      "           L       0.96      0.95      0.96       719\n",
      "           M       0.84      0.95      0.89       719\n",
      "          MP       0.96      0.85      0.90       719\n",
      "           S       0.99      0.83      0.90       719\n",
      "          SD       0.95      0.92      0.93       719\n",
      "           V       0.87      0.93      0.90       719\n",
      "\n",
      "    accuracy                           0.92      5752\n",
      "   macro avg       0.92      0.92      0.92      5752\n",
      "weighted avg       0.92      0.92      0.92      5752\n",
      "\n",
      "              precision    recall  f1-score   support\n",
      "\n",
      "           C       0.30      0.40      0.34       671\n",
      "          KD       0.24      0.43      0.31       821\n",
      "           L       0.31      0.38      0.34       560\n",
      "           M       0.37      0.54      0.44      1644\n",
      "          MP       0.34      0.34      0.34       809\n",
      "           S       0.83      0.28      0.42      2773\n",
      "          SD       0.46      0.37      0.41      1060\n",
      "           V       0.39      0.51      0.44       950\n",
      "\n",
      "    accuracy                           0.39      9288\n",
      "   macro avg       0.40      0.41      0.38      9288\n",
      "weighted avg       0.50      0.39      0.40      9288\n",
      "\n"
     ]
    }
   ],
   "source": [
    "# split the training and test data\n",
    "bX_train = df2[\"words\"]\n",
    "by_train = df2[\"party\"]\n",
    "\n",
    "\n",
    "# fit the model to the train data\n",
    "pipe.fit(bX_train, by_train)\n",
    "\n",
    "# predict the train values \n",
    "btrain_pred = pipe.predict(bX_train)\n",
    "print(classification_report(by_train, btrain_pred,target_names=parties))\n",
    "\n",
    "# predict the test values\n",
    "btest_pred = pipe.predict(X_test)\n",
    "print(classification_report(y_test, btest_pred,target_names=parties))"
   ]
  },
  {
   "cell_type": "markdown",
   "metadata": {
    "id": "tjucFcevc0jt"
   },
   "source": [
    "* From the accuracy , the model is overfitted. By using the undersampling technique we resampled the data into equal sample,so the accuracy of the test data is 39%.\n"
   ]
  },
  {
   "cell_type": "markdown",
   "metadata": {
    "id": "v_hY_fOmGvqW"
   },
   "source": [
    "## Problem 5: Confusion matrix"
   ]
  },
  {
   "cell_type": "markdown",
   "metadata": {
    "id": "_09RHuvkGvqX"
   },
   "source": [
    "A **confusion matrix** is a specific table that is useful when analysing the performance of a classifier. In this table, both the rows and the columns correspond to classes, and each cell $(i, j)$ states how many times a sample with gold-standard class $i$ was predicted as belonging to class $j$.\n",
    "\n",
    "In scitkit-learn, the confusion matrix of a classifier is computed by the function [`confusion_matrix`](https://scikit-learn.org/stable/modules/generated/sklearn.metrics.confusion_matrix.html). If you would rather see a visual representation, you can also use [`plot_confusion_matrix`](https://scikit-learn.org/stable/modules/generated/sklearn.metrics.plot_confusion_matrix.html).\n",
    "\n",
    "Your task is to use the confusion matrix in order to find, for each given party $p$ in the Riksdag, that other party $p'$ which the classifier that you trained in Problem&nbsp;4 most often confuses with $p$ when it predicts the party of a speaker."
   ]
  },
  {
   "cell_type": "code",
   "execution_count": 16,
   "metadata": {
    "id": "4LKd2nMBGvqX"
   },
   "outputs": [],
   "source": [
    "# Creation of confusion matrix in using sklearn\n",
    "from sklearn.metrics import confusion_matrix\n",
    "from sklearn.metrics import ConfusionMatrixDisplay\n",
    "from sklearn.metrics import plot_confusion_matrix"
   ]
  },
  {
   "cell_type": "code",
   "execution_count": 17,
   "metadata": {
    "colab": {
     "base_uri": "https://localhost:8080/",
     "height": 203
    },
    "id": "PTAR0iq54ms3",
    "outputId": "4718c7d5-5b9a-45ad-bf95-cab4707c4558"
   },
   "outputs": [
    {
     "data": {
      "text/html": [
       "<div>\n",
       "<style scoped>\n",
       "    .dataframe tbody tr th:only-of-type {\n",
       "        vertical-align: middle;\n",
       "    }\n",
       "\n",
       "    .dataframe tbody tr th {\n",
       "        vertical-align: top;\n",
       "    }\n",
       "\n",
       "    .dataframe thead th {\n",
       "        text-align: right;\n",
       "    }\n",
       "</style>\n",
       "<table border=\"1\" class=\"dataframe\">\n",
       "  <thead>\n",
       "    <tr style=\"text-align: right;\">\n",
       "      <th></th>\n",
       "      <th>id</th>\n",
       "      <th>words</th>\n",
       "      <th>party</th>\n",
       "    </tr>\n",
       "  </thead>\n",
       "  <tbody>\n",
       "    <tr>\n",
       "      <th>0</th>\n",
       "      <td>H5-002-004</td>\n",
       "      <td>eders majestäter eders kungliga högheter herr ...</td>\n",
       "      <td>S</td>\n",
       "    </tr>\n",
       "    <tr>\n",
       "      <th>1</th>\n",
       "      <td>H5-003-001</td>\n",
       "      <td>aktuell debatt om situationen för ensamkommand...</td>\n",
       "      <td>V</td>\n",
       "    </tr>\n",
       "    <tr>\n",
       "      <th>2</th>\n",
       "      <td>H5-003-002</td>\n",
       "      <td>herr talman och ledamöter jag vill börja med a...</td>\n",
       "      <td>S</td>\n",
       "    </tr>\n",
       "    <tr>\n",
       "      <th>3</th>\n",
       "      <td>H5-003-003</td>\n",
       "      <td>herr talman åhörare den här debatten handlar a...</td>\n",
       "      <td>M</td>\n",
       "    </tr>\n",
       "    <tr>\n",
       "      <th>4</th>\n",
       "      <td>H5-003-004</td>\n",
       "      <td>herr talman ansvar och rättssäkerhet är två or...</td>\n",
       "      <td>SD</td>\n",
       "    </tr>\n",
       "  </tbody>\n",
       "</table>\n",
       "</div>"
      ],
      "text/plain": [
       "           id                                              words party\n",
       "0  H5-002-004  eders majestäter eders kungliga högheter herr ...     S\n",
       "1  H5-003-001  aktuell debatt om situationen för ensamkommand...     V\n",
       "2  H5-003-002  herr talman och ledamöter jag vill börja med a...     S\n",
       "3  H5-003-003  herr talman åhörare den här debatten handlar a...     M\n",
       "4  H5-003-004  herr talman ansvar och rättssäkerhet är två or...    SD"
      ]
     },
     "execution_count": 17,
     "metadata": {},
     "output_type": "execute_result"
    }
   ],
   "source": [
    "training_data.head()"
   ]
  },
  {
   "cell_type": "code",
   "execution_count": 18,
   "metadata": {
    "colab": {
     "base_uri": "https://localhost:8080/"
    },
    "id": "8sbo4ZVRi6SE",
    "outputId": "4e4c9e26-ef6c-455d-9f00-9dc4f521a07c"
   },
   "outputs": [
    {
     "data": {
      "text/plain": [
       "array([[271,  97,  37, 131,  38,  12,  35,  50],\n",
       "       [ 71, 355,  33, 221,  33,  17,  37,  54],\n",
       "       [ 53,  64, 210,  92,  33,   9,  38,  61],\n",
       "       [137, 255,  91, 890,  59,  28,  90,  94],\n",
       "       [ 63, 108,  36, 135, 275,  73,  36,  83],\n",
       "       [172, 357, 139, 556, 292, 779, 176, 302],\n",
       "       [ 85, 147,  82, 207,  42,  12, 390,  95],\n",
       "       [ 51, 120,  43, 153,  36,  14,  53, 480]], dtype=int64)"
      ]
     },
     "execution_count": 18,
     "metadata": {},
     "output_type": "execute_result"
    }
   ],
   "source": [
    "cm = confusion_matrix(y_test,btest_pred)\n",
    "cm"
   ]
  },
  {
   "cell_type": "code",
   "execution_count": 19,
   "metadata": {
    "colab": {
     "base_uri": "https://localhost:8080/",
     "height": 574
    },
    "id": "pu3SCgdOiGPv",
    "outputId": "35380d7e-89b8-4162-d61e-7db67f0f3044"
   },
   "outputs": [
    {
     "data": {
      "image/png": "[encoded data removed]",
      "text/plain": [
       "<Figure size 720x720 with 2 Axes>"
      ]
     },
     "metadata": {
      "needs_background": "light"
     },
     "output_type": "display_data"
    }
   ],
   "source": [
    "fig,ax = plt.subplots(figsize=(10, 10))\n",
    "disp = ConfusionMatrixDisplay(confusion_matrix=cm,display_labels=parties)\n",
    "disp.plot(ax=ax)\n",
    "plt.show()"
   ]
  },
  {
   "cell_type": "markdown",
   "metadata": {
    "id": "7opTeLsCGvqY"
   },
   "source": [
    "Take a minute to reflect on whether your results make sense.\n",
    "\n",
    "\n",
    "* The results make sense , the confusion matrix Diagonal elemets seems to be in the high level with slight deviations with the off diagonals of S. However most of the parties have been classified correctly with slight outliers in certain parties. This compared to Problem is far more better way of classification."
   ]
  },
  {
   "cell_type": "markdown",
   "metadata": {
    "id": "-fP33pPaGvqZ"
   },
   "source": [
    "## Problem 6: Grid search"
   ]
  },
  {
   "cell_type": "markdown",
   "metadata": {
    "id": "gbEcjQxDGvqZ"
   },
   "source": [
    "Until now, you have been using the vectorizer and the Naive Bayes classifier with their default hyperparameters. When working with real-world applications, you would want to find settings for the hyperparameters that maximize the performance for the task at hand.\n",
    "\n",
    "Manually tweaking the hyperparameters of the various components of a vectorizer–classifier pipeline can be cumbersome. However, scikit-learn makes it possible to run an exhaustive search for the best hyperparameters over a grid of possible values. This method is known as **grid search**.\n",
    "\n",
    "The hyperparameters of a pipeline should never be tuned on the final test set. Instead, one should either use a separate validation set, or run cross-validation over different folds. Here we will use cross-validation.\n",
    "\n",
    "Implement a grid search with 5-fold cross-validation to find the optimal parameters in a grid defined by the following choices for the hyperparameters:\n",
    "\n",
    "* In the vectorizer, try a set-of-words (binary) model in addition to the default bag-of-words model (two possible parameter values).\n",
    "* Also in the vectorizer, try extracting bigrams in addition to unigrams (two possible parameter values).\n",
    "* In the Naive Bayes classifier, try using additive smoothing with $\\alpha \\in \\{1, 0{.}1\\}$ (two possible parameter values).\n",
    "\n",
    "Use the class [GridSearchCV](https://scikit-learn.org/stable/modules/generated/sklearn.model_selection.GridSearchCV.html) from the scikit-learn library. Print the results of your best model, along with the parameter values that yielded these results."
   ]
  },
  {
   "cell_type": "code",
   "execution_count": 20,
   "metadata": {
    "id": "gDO3cW0qxfnZ"
   },
   "outputs": [],
   "source": [
    "from sklearn.model_selection import GridSearchCV"
   ]
  },
  {
   "cell_type": "code",
   "execution_count": 21,
   "metadata": {
    "id": "qtg7Hp9RGvqa"
   },
   "outputs": [],
   "source": [
    "Gpipe = Pipeline([('count_vect',CountVectorizer()),\n",
    "                ('tfidf_transformer',TfidfTransformer()),\n",
    "                ('nbClassifier',MultinomialNB())])\n",
    "\n",
    "\n",
    "parameters = {\n",
    "    'count_vect__binary': [True, False],\n",
    "    'count_vect__ngram_range': [(1, 1), (1, 2)],\n",
    "    'nbClassifier__alpha': (1, 0.1),\n",
    "}\n",
    "\n",
    "grid_search = GridSearchCV(Gpipe, parameters, cv=5)"
   ]
  },
  {
   "cell_type": "code",
   "execution_count": 22,
   "metadata": {
    "colab": {
     "base_uri": "https://localhost:8080/"
    },
    "id": "cZzlgvAexT2N",
    "outputId": "f95603c6-f61f-405a-9987-f6e742c995d1"
   },
   "outputs": [
    {
     "name": "stdout",
     "output_type": "stream",
     "text": [
      "{'count_vect__binary': True, 'count_vect__ngram_range': (1, 2), 'nbClassifier__alpha': 0.1}\n"
     ]
    }
   ],
   "source": [
    " # find the best parameters for both the feature extraction and the\n",
    " # classifier\n",
    "clf = grid_search.fit(bX_train, by_train)\n",
    "print(grid_search.best_params_)"
   ]
  },
  {
   "cell_type": "code",
   "execution_count": 23,
   "metadata": {
    "colab": {
     "base_uri": "https://localhost:8080/"
    },
    "id": "B0bIzFAg4yo7",
    "outputId": "0179b31d-d92d-4fa5-f8f4-75ab6bdc928c"
   },
   "outputs": [
    {
     "name": "stdout",
     "output_type": "stream",
     "text": [
      "              precision    recall  f1-score   support\n",
      "\n",
      "           C       0.33      0.45      0.38       671\n",
      "          KD       0.30      0.43      0.35       821\n",
      "           L       0.32      0.40      0.36       560\n",
      "           M       0.43      0.50      0.46      1644\n",
      "          MP       0.36      0.42      0.39       809\n",
      "           S       0.80      0.41      0.54      2773\n",
      "          SD       0.52      0.44      0.48      1060\n",
      "           V       0.44      0.61      0.51       950\n",
      "\n",
      "    accuracy                           0.46      9288\n",
      "   macro avg       0.44      0.46      0.43      9288\n",
      "weighted avg       0.52      0.46      0.47      9288\n",
      "\n"
     ]
    }
   ],
   "source": [
    "cv_test_pred = clf.predict(X_test)\n",
    "print(classification_report(y_test,cv_test_pred,target_names=parties))"
   ]
  },
  {
   "cell_type": "markdown",
   "metadata": {
    "id": "puEhCZF7Gvqb"
   },
   "source": [
    "## Problem 7: Try to improve your results"
   ]
  },
  {
   "cell_type": "markdown",
   "metadata": {
    "id": "OqhQwcbiGvqc"
   },
   "source": [
    "Scikit-learn makes it easy to test different vectorizer–classifier pipelines – among other things, it includes different types of logistic regression classifiers, support vector machines, and decision trees. Browse the library to see which methods are supported.\n",
    "\n",
    "Build a pipeline that you find interesting, and use grid search to find optimal settings for the hyperparameters. Print the results of your best model."
   ]
  },
  {
   "cell_type": "code",
   "execution_count": 24,
   "metadata": {},
   "outputs": [],
   "source": [
    "from sklearn.linear_model import SGDClassifier"
   ]
  },
  {
   "cell_type": "code",
   "execution_count": 25,
   "metadata": {},
   "outputs": [],
   "source": [
    "svmpipe = Pipeline([('count_vect',CountVectorizer()),\n",
    "                ('tfidf_transformer',TfidfTransformer()),\n",
    "                ('svm',SGDClassifier())])\n",
    "\n",
    "parameter = {\n",
    "    'count_vect__binary': [True, False],\n",
    "    'count_vect__ngram_range': [(1, 1), (1, 2)],\n",
    "    \"svm__alpha\": (1,0.1)}\n",
    "\n",
    "grid_s1 = GridSearchCV(svmpipe, parameter, cv=5)"
   ]
  },
  {
   "cell_type": "code",
   "execution_count": 26,
   "metadata": {},
   "outputs": [
    {
     "name": "stdout",
     "output_type": "stream",
     "text": [
      "{'count_vect__binary': False, 'count_vect__ngram_range': (1, 1), 'svm__alpha': 0.1}\n"
     ]
    }
   ],
   "source": [
    "clf1 = grid_s1.fit(bX_train,by_train)\n",
    "print(grid_s1.best_params_)"
   ]
  },
  {
   "cell_type": "code",
   "execution_count": 27,
   "metadata": {},
   "outputs": [
    {
     "name": "stdout",
     "output_type": "stream",
     "text": [
      "              precision    recall  f1-score   support\n",
      "\n",
      "           C       0.40      0.23      0.30       671\n",
      "          KD       0.12      0.64      0.20       821\n",
      "           L       0.38      0.13      0.20       560\n",
      "           M       0.54      0.08      0.14      1644\n",
      "          MP       0.22      0.27      0.24       809\n",
      "           S       0.71      0.30      0.42      2773\n",
      "          SD       0.34      0.36      0.35      1060\n",
      "           V       0.37      0.29      0.33       950\n",
      "\n",
      "    accuracy                           0.28      9288\n",
      "   macro avg       0.39      0.29      0.27      9288\n",
      "weighted avg       0.47      0.28      0.30      9288\n",
      "\n"
     ]
    }
   ],
   "source": [
    "svm_test_pred = clf1.predict(X_test)\n",
    "print(classification_report(y_test,svm_test_pred,target_names=parties))"
   ]
  },
  {
   "cell_type": "markdown",
   "metadata": {
    "id": "IFm-HfZPGvqd"
   },
   "source": [
    "## Reflection questions"
   ]
  },
  {
   "cell_type": "markdown",
   "metadata": {
    "id": "dHgjb9ylGvqe"
   },
   "source": [
    "The following reflection questions are questions that you could be asked in the oral exam. Try to answer each of them in the form of a short text and enter it in the cell below. You will get feedback on your answers from your lab assistant."
   ]
  },
  {
   "cell_type": "markdown",
   "metadata": {
    "id": "05S-cm1qGvqe"
   },
   "source": [
    "**RQ 2.1:** Summarise the results of your experiments for Problem&nbsp;2. Are your results ‘good’ or ‘bad’? How do you determine that?\n",
    "\n",
    "**ANS :** The results from problem 2 are bad. This is because of the unbalanced training data. This makes it     harder for the Naive Bayes classfier to look for the underlying class for the unbalanced classes in real time.\n",
    "\n",
    "\n",
    "**RQ 2.2:** Summarise the results of your experiments for Problem&nbsp;4. Would you think that your results are typical even for other classification tasks? How would *oversampling* have looked like for this task? When would you use undersampling, when oversampling?\n",
    "\n",
    "**ANS :** The results from problem 4 looks promising compared to problem 2. The indivudual F-1 scores of classes looks good compared to problme 2 where the unbalaced classes were not been classified and hence with a F-1 score of zero. The results seem typical for any other classification task. \n",
    "\n",
    "if we had oversampled the data , Then we might slighty get a better training accuracy but, might get bad test scores since random addition of observations to unbalanced classes might lead to over fitting.\n",
    "\n",
    "\n",
    "\n",
    "**RQ 2.3:** Which model performed best in your experiments for Problem&nbsp;6? Why is it important to do a hyperparameter search before drawing conclusions about the performance of a model? Why is it often not done, anyway? Why should you never tune hyperparameters on the test set?\n",
    "\n",
    "\n",
    "**ANS :** In problem 6 , Multinomial Naive Bayes seems to perform better. The performence of a model often depends upon its parameters. If the parameter values are set to an arbitary value it might give us completely differernt results. Hence it is important to find the best hyperparameters to fit the model in order to get good resutls.\n",
    " \n",
    "Hyper parameter tuning is often neglected becuase the user trusts the default hyperparamaters of the model. \n",
    "\n",
    "Hyperparamreter tuning is often done with a validation set or by doing cross validation and not with test dataset because if we use the test dataset , This gives an oppourtunity for the model to actually see and learn from this dataset , hence it adds a bias while testing the data for accuracy.\n",
    "\n",
    "\n",
    "\n",
    "\n"
   ]
  },
  {
   "cell_type": "markdown",
   "metadata": {
    "id": "9DDiTG6aGvqf"
   },
   "source": [
    "*TODO: Enter your answers here*"
   ]
  },
  {
   "cell_type": "markdown",
   "metadata": {
    "id": "4VCcr2nWGvqf"
   },
   "source": [
    "**Congratulations on finishing L2! 👍**"
   ]
  }
 ],
 "metadata": {
  "colab": {
   "collapsed_sections": [],
   "name": "TM-L2.ipynb",
   "provenance": []
  },
  "kernelspec": {
   "display_name": "Python 3",
   "language": "python",
   "name": "python3"
  },
  "language_info": {
   "codemirror_mode": {
    "name": "ipython",
    "version": 3
   },
   "file_extension": ".py",
   "mimetype": "text/x-python",
   "name": "python",
   "nbconvert_exporter": "python",
   "pygments_lexer": "ipython3",
   "version": "3.8.8"
  }
 },
 "nbformat": 4,
 "nbformat_minor": 4
}
