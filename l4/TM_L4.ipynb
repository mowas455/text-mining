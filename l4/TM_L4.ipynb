{
  "nbformat": 4,
  "nbformat_minor": 0,
  "metadata": {
    "kernelspec": {
      "display_name": "Python 3",
      "language": "python",
      "name": "python3"
    },
    "language_info": {
      "codemirror_mode": {
        "name": "ipython",
        "version": 3
      },
      "file_extension": ".py",
      "mimetype": "text/x-python",
      "name": "python",
      "nbconvert_exporter": "python",
      "pygments_lexer": "ipython3",
      "version": "3.8.8"
    },
    "colab": {
      "name": "TM-L4.ipynb",
      "provenance": [],
      "collapsed_sections": []
    }
  },
  "cells": [
    {
      "cell_type": "markdown",
      "metadata": {
        "id": "HWrfHftSuVxE"
      },
      "source": [
        "# L4: Word embeddings"
      ]
    },
    {
      "cell_type": "markdown",
      "metadata": {
        "id": "_XGkxNakuVxL"
      },
      "source": [
        "In this lab you will explore word embeddings. A **word embedding** is a mapping of words to points in a vector space such that nearby words (points) are similar in terms of their distributional properties. You will use word embedding to find similar words, and evaluate their usefulness in an inference task.\n",
        "\n",
        "You will use the word vectors that come with [spaCy](http://spacy.io). Note that you will need the &lsquo;large&rsquo; English language model; the &lsquo;small&rsquo; model that you used in previous labs does not include proper word vectors."
      ]
    },
    {
      "cell_type": "code",
      "metadata": {
        "id": "FRiS8zj-UF77"
      },
      "source": [
        "#!python -m spacy download en_core_web_lg"
      ],
      "execution_count": 1,
      "outputs": []
    },
    {
      "cell_type": "code",
      "metadata": {
        "id": "cXb-qsGquVxO"
      },
      "source": [
        "import spacy\n",
        "nlp = spacy.load('en_core_web_lg')"
      ],
      "execution_count": 2,
      "outputs": []
    },
    {
      "cell_type": "markdown",
      "metadata": {
        "id": "v7yAe4ZZuVxS"
      },
      "source": [
        "Every word in the model&rsquo;s vocabulary comes with a 300-dimensional vector, represented as a NumPy array. The following code cell shows how to access the vector for the word *cheese*:"
      ]
    },
    {
      "cell_type": "code",
      "metadata": {
        "id": "AJVViMlruVxT",
        "colab": {
          "base_uri": "https://localhost:8080/"
        },
        "outputId": "c86ceb65-d3e7-404f-934b-bdd74e84e755"
      },
      "source": [
        "nlp.vocab['cheese'].vector"
      ],
      "execution_count": 3,
      "outputs": [
        {
          "output_type": "execute_result",
          "data": {
            "text/plain": [
              "array([-5.5252e-01,  1.8894e-01,  6.8737e-01, -1.9789e-01,  7.0575e-02,\n",
              "        1.0075e+00,  5.1789e-02, -1.5603e-01,  3.1941e-01,  1.1702e+00,\n",
              "       -4.7248e-01,  4.2867e-01, -4.2025e-01,  2.4803e-01,  6.8194e-01,\n",
              "       -6.7488e-01,  9.2401e-02,  1.3089e+00, -3.6278e-02,  2.0098e-01,\n",
              "        7.6005e-01, -6.6718e-02, -7.7794e-02,  2.3844e-01, -2.4351e-01,\n",
              "       -5.4164e-01, -3.3540e-01,  2.9805e-01,  3.5269e-01, -8.0594e-01,\n",
              "       -4.3611e-01,  6.1535e-01,  3.4212e-01, -3.3603e-01,  3.3282e-01,\n",
              "        3.8065e-01,  5.7427e-02,  9.9918e-02,  1.2525e-01,  1.1039e+00,\n",
              "        3.6678e-02,  3.0490e-01, -1.4942e-01,  3.2912e-01,  2.3300e-01,\n",
              "        4.3395e-01,  1.5666e-01,  2.2778e-01, -2.5830e-02,  2.4334e-01,\n",
              "       -5.8136e-02, -1.3486e-01,  2.4521e-01, -3.3459e-01,  4.2839e-01,\n",
              "       -4.8181e-01,  1.3403e-01,  2.6049e-01,  8.9933e-02, -9.3770e-02,\n",
              "        3.7672e-01, -2.9558e-02,  4.3841e-01,  6.1212e-01, -2.5720e-01,\n",
              "       -7.8506e-01,  2.3880e-01,  1.3399e-01, -7.9315e-02,  7.0582e-01,\n",
              "        3.9968e-01,  6.7779e-01, -2.0474e-03,  1.9785e-02, -4.2059e-01,\n",
              "       -5.3858e-01, -5.2155e-02,  1.7252e-01,  2.7547e-01, -4.4482e-01,\n",
              "        2.3595e-01, -2.3445e-01,  3.0103e-01, -5.5096e-01, -3.1159e-02,\n",
              "       -3.4433e-01,  1.2386e+00,  1.0317e+00, -2.2728e-01, -9.5207e-03,\n",
              "       -2.5432e-01, -2.9792e-01,  2.5934e-01, -1.0421e-01, -3.3876e-01,\n",
              "        4.2470e-01,  5.8335e-04,  1.3093e-01,  2.8786e-01,  2.3474e-01,\n",
              "        2.5905e-02, -6.4359e-01,  6.1330e-02,  6.3842e-01,  1.4705e-01,\n",
              "       -6.1594e-01,  2.5097e-01, -4.4872e-01,  8.6825e-01,  9.9555e-02,\n",
              "       -4.4734e-02, -7.4239e-01, -5.9147e-01, -5.4929e-01,  3.8108e-01,\n",
              "        5.5177e-02, -1.0487e-01, -1.2838e-01,  6.0521e-03,  2.8743e-01,\n",
              "        2.1592e-01,  7.2871e-02, -3.1644e-01, -4.3321e-01,  1.8682e-01,\n",
              "        6.7274e-02,  2.8115e-01, -4.6222e-02, -9.6803e-02,  5.6091e-01,\n",
              "       -6.7762e-01, -1.6645e-01,  1.5553e-01,  5.2301e-01, -3.0058e-01,\n",
              "       -3.7291e-01,  8.7895e-02, -1.7963e-01, -4.4193e-01, -4.4607e-01,\n",
              "       -2.4122e+00,  3.3738e-01,  6.2416e-01,  4.2787e-01, -2.5386e-01,\n",
              "       -6.1683e-01, -7.0097e-01,  4.9303e-01,  3.6916e-01, -9.7499e-02,\n",
              "        6.1411e-01, -4.7572e-03,  4.3916e-01, -2.1551e-01, -5.6745e-01,\n",
              "       -4.0278e-01,  2.9459e-01, -3.0850e-01,  1.0103e-01,  7.9741e-02,\n",
              "       -6.3811e-01,  2.4781e-01, -4.4546e-01,  1.0828e-01, -2.3624e-01,\n",
              "       -5.0838e-01, -1.7001e-01, -7.8735e-01,  3.4073e-01, -3.1830e-01,\n",
              "        4.5286e-01, -9.5118e-02,  2.0772e-01, -8.0183e-02, -3.7982e-01,\n",
              "       -4.9949e-01,  4.0759e-02, -3.7724e-01, -8.9705e-02, -6.8187e-01,\n",
              "        2.2106e-01, -3.9931e-01,  3.2329e-01, -3.6180e-01, -7.2093e-01,\n",
              "       -6.3404e-01,  4.3125e-01, -4.9743e-01, -1.7395e-01, -3.8779e-01,\n",
              "       -3.2556e-01,  1.4423e-01, -8.3401e-02, -2.2994e-01,  2.7793e-01,\n",
              "        4.9112e-01,  6.4511e-01, -7.8945e-02,  1.1171e-01,  3.7264e-01,\n",
              "        1.3070e-01, -6.1607e-02, -4.3501e-01,  2.8999e-02,  5.6224e-01,\n",
              "        5.8012e-02,  4.7078e-02,  4.2770e-01,  7.3245e-01, -2.1150e-02,\n",
              "        1.1988e-01,  7.8823e-02, -1.9106e-01,  3.5278e-02, -3.1102e-01,\n",
              "        1.3209e-01, -2.8606e-01, -1.5649e-01, -6.4339e-01,  4.4599e-01,\n",
              "       -3.0912e-01,  4.4520e-01, -3.6774e-01,  2.7327e-01,  6.7833e-01,\n",
              "       -8.3830e-02, -4.5120e-01,  1.0754e-01, -4.5908e-01,  1.5095e-01,\n",
              "       -4.5856e-01,  3.4465e-01,  7.8013e-02, -2.8319e-01, -2.8149e-02,\n",
              "        2.4404e-01, -7.1345e-01,  5.2834e-02, -2.8085e-01,  2.5344e-02,\n",
              "        4.2979e-02,  1.5663e-01, -7.4647e-01, -1.1301e+00,  4.4135e-01,\n",
              "        3.1444e-01, -1.0018e-01, -5.3526e-01, -9.0601e-01, -6.4954e-01,\n",
              "        4.2664e-02, -7.9927e-02,  3.2905e-01, -3.0797e-01, -1.9190e-02,\n",
              "        4.2765e-01,  3.1460e-01,  2.9051e-01, -2.7386e-01,  6.8483e-01,\n",
              "        1.9395e-02, -3.2884e-01, -4.8239e-01, -1.5747e-01, -1.6036e-01,\n",
              "        4.9164e-01, -7.0352e-01, -3.5591e-01, -7.4887e-01, -5.2827e-01,\n",
              "        4.4983e-02,  5.9247e-02,  4.6224e-01,  8.9697e-02, -7.5618e-01,\n",
              "        6.3682e-01,  9.0680e-02,  6.8830e-02,  1.8296e-01,  1.0754e-01,\n",
              "        6.7811e-01, -1.4716e-01,  1.7029e-01, -5.2630e-01,  1.9268e-01,\n",
              "        9.3130e-01,  8.0363e-01,  6.1324e-01, -3.0494e-01,  2.0236e-01,\n",
              "        5.8520e-01,  2.6484e-01, -4.5863e-01,  2.1035e-03, -5.6990e-01,\n",
              "       -4.9092e-01,  4.2511e-01, -1.0954e+00,  1.7124e-01,  2.2495e-01],\n",
              "      dtype=float32)"
            ]
          },
          "metadata": {},
          "execution_count": 3
        }
      ]
    },
    {
      "cell_type": "markdown",
      "metadata": {
        "id": "DQgiZQpGuVxW"
      },
      "source": [
        "## Problem 1: Finding similar words"
      ]
    },
    {
      "cell_type": "markdown",
      "metadata": {
        "id": "shiWUuOWuVxX"
      },
      "source": [
        "Your first task is to use the word embeddings to find similar words. More specifically, we ask you to write a function `most_similar` that takes a vector $x$ and returns a list with the 10 most similar entries in spaCy&rsquo;s vocabulary, with similarity being defined by cosine.\n",
        "\n",
        "**Tip:** spaCy already has a [`most_similar`](https://spacy.io/api/vectors#most_similar) method that you can wrap."
      ]
    },
    {
      "cell_type": "code",
      "metadata": {
        "id": "ruVF0zVIuVxZ",
        "colab": {
          "base_uri": "https://localhost:8080/"
        },
        "outputId": "3706c6d7-09bc-47cf-bd3a-fcf94da3c0b1"
      },
      "source": [
        "most_similar_w = nlp.vocab.vectors.most_similar((nlp.vocab[\"cheese\"].vector).reshape(1,-1), n=10)\n",
        "most_similar_w\n",
        "# it return keys, best rows, scores"
      ],
      "execution_count": 4,
      "outputs": [
        {
          "output_type": "execute_result",
          "data": {
            "text/plain": [
              "(array([[ 3410487188238951556,  1795962463927572069, 17479476687133065248,\n",
              "         13555189390988822485, 15970645565272367518, 13404274123157729149,\n",
              "         13526730482574066725, 15674428091679611195, 10271084669692215172,\n",
              "          3951336375243613317]], dtype=uint64),\n",
              " array([[ 10509,  43122,   2012,  43466,  17992, 211092,  20547,  10093,\n",
              "           3304,  21493]], dtype=int32),\n",
              " array([[1.    , 1.    , 1.    , 0.8229, 0.8229, 0.8229, 0.8163, 0.8163,\n",
              "         0.8163, 0.7992]], dtype=float32))"
            ]
          },
          "metadata": {},
          "execution_count": 4
        }
      ]
    },
    {
      "cell_type": "code",
      "metadata": {
        "id": "0ubVVIr6jIZS"
      },
      "source": [
        "def most_similar(values,n):\n",
        " \n",
        "  values = values.reshape(1,-1) # dimension is not suitable to feed in the most_similar function\n",
        "\n",
        "  index = nlp.vocab.vectors.most_similar(values,n=n)\n",
        "  similar_words =[]\n",
        "\n",
        "  for i in index[0][0]:\n",
        "   similar_words.append(nlp.vocab[i])  # append the realted words into a list by using nlp.vocab function\n",
        "\n",
        "  return similar_words"
      ],
      "execution_count": 5,
      "outputs": []
    },
    {
      "cell_type": "markdown",
      "metadata": {
        "id": "CTYK6BtYuVxa"
      },
      "source": [
        "Test your implementation by running the following code cell, which will print the 10 most similar words for the word *cheese*:"
      ]
    },
    {
      "cell_type": "code",
      "metadata": {
        "id": "FnpGJS-YuVxc",
        "colab": {
          "base_uri": "https://localhost:8080/"
        },
        "outputId": "44855f4c-7816-400f-ac3d-70146a944daa"
      },
      "source": [
        "print(' '.join(w.text for w in most_similar(nlp.vocab['cheese'].vector,10)))"
      ],
      "execution_count": 6,
      "outputs": [
        {
          "output_type": "stream",
          "name": "stdout",
          "text": [
            "Cheese CHEESE cheese Cheddar cheddar CHEDDAR BACON Bacon bacon cheeses\n"
          ]
        }
      ]
    },
    {
      "cell_type": "markdown",
      "metadata": {
        "id": "oF0lV2pYuVxd"
      },
      "source": [
        "You should get the following output:"
      ]
    },
    {
      "cell_type": "raw",
      "metadata": {
        "id": "uwGc1spVuVxe"
      },
      "source": [
        "CHEESE cheese Cheese Cheddar cheddar CHEDDAR BACON Bacon bacon cheeses"
      ]
    },
    {
      "cell_type": "markdown",
      "metadata": {
        "id": "DJeyNq1fuVxf"
      },
      "source": [
        "Once you have a working implementation of `most_similar`, use it to think about in what sense the returned words really are &lsquo;similar&rsquo; to the cue word. Try to find examples where the cue word and at least one of the words returned by `most_similar` are in the following semantic relations:\n",
        "\n",
        "1. synonymy (exchangeable meanings)\n",
        "2. antonymy (opposite meanings)\n",
        "3. hyperonymy/hyponymy (more specific/less specific meanings)\n",
        "\n",
        "Document your examples in the code cell below."
      ]
    },
    {
      "cell_type": "code",
      "metadata": {
        "id": "DILBbRBluVxh",
        "colab": {
          "base_uri": "https://localhost:8080/"
        },
        "outputId": "862082cc-3a15-4245-f1d6-8fba4d433590"
      },
      "source": [
        "print(' '.join(w.text for w in most_similar(nlp.vocab['great'].vector,10)))\n",
        "print(' '.join(w.text for w in most_similar(nlp.vocab['car'].vector,10)))\n",
        "print(' '.join(w.text for w in most_similar(nlp.vocab['fantasy'].vector,10)))"
      ],
      "execution_count": 7,
      "outputs": [
        {
          "output_type": "stream",
          "name": "stdout",
          "text": [
            "greAt GReat GREAT Great great GOOD good gOOD GOod Good\n",
            "Car car CAR CARs cars Cars CARS vehicle VEHICLE Vehicle\n",
            "FanTaSy Fantasy fantasy FANTASY FICTION fiction Fiction Fantasies FANTASIES fantasies\n"
          ]
        }
      ]
    },
    {
      "cell_type": "markdown",
      "metadata": {
        "id": "AWycvsBDuVxi"
      },
      "source": [
        "## Problem 2: Plotting similar words"
      ]
    },
    {
      "cell_type": "markdown",
      "metadata": {
        "id": "8nan-4oxuVxj"
      },
      "source": [
        "Your next task is to visualize the word embedding space by a plot. To do so, you will have to reduce the dimensionality of the space from 300 to 2&nbsp;dimensions. One suitable algorithm for this is [T-distributed Stochastic Neighbor Embedding](https://en.wikipedia.org/wiki/T-distributed_stochastic_neighbor_embedding) (TSNE), which is implemented in scikit-learn&rsquo;s [TSNE](https://scikit-learn.org/stable/modules/generated/sklearn.manifold.TSNE.html) class.\n",
        "\n",
        "Write a function `plot_most_similar` that takes a list of words (lexemes) and does the following:\n",
        "\n",
        "1. For each word in the list, find the most similar words (lexemes) in the spaCy vocabulary.\n",
        "2. Compute the TSNE transformation of the corresponding vectors to 2&nbsp;dimensions.\n",
        "3. Produce a scatter plot of the transformed vectors, with the vectors as points and the corresponding word forms as labels."
      ]
    },
    {
      "cell_type": "code",
      "metadata": {
        "id": "1yrhAdoH1d8n"
      },
      "source": [
        "from sklearn.manifold import TSNE\n",
        "import matplotlib.pyplot as plt"
      ],
      "execution_count": 8,
      "outputs": []
    },
    {
      "cell_type": "code",
      "metadata": {
        "id": "8dvplum-uVxl"
      },
      "source": [
        "\n",
        "def plot_most_similar(input):\n",
        "  similar_value = []\n",
        "  similar_word  = []\n",
        "  for i in input:\n",
        "    similar_value.extend([w.vector for w  in most_similar((i.vector),5)])   # similar words in a vector form\n",
        "    similar_word.extend([w.text for w  in most_similar((i.vector),5)])      # similar words in a text form\n",
        "  \n",
        "  X_embedded = TSNE(n_components=2).fit_transform(similar_value)   # minimize the high dimension to two dimensional vector\n",
        "  plt.figure(figsize=(10,10))\n",
        "  plt.scatter(X_embedded[:,0],X_embedded[:,1])    # scatter plot of the values\n",
        "\n",
        "  for i, txt in enumerate(similar_word):\n",
        "    plt.annotate(txt, (X_embedded[i][0], X_embedded[i][1]))  #annotate the scatter plot with words\n"
      ],
      "execution_count": 9,
      "outputs": []
    },
    {
      "cell_type": "markdown",
      "metadata": {
        "id": "gIXLZre-uVxm"
      },
      "source": [
        "Test your code by running the following cell:"
      ]
    },
    {
      "cell_type": "code",
      "metadata": {
        "id": "p1N4KfpYuVxn",
        "colab": {
          "base_uri": "https://localhost:8080/",
          "height": 662
        },
        "outputId": "567e253a-4a88-4191-a67f-6faf87530061"
      },
      "source": [
        "list_words = []\n",
        "for w in ['cheese', 'goat', 'sweden', 'university', 'computer']:\n",
        "  list_words.append(nlp.vocab[w])\n",
        "plot_most_similar(list_words)"
      ],
      "execution_count": 10,
      "outputs": [
        {
          "output_type": "stream",
          "name": "stderr",
          "text": [
            "/usr/local/lib/python3.7/dist-packages/sklearn/manifold/_t_sne.py:783: FutureWarning: The default initialization in TSNE will change from 'random' to 'pca' in 1.2.\n",
            "  FutureWarning,\n",
            "/usr/local/lib/python3.7/dist-packages/sklearn/manifold/_t_sne.py:793: FutureWarning: The default learning rate in TSNE will change from 200.0 to 'auto' in 1.2.\n",
            "  FutureWarning,\n"
          ]
        },
        {
          "output_type": "display_data",
          "data": {
            "image/png": "[encoded data removed]",
            "text/plain": [
              "<Figure size 720x720 with 1 Axes>"
            ]
          },
          "metadata": {
            "needs_background": "light"
          }
        }
      ]
    },
    {
      "cell_type": "markdown",
      "metadata": {
        "id": "9bS8NaEYuVxp"
      },
      "source": [
        "Take a few minutes to look at your plot. What does it tell you? What does it *not* tell you?\n",
        "\n",
        "By observing the plot ,words are not clustered properly according to similar meaning. Where the words are arrange in the way those are having the closer values.So most similar function of the spacy is to find the similar synonyms for the particular words."
      ]
    },
    {
      "cell_type": "markdown",
      "metadata": {
        "id": "9X2Tea_4uVxq"
      },
      "source": [
        "## Problem 3: Analogies"
      ]
    },
    {
      "cell_type": "markdown",
      "metadata": {
        "id": "HED83gxauVxq"
      },
      "source": [
        "In a **word analogy task** you are given three words $x$, $y$, $z$ and have to predict a word $w$ that has the same semantic relation to $z$ as $y$ has to $x$. One example is *man*, *woman*, *brother*, the expected answer being *sister* (the semantic relation is *male*/*female*).\n",
        "\n",
        "[Mikolov et al. (2013)](http://www.aclweb.org/anthology/N13-1090) have shown that some types of word analogy tasks can be solved by adding and substracting word vectors in a word embedding: the vector for *sister* is the closest vector (in terms of cosine distance) to the vector *brother* $-$ *man* $+$ *woman*. Your next task is to write a function `fourth` that takes in three words (say *brother*, *man*, *woman*) and predicts the word that completes the analogy (in this case, *sister*)."
      ]
    },
    {
      "cell_type": "code",
      "metadata": {
        "id": "VG7W-LpfuVxr"
      },
      "source": [
        "def fourth(w1,w2,w3):\n",
        "  w = w1.vector - w2.vector + w3.vector\n",
        "  relating_word = most_similar(w,1)\n",
        "  return(relating_word[0])"
      ],
      "execution_count": 11,
      "outputs": []
    },
    {
      "cell_type": "markdown",
      "metadata": {
        "id": "0dn2jllTuVxs"
      },
      "source": [
        "Test your code by running the following code. You should get *sister*."
      ]
    },
    {
      "cell_type": "code",
      "metadata": {
        "id": "XaanPxwuuVxt",
        "colab": {
          "base_uri": "https://localhost:8080/",
          "height": 35
        },
        "outputId": "418cd8fb-55d5-457a-a19b-8fc20bc41133"
      },
      "source": [
        "fourth(nlp.vocab['brother'], nlp.vocab['man'], nlp.vocab['woman']).text"
      ],
      "execution_count": 12,
      "outputs": [
        {
          "output_type": "execute_result",
          "data": {
            "application/vnd.google.colaboratory.intrinsic+json": {
              "type": "string"
            },
            "text/plain": [
              "'SISTER'"
            ]
          },
          "metadata": {},
          "execution_count": 12
        }
      ]
    },
    {
      "cell_type": "code",
      "metadata": {
        "colab": {
          "base_uri": "https://localhost:8080/"
        },
        "id": "xcsoB0rUbib6",
        "outputId": "6231b3a9-a0c0-4f60-c396-54c5a2f924de"
      },
      "source": [
        "print(fourth(nlp.vocab['Stockholm'], nlp.vocab['Sweden'], nlp.vocab['Germany']).text)\n",
        "print(fourth(nlp.vocab['Swedish'], nlp.vocab['Sweden'], nlp.vocab['France']).text)\n",
        "print(fourth(nlp.vocab['better'], nlp.vocab['good'], nlp.vocab['bad']).text)\n",
        "print(fourth(nlp.vocab['walked'], nlp.vocab['walk'], nlp.vocab['take']).text)"
      ],
      "execution_count": 13,
      "outputs": [
        {
          "output_type": "stream",
          "name": "stdout",
          "text": [
            "BERLIN\n",
            "FRENCH\n",
            "WORSE\n",
            "TOOK\n"
          ]
        }
      ]
    },
    {
      "cell_type": "markdown",
      "metadata": {
        "id": "b3X-cpmMuVxt"
      },
      "source": [
        "You should also be able to get the following:\n",
        "\n",
        "* *Stockholm* $-$ *Sweden* $+$ *Germany* $=$ *Berlin*\n",
        "* *Swedish* $-$ *Sweden* $+$ *France* $=$ *French*\n",
        "* *better* $-$ *good* $+$ *bad* $=$ *worse*\n",
        "* *walked* $-$ *walk* $+$ *take* $=$ *took*\n",
        "\n",
        "Experiment with other examples to see whether you get the expected output. Provide three examples of analogies for which the model produces the &lsquo;correct&rsquo; answer, and three examples on which the model &lsquo;failed&rsquo;. Based on your theoretical understanding of word embeddings, do you have a hypothesis as to why the model succeeds/fails in completing the analogy? Discuss this question in a short text."
      ]
    },
    {
      "cell_type": "code",
      "metadata": {
        "colab": {
          "base_uri": "https://localhost:8080/"
        },
        "id": "nONpxOD3cfxx",
        "outputId": "7e101063-e8b6-46db-a26e-0118cb1a8e1b"
      },
      "source": [
        "print(fourth(nlp.vocab['king'], nlp.vocab['man'], nlp.vocab['women']).text)\n",
        "print(fourth(nlp.vocab['semicircle'], nlp.vocab['circle'], nlp.vocab['triange']).text)"
      ],
      "execution_count": 14,
      "outputs": [
        {
          "output_type": "stream",
          "name": "stdout",
          "text": [
            "KIng\n",
            "triange\n"
          ]
        }
      ]
    },
    {
      "cell_type": "markdown",
      "metadata": {
        "id": "G1XqNUFeuVxu"
      },
      "source": [
        "From the above analogies function, we came to know how one word is related to another word based on the distributional function.Model is failed to predict some words, it is due to the dataset is not large enough and also connecting the relation for the semicircle to the circle with a traingle is difficult."
      ]
    },
    {
      "cell_type": "markdown",
      "metadata": {
        "id": "H2v_JivWuVxv"
      },
      "source": [
        "## Natural language inference dataset"
      ]
    },
    {
      "cell_type": "markdown",
      "metadata": {
        "id": "MIpuk0uZuVxw"
      },
      "source": [
        "In the second part of this lab, you will be evaluating the usefulness of word embeddings in the context of a natural language inference task. The data for this part is the [SNLI corpus](https://nlp.stanford.edu/projects/snli/), a collection of 570k human-written English image caption pairs manually labeled with the labels *Entailment*, *Contradiction*, and *Neutral*. Consider the following sentence pair as an example:\n",
        "\n",
        "* Sentence 1: A soccer game with multiple males playing.\n",
        "* Sentence 2: Some men are playing a sport.\n",
        "\n",
        "This pair is labeled with *Entailment*, because sentence&nbsp;2 is logically entailed (implied) by sentence&nbsp;1 – if sentence&nbsp;1 is true, then sentence&nbsp;2 is true, too. The following sentence pair, on the other hand, is labeled with *Contradiction*, because both sentences cannot be true at the same time.\n",
        "\n",
        "* Sentence 1: A black race car starts up in front of a crowd of people.\n",
        "* Sentence 2: A man is driving down a lonely road.\n",
        "\n",
        "For detailed information about the corpus, refer to [Bowman et al. (2015)](https://www.aclweb.org/anthology/D15-1075/). For this lab, we load the training portion and the development portion of the dataset.\n",
        "\n",
        "**Note:** Because the SNLI corpus is rather big, we initially only load a small portion (25,000 samples) of the training data. Once you have working code for Problems&nbsp;4–6, you should set the flag `final` to `True` and re-run all cells with the full dataset."
      ]
    },
    {
      "cell_type": "code",
      "metadata": {
        "id": "HAfaqWhAuVxx",
        "colab": {
          "base_uri": "https://localhost:8080/"
        },
        "outputId": "afbf2956-10d5-46da-bf88-11dd26da0193"
      },
      "source": [
        "import bz2\n",
        "import pandas as pd\n",
        "\n",
        "final_evaluation = False    # TODO: Set to True for the final evaluation!\n",
        "\n",
        "with bz2.open('/content/sample_data/train.jsonl.bz2', 'rt') as source:\n",
        "    if final_evaluation:\n",
        "        df_train = pd.read_json(source, lines=True)\n",
        "    else:\n",
        "        df_train = pd.read_json(source, lines=True, nrows=25000)\n",
        "    print('Number of sentence pairs in the training data:', len(df_train))\n",
        "\n",
        "with bz2.open('/content/sample_data/dev.jsonl.bz2', 'rt') as source:\n",
        "    df_dev = pd.read_json(source, lines=True)\n",
        "    print('Number of sentence pairs in the development data:', len(df_dev))"
      ],
      "execution_count": 15,
      "outputs": [
        {
          "output_type": "stream",
          "name": "stdout",
          "text": [
            "Number of sentence pairs in the training data: 25000\n",
            "Number of sentence pairs in the development data: 9842\n"
          ]
        }
      ]
    },
    {
      "cell_type": "markdown",
      "metadata": {
        "id": "OuhnohNpuVxz"
      },
      "source": [
        "When you inspect the data frames, you will see that we have preprocessed the sentences and separated tokens by spaces. In the columns `tagged1` and `tagged2`, we have added the part-of-speech tags for every token (as predicted by spaCy), also separated by spaces."
      ]
    },
    {
      "cell_type": "code",
      "metadata": {
        "id": "0kZWSwCNuVxz",
        "colab": {
          "base_uri": "https://localhost:8080/",
          "height": 258
        },
        "outputId": "691a9850-c10d-42e1-d7d3-85860bcfb098"
      },
      "source": [
        "df_train.head()"
      ],
      "execution_count": 16,
      "outputs": [
        {
          "output_type": "execute_result",
          "data": {
            "text/html": [
              "<div>\n",
              "<style scoped>\n",
              "    .dataframe tbody tr th:only-of-type {\n",
              "        vertical-align: middle;\n",
              "    }\n",
              "\n",
              "    .dataframe tbody tr th {\n",
              "        vertical-align: top;\n",
              "    }\n",
              "\n",
              "    .dataframe thead th {\n",
              "        text-align: right;\n",
              "    }\n",
              "</style>\n",
              "<table border=\"1\" class=\"dataframe\">\n",
              "  <thead>\n",
              "    <tr style=\"text-align: right;\">\n",
              "      <th></th>\n",
              "      <th>gold_label</th>\n",
              "      <th>sentence1</th>\n",
              "      <th>tags1</th>\n",
              "      <th>sentence2</th>\n",
              "      <th>tags2</th>\n",
              "    </tr>\n",
              "  </thead>\n",
              "  <tbody>\n",
              "    <tr>\n",
              "      <th>0</th>\n",
              "      <td>neutral</td>\n",
              "      <td>A person on a horse jumps over a broken down a...</td>\n",
              "      <td>DET NOUN ADP DET NOUN VERB ADP DET ADJ ADP NOU...</td>\n",
              "      <td>A person is training his horse for a competiti...</td>\n",
              "      <td>DET NOUN AUX VERB PRON NOUN ADP DET NOUN PUNCT</td>\n",
              "    </tr>\n",
              "    <tr>\n",
              "      <th>1</th>\n",
              "      <td>contradiction</td>\n",
              "      <td>A person on a horse jumps over a broken down a...</td>\n",
              "      <td>DET NOUN ADP DET NOUN VERB ADP DET ADJ ADP NOU...</td>\n",
              "      <td>A person is at a diner , ordering an omelette .</td>\n",
              "      <td>DET NOUN AUX ADP DET NOUN PUNCT VERB DET NOUN ...</td>\n",
              "    </tr>\n",
              "    <tr>\n",
              "      <th>2</th>\n",
              "      <td>entailment</td>\n",
              "      <td>A person on a horse jumps over a broken down a...</td>\n",
              "      <td>DET NOUN ADP DET NOUN VERB ADP DET ADJ ADP NOU...</td>\n",
              "      <td>A person is outdoors , on a horse .</td>\n",
              "      <td>DET NOUN AUX ADV PUNCT ADP DET NOUN PUNCT</td>\n",
              "    </tr>\n",
              "    <tr>\n",
              "      <th>3</th>\n",
              "      <td>neutral</td>\n",
              "      <td>Children smiling and waving at camera</td>\n",
              "      <td>NOUN VERB CCONJ VERB ADP NOUN</td>\n",
              "      <td>They are smiling at their parents</td>\n",
              "      <td>PRON AUX VERB ADP PRON NOUN</td>\n",
              "    </tr>\n",
              "    <tr>\n",
              "      <th>4</th>\n",
              "      <td>entailment</td>\n",
              "      <td>Children smiling and waving at camera</td>\n",
              "      <td>NOUN VERB CCONJ VERB ADP NOUN</td>\n",
              "      <td>There are children present</td>\n",
              "      <td>PRON AUX NOUN ADJ</td>\n",
              "    </tr>\n",
              "  </tbody>\n",
              "</table>\n",
              "</div>"
            ],
            "text/plain": [
              "      gold_label  ...                                              tags2\n",
              "0        neutral  ...     DET NOUN AUX VERB PRON NOUN ADP DET NOUN PUNCT\n",
              "1  contradiction  ...  DET NOUN AUX ADP DET NOUN PUNCT VERB DET NOUN ...\n",
              "2     entailment  ...          DET NOUN AUX ADV PUNCT ADP DET NOUN PUNCT\n",
              "3        neutral  ...                        PRON AUX VERB ADP PRON NOUN\n",
              "4     entailment  ...                                  PRON AUX NOUN ADJ\n",
              "\n",
              "[5 rows x 5 columns]"
            ]
          },
          "metadata": {},
          "execution_count": 16
        }
      ]
    },
    {
      "cell_type": "markdown",
      "metadata": {
        "id": "6aRtiLcNuVx0"
      },
      "source": [
        "## Problem 4: Two simple baselines"
      ]
    },
    {
      "cell_type": "markdown",
      "metadata": {
        "id": "HzqB9cccuVx0"
      },
      "source": [
        "Your first task is to establish two simple baselines for the natural language inference task."
      ]
    },
    {
      "cell_type": "markdown",
      "metadata": {
        "id": "1_7OzAaduVx1"
      },
      "source": [
        "### Random baseline\n",
        "\n",
        "Implement the standard random baseline that generates prediction by sampling from the empirical distribution of the classes in the training data. Write code to evaluate the performance of this classifier on the development data."
      ]
    },
    {
      "cell_type": "code",
      "metadata": {
        "id": "ya-WlTWZuVx2"
      },
      "source": [
        "from sklearn.dummy import DummyClassifier\n",
        "from sklearn.metrics import classification_report\n",
        "from sklearn import linear_model\n",
        "from sklearn.pipeline import Pipeline\n",
        "from sklearn.feature_extraction.text import CountVectorizer\n",
        "from sklearn.feature_extraction.text import TfidfTransformer"
      ],
      "execution_count": 17,
      "outputs": []
    },
    {
      "cell_type": "code",
      "metadata": {
        "id": "wX2Nsd3Dk-dF"
      },
      "source": [
        "# training data\n",
        "X_train = df_train.iloc[:,1:]\n",
        "y_train = df_train.iloc[:,0]"
      ],
      "execution_count": 18,
      "outputs": []
    },
    {
      "cell_type": "code",
      "metadata": {
        "id": "Og8Gn8KTkpZR"
      },
      "source": [
        "# Dummy classifier model\n",
        "clf = DummyClassifier(strategy='stratified')\n",
        "clf.fit(X_train, y_train)\n",
        "\n",
        "# test data\n",
        "X_test = df_dev.iloc[:,1:]\n",
        "y_test = df_dev.iloc[:,0]\n",
        "\n",
        "# Predict the test by using dummmy classifier\n",
        "dummy_test_pred = clf.predict(X_test)"
      ],
      "execution_count": 19,
      "outputs": []
    },
    {
      "cell_type": "code",
      "metadata": {
        "colab": {
          "base_uri": "https://localhost:8080/"
        },
        "id": "i9zKkF9DmRbU",
        "outputId": "3ccf3baf-abe1-4b54-d082-0a18caefcfa3"
      },
      "source": [
        "print(classification_report(y_test, dummy_test_pred))"
      ],
      "execution_count": 20,
      "outputs": [
        {
          "output_type": "stream",
          "name": "stdout",
          "text": [
            "               precision    recall  f1-score   support\n",
            "\n",
            "contradiction       0.33      0.34      0.33      3278\n",
            "   entailment       0.34      0.33      0.34      3329\n",
            "      neutral       0.33      0.33      0.33      3235\n",
            "\n",
            "     accuracy                           0.33      9842\n",
            "    macro avg       0.33      0.33      0.33      9842\n",
            " weighted avg       0.33      0.33      0.33      9842\n",
            "\n"
          ]
        }
      ]
    },
    {
      "cell_type": "markdown",
      "metadata": {
        "id": "f9w5pnx4uVx2"
      },
      "source": [
        "### One-sided baseline\n",
        "\n",
        "A second obvious baseline for the inference task is to predict the class label of a sentence pair based on the text of only one of the two sentences, just as in a standard document classification task. Put together a simple [CountVectorizer](https://scikit-learn.org/stable/modules/generated/sklearn.feature_extraction.text.CountVectorizer.html) + [LogisticRegression](https://scikit-learn.org/stable/modules/generated/sklearn.linear_model.LogisticRegression.html) pipeline that implements this idea, train it, and evaluate it on the development data. Is it better to base predictions on sentence&nbsp;1 or sentence&nbsp;2? Why should one sentence be more useful than the other?"
      ]
    },
    {
      "cell_type": "code",
      "metadata": {
        "colab": {
          "base_uri": "https://localhost:8080/"
        },
        "id": "KS-pWtydqhUB",
        "outputId": "b31f9cb4-aada-41b2-ea9c-04fef0d4d32d"
      },
      "source": [
        "df_train[\"sentence1\"]"
      ],
      "execution_count": 21,
      "outputs": [
        {
          "output_type": "execute_result",
          "data": {
            "text/plain": [
              "0        A person on a horse jumps over a broken down a...\n",
              "1        A person on a horse jumps over a broken down a...\n",
              "2        A person on a horse jumps over a broken down a...\n",
              "3                    Children smiling and waving at camera\n",
              "4                    Children smiling and waving at camera\n",
              "                               ...                        \n",
              "24995       A Food Service Worker sitting on the Counter .\n",
              "24996       A Food Service Worker sitting on the Counter .\n",
              "24997    A man sitting on a chair with his legs crossed...\n",
              "24998    A man sitting on a chair with his legs crossed...\n",
              "24999    A man sitting on a chair with his legs crossed...\n",
              "Name: sentence1, Length: 25000, dtype: object"
            ]
          },
          "metadata": {},
          "execution_count": 21
        }
      ]
    },
    {
      "cell_type": "code",
      "metadata": {
        "id": "6ERrhoCGuVx3",
        "colab": {
          "base_uri": "https://localhost:8080/"
        },
        "outputId": "3a8a9c35-8245-4097-a86d-89809904c31a"
      },
      "source": [
        "x1 = df_train[\"sentence1\"]\n",
        "x2 = df_train[\"sentence2\"]\n",
        "\n",
        "tx1 = df_dev[\"sentence1\"]\n",
        "tx2 = df_dev[\"sentence2\"]\n",
        "\n",
        "y = df_train[\"gold_label\"]\n",
        "ty = df_dev[\"gold_label\"]\n",
        "\n",
        "print(x1.shape)\n",
        "print(y.shape)"
      ],
      "execution_count": 22,
      "outputs": [
        {
          "output_type": "stream",
          "name": "stdout",
          "text": [
            "(25000,)\n",
            "(25000,)\n"
          ]
        }
      ]
    },
    {
      "cell_type": "code",
      "metadata": {
        "colab": {
          "base_uri": "https://localhost:8080/"
        },
        "id": "lqgA_ykIrRJp",
        "outputId": "695ae99c-c3bf-4333-b039-06d6113850fc"
      },
      "source": [
        "logistic = linear_model.LogisticRegression(max_iter = 600)\n",
        "\n",
        "pipe = Pipeline([(\"count_vectorizer\",CountVectorizer()),\n",
        "                 (\"logistic\",logistic)])\n",
        "\n",
        "# fit the model to train data of sentence1\n",
        "pipe.fit(x1, y)\n",
        "test_p1 = pipe.predict(tx1)\n",
        "print(classification_report(ty, test_p1))"
      ],
      "execution_count": 23,
      "outputs": [
        {
          "output_type": "stream",
          "name": "stdout",
          "text": [
            "               precision    recall  f1-score   support\n",
            "\n",
            "contradiction       0.33      0.25      0.28      3278\n",
            "   entailment       0.33      0.34      0.34      3329\n",
            "      neutral       0.33      0.40      0.36      3235\n",
            "\n",
            "     accuracy                           0.33      9842\n",
            "    macro avg       0.33      0.33      0.33      9842\n",
            " weighted avg       0.33      0.33      0.33      9842\n",
            "\n"
          ]
        }
      ]
    },
    {
      "cell_type": "code",
      "metadata": {
        "colab": {
          "base_uri": "https://localhost:8080/"
        },
        "id": "jyiQQqV-uoeR",
        "outputId": "06e99f98-0488-4673-dc34-f6f3b4c4f92e"
      },
      "source": [
        "# fit the model to train data of sentence1\n",
        "pipe.fit(x2, y)\n",
        "test_p2 = pipe.predict(tx2)\n",
        "print(classification_report(ty, test_p2))"
      ],
      "execution_count": 24,
      "outputs": [
        {
          "output_type": "stream",
          "name": "stdout",
          "text": [
            "               precision    recall  f1-score   support\n",
            "\n",
            "contradiction       0.60      0.60      0.60      3278\n",
            "   entailment       0.59      0.65      0.62      3329\n",
            "      neutral       0.62      0.56      0.59      3235\n",
            "\n",
            "     accuracy                           0.60      9842\n",
            "    macro avg       0.60      0.60      0.60      9842\n",
            " weighted avg       0.60      0.60      0.60      9842\n",
            "\n"
          ]
        }
      ]
    },
    {
      "cell_type": "markdown",
      "metadata": {
        "id": "W8fh0VsnuVx4"
      },
      "source": [
        "From the two base line methods,pipeline method works better compare with the dummy classifier. In the pipe line method, as metioned from the question we gave sentences separately to the model.In the data model performs better on sentence 2 than sentence 1.One of the reasons could be that since the second sentence determines the weather the particular data point is neurtal or contradiction or an entailment. Hence the model naturally performs better with sentence 2 than sentence 1."
      ]
    },
    {
      "cell_type": "markdown",
      "metadata": {
        "id": "WZVJPK1euVx5"
      },
      "source": [
        "## Problem 5: A classifier based on manually engineered features"
      ]
    },
    {
      "cell_type": "markdown",
      "metadata": {
        "id": "ZkQe9e3KuVx5"
      },
      "source": [
        "[Bowman et al., 2015](https://www.aclweb.org/anthology/D15-1075/) evaluate a classifier that uses (among others) **cross-unigram features**. This term is used to refer to pairs of unigrams $(w_1, w_2)$ such that $w_1$ occurs in sentence&nbsp;1, $w_2$ occurs in sentence&nbsp;2, and both have been assigned the same part-of-speech tag.\n",
        "\n",
        "Your next task is to implement the cross-unigram classifier. To this end, the next cell contains skeleton code for a transformer that you can use as the first component in a classification pipeline. This transformer converts each row of the SNLI data frame into a space-separated string consisting of\n",
        "\n",
        "* the standard unigrams (of sentence&nbsp;1 or sentence&nbsp;2 – choose whichever performed better in Problem&nbsp;4)\n",
        "* the cross-unigrams, as described above.\n",
        "\n",
        "The space-separated string forms a new &lsquo;document&rsquo; that can be passed to a vectorizer in exactly the same way as a standard sentence in Problem&nbsp;4."
      ]
    },
    {
      "cell_type": "code",
      "metadata": {
        "id": "PF0ucSAKLtIb"
      },
      "source": [
        "import numpy as np\n",
        "\n",
        "def transform(row):\n",
        "      s1 = row[\"sentence1\"].split(\" \")\n",
        "      s2 = row[\"sentence2\"].split(\" \")\n",
        "      t1 = row[\"tags1\"].split(' ')\n",
        "      t2 = row[\"tags2\"].split(' ')\n",
        "      s = row[\"sentence2\"]\n",
        "      for i in range(0,len(t1)):\n",
        "        for j in range(0,len(t2)):\n",
        "          if (t1[i] == t2[j]):\n",
        "            s+=s1[i]+','+s2[j]\n",
        "      return s"
      ],
      "execution_count": 25,
      "outputs": []
    },
    {
      "cell_type": "code",
      "metadata": {
        "colab": {
          "base_uri": "https://localhost:8080/",
          "height": 53
        },
        "id": "Vsd_ira7L0Yk",
        "outputId": "18de67a5-0108-4088-abbc-bc30d1b93ac0"
      },
      "source": [
        "transform(df_train.iloc[0,1:])\n",
        "#x_train = df_train.drop([\"gold_label\"],axis=1)\n",
        "#for i,j in x_train.iterrows():\n",
        "  #poc = transform(j)\n",
        "\n"
      ],
      "execution_count": 26,
      "outputs": [
        {
          "output_type": "execute_result",
          "data": {
            "application/vnd.google.colaboratory.intrinsic+json": {
              "type": "string"
            },
            "text/plain": [
              "'A person is training his horse for a competition .A,AA,aperson,personperson,horseperson,competitionon,fora,Aa,ahorse,personhorse,horsehorse,competitionjumps,trainingover,fora,Aa,adown,forairplane,personairplane,horseairplane,competition.,.'"
            ]
          },
          "metadata": {},
          "execution_count": 26
        }
      ]
    },
    {
      "cell_type": "code",
      "metadata": {
        "id": "0EjbQQtguVx6"
      },
      "source": [
        "from sklearn.base import BaseEstimator, TransformerMixin\n",
        "\n",
        "class CrossUnigramsTransformer(BaseEstimator, TransformerMixin):\n",
        "    def __init__(self):\n",
        "        pass\n",
        "\n",
        "    def fit(self, X, y=None):\n",
        "        return self\n",
        "\n",
        "    # Transform a single row of the dataframe.\n",
        "    def _transform(self, row):\n",
        "      # split the dataframe into a list\n",
        "      s1 = row[\"sentence1\"].split(\" \")\n",
        "      s2 = row[\"sentence2\"].split(\" \")\n",
        "      t1 = row[\"tags1\"].split(' ')\n",
        "      t2 = row[\"tags2\"].split(' ')\n",
        "      # from the problem 4 sentence 2 gives a better accuracy\n",
        "      s = row[\"sentence2\"]\n",
        "      for i in range(0,len(t1)):\n",
        "        for j in range(0,len(t2)):\n",
        "          # comparing the tags of each sentence in each row\n",
        "          if (t1[i] == t2[j]):\n",
        "            s += s1[i]+','+s2[j] # paste the strings in a sentence 2 those are having the same tags\n",
        "      return s\n",
        "\n",
        "    def transform(self, X):\n",
        "        return [self._transform(row) for i,row in X.iterrows()]"
      ],
      "execution_count": 27,
      "outputs": []
    },
    {
      "cell_type": "code",
      "metadata": {
        "id": "Uf3PJTU4_VJ7"
      },
      "source": [
        "x_train = df_train.drop([\"gold_label\"],axis=1)\n",
        "x_test  = df_dev.drop([\"gold_label\"],axis =1)"
      ],
      "execution_count": 28,
      "outputs": []
    },
    {
      "cell_type": "markdown",
      "metadata": {
        "id": "OEv-KL6HuVx7"
      },
      "source": [
        "Once you have an implementation of the transformer, extend the pipeline that you built for Problem&nbsp;4, train it, and evaluate it on the development data."
      ]
    },
    {
      "cell_type": "code",
      "metadata": {
        "id": "IRyY8SfduVx7"
      },
      "source": [
        "transformer = CrossUnigramsTransformer()\n",
        "transformed_train = transformer.transform(x_train)\n",
        "transformed_dev = transformer.transform(x_test)\n",
        "\n",
        "# fit the pipe to the transformed data\n",
        "pipe.fit(transformed_train,y)\n",
        "\n",
        "# test the model by using test data\n",
        "tdev = pipe.predict(transformed_dev)"
      ],
      "execution_count": 29,
      "outputs": []
    },
    {
      "cell_type": "code",
      "metadata": {
        "colab": {
          "base_uri": "https://localhost:8080/"
        },
        "id": "W9oGROd1kvC5",
        "outputId": "08f75a05-d588-4cf9-8478-2cf1e2584ac3"
      },
      "source": [
        "print(classification_report(tdev,ty))"
      ],
      "execution_count": 30,
      "outputs": [
        {
          "output_type": "stream",
          "name": "stdout",
          "text": [
            "               precision    recall  f1-score   support\n",
            "\n",
            "contradiction       0.59      0.59      0.59      3252\n",
            "   entailment       0.61      0.59      0.60      3448\n",
            "      neutral       0.57      0.58      0.58      3142\n",
            "\n",
            "     accuracy                           0.59      9842\n",
            "    macro avg       0.59      0.59      0.59      9842\n",
            " weighted avg       0.59      0.59      0.59      9842\n",
            "\n"
          ]
        }
      ]
    },
    {
      "cell_type": "markdown",
      "metadata": {
        "id": "U8xr9LIPuVx8"
      },
      "source": [
        "## Problem 6: A classifier based on word embeddings"
      ]
    },
    {
      "cell_type": "markdown",
      "metadata": {
        "id": "yU0MnaDuuVx8"
      },
      "source": [
        "Your last task in this lab is to build a classifier for the natural language inference task that uses word embeddings. More specifically, we ask you to implement a vectorizer that represents each sentence as the sum of its word vectors – a representation known as the **continuous bag-of-words**. Thus, given that spaCy&rsquo;s word vectors have 300 dimensions, each sentence will be transformed into a 300-dimensional vector. To represent a sentence pair, the vectorizer should concatenate the vectors for the individual sentences; this yields a 600-dimensional vector. This vector can then be passed to a classifier.\n",
        "\n",
        "The next code cell contains skeleton code for the vectorizer. You will have to implement two methods: one that maps a single sentence to a vector (of length 300), and one that maps a sentence pair to a vector (of length 600)."
      ]
    },
    {
      "cell_type": "code",
      "metadata": {
        "id": "WepAn13LWmK5"
      },
      "source": [
        "from functools import reduce\n",
        "def tn(sentence):\n",
        "  return reduce(lambda x,y: x+y, [nlp.vocab[w].vector for w in sentence.split()])\n"
      ],
      "execution_count": 31,
      "outputs": []
    },
    {
      "cell_type": "code",
      "metadata": {
        "id": "5_y28SpBwX_P",
        "colab": {
          "base_uri": "https://localhost:8080/",
          "height": 182
        },
        "outputId": "b5f9f9af-6a42-438e-b04c-6e6078227fe6"
      },
      "source": [
        "#s1 = tn(df_train[\"sentence1\"][0])\n",
        "#s2 = tt(df_train[\"sentence2\"][0])"
      ],
      "execution_count": 32,
      "outputs": [
        {
          "output_type": "error",
          "ename": "NameError",
          "evalue": "ignored",
          "traceback": [
            "\u001b[0;31m---------------------------------------------------------------------------\u001b[0m",
            "\u001b[0;31mNameError\u001b[0m                                 Traceback (most recent call last)",
            "\u001b[0;32m<ipython-input-32-5d2a6a6a7eb7>\u001b[0m in \u001b[0;36m<module>\u001b[0;34m()\u001b[0m\n\u001b[1;32m      1\u001b[0m \u001b[0ms1\u001b[0m \u001b[0;34m=\u001b[0m \u001b[0mtn\u001b[0m\u001b[0;34m(\u001b[0m\u001b[0mdf_train\u001b[0m\u001b[0;34m[\u001b[0m\u001b[0;34m\"sentence1\"\u001b[0m\u001b[0;34m]\u001b[0m\u001b[0;34m[\u001b[0m\u001b[0;36m0\u001b[0m\u001b[0;34m]\u001b[0m\u001b[0;34m)\u001b[0m\u001b[0;34m\u001b[0m\u001b[0;34m\u001b[0m\u001b[0m\n\u001b[0;32m----> 2\u001b[0;31m \u001b[0ms2\u001b[0m \u001b[0;34m=\u001b[0m \u001b[0mtt\u001b[0m\u001b[0;34m(\u001b[0m\u001b[0mdf_train\u001b[0m\u001b[0;34m[\u001b[0m\u001b[0;34m\"sentence2\"\u001b[0m\u001b[0;34m]\u001b[0m\u001b[0;34m[\u001b[0m\u001b[0;36m0\u001b[0m\u001b[0;34m]\u001b[0m\u001b[0;34m)\u001b[0m\u001b[0;34m\u001b[0m\u001b[0;34m\u001b[0m\u001b[0m\n\u001b[0m",
            "\u001b[0;31mNameError\u001b[0m: name 'tt' is not defined"
          ]
        }
      ]
    },
    {
      "cell_type": "code",
      "metadata": {
        "id": "CGw9bq5RxP0U"
      },
      "source": [
        "#ls =np.concatenate([s1,s2])\n",
        "#len(ls)"
      ],
      "execution_count": 33,
      "outputs": []
    },
    {
      "cell_type": "code",
      "metadata": {
        "colab": {
          "base_uri": "https://localhost:8080/",
          "height": 35
        },
        "id": "ijDYubfPtrEb",
        "outputId": "0ce29388-9c71-4e4b-f0de-e3b33dd124e0"
      },
      "source": [
        "#len(s2)\n",
        "df_train.sentence1[0]"
      ],
      "execution_count": 34,
      "outputs": [
        {
          "output_type": "execute_result",
          "data": {
            "application/vnd.google.colaboratory.intrinsic+json": {
              "type": "string"
            },
            "text/plain": [
              "'A person on a horse jumps over a broken down airplane .'"
            ]
          },
          "metadata": {},
          "execution_count": 34
        }
      ]
    },
    {
      "cell_type": "code",
      "metadata": {
        "id": "e-_Lkr6KuVx9"
      },
      "source": [
        "import numpy as np\n",
        "\n",
        "from sklearn.base import BaseEstimator, TransformerMixin\n",
        "\n",
        "class PairedSentenceVectorizer(BaseEstimator, TransformerMixin):\n",
        "    def __init__(self):\n",
        "        pass\n",
        "\n",
        "    def fit(self, X, y=None):\n",
        "        return self\n",
        "\n",
        "    # Vectorize a single sentence.\n",
        "    def _transform1(self, sentence):\n",
        "      t = reduce(lambda x,y: x+y, [nlp.vocab[w].vector for w in sentence.split()])\n",
        "      return t\n",
        "\n",
        "    # Vectorize a single row of the dataframe.\n",
        "    def _transform2(self, row):\n",
        "        s1 = self._transform1(row.sentence1)\n",
        "        s2 = self._transform1(row.sentence2)\n",
        "        return np.stack([s1,s2])\n",
        "\n",
        "    def transform(self, X):\n",
        "        return np.concatenate(\n",
        "            [self._transform2(row).reshape(1, -1) for row in X.itertuples()]\n",
        "        )"
      ],
      "execution_count": 35,
      "outputs": []
    },
    {
      "cell_type": "code",
      "metadata": {
        "id": "lmOuPXdk_3lA"
      },
      "source": [
        "dt_train = df_train.drop([\"tags1\",\"tags2\",\"gold_label\"],axis =1)\n",
        "dt_dev = df_dev.drop([\"tags1\",\"tags2\",\"gold_label\"],axis = 1)"
      ],
      "execution_count": 36,
      "outputs": []
    },
    {
      "cell_type": "code",
      "metadata": {
        "id": "UGgs7AwS_gv8"
      },
      "source": [
        "processor = PairedSentenceVectorizer()\n",
        "\n",
        "# transform the trainng and development data\n",
        "processed_train = processor.transform(dt_train)\n",
        "processed_dev = processor.transform(dt_dev)"
      ],
      "execution_count": 37,
      "outputs": []
    },
    {
      "cell_type": "markdown",
      "metadata": {
        "id": "3pADstO5qwlx"
      },
      "source": [
        ""
      ]
    },
    {
      "cell_type": "markdown",
      "metadata": {
        "id": "CbIFMV_5uVx-"
      },
      "source": [
        "Once you have a working implementation, build a pipeline consisting of the new vectorizer and a [multi-layer perceptron classifier](https://scikit-learn.org/stable/modules/generated/sklearn.neural_network.MLPClassifier.html). This more powerful (compared to logistic regression) classifier is called for here because we do not specify features by hand (as we did in Problem&nbsp;5), but want to let the model learn a good representation of the data by itself. Use 3&nbsp;hidden layers, each with size 300. It suffices to train the classifier for 8&nbsp;iterations (epochs)."
      ]
    },
    {
      "cell_type": "code",
      "metadata": {
        "id": "XC83BEUHuVx-",
        "colab": {
          "base_uri": "https://localhost:8080/"
        },
        "outputId": "6a867628-bba7-4159-bedc-c99ab1747119"
      },
      "source": [
        "# multilayer perceptron clssifier \n",
        "from sklearn.neural_network import MLPClassifier\n",
        "clf = MLPClassifier( max_iter=8,hidden_layer_sizes=(300,300,300)).fit(processed_train, y) # y - gold_label of df_train\n",
        "\n",
        "test_pred_processed = clf.predict(processed_dev)\n",
        "print(classification_report(test_pred_processed,ty))   # ty - gold_label of df_dev"
      ],
      "execution_count": 38,
      "outputs": [
        {
          "output_type": "stream",
          "name": "stderr",
          "text": [
            "/usr/local/lib/python3.7/dist-packages/sklearn/neural_network/_multilayer_perceptron.py:696: ConvergenceWarning: Stochastic Optimizer: Maximum iterations (8) reached and the optimization hasn't converged yet.\n",
            "  ConvergenceWarning,\n"
          ]
        },
        {
          "output_type": "stream",
          "name": "stdout",
          "text": [
            "               precision    recall  f1-score   support\n",
            "\n",
            "contradiction       0.60      0.68      0.64      2890\n",
            "   entailment       0.68      0.66      0.67      3430\n",
            "      neutral       0.66      0.61      0.63      3522\n",
            "\n",
            "     accuracy                           0.65      9842\n",
            "    macro avg       0.65      0.65      0.65      9842\n",
            " weighted avg       0.65      0.65      0.65      9842\n",
            "\n"
          ]
        }
      ]
    },
    {
      "cell_type": "markdown",
      "metadata": {
        "id": "CkKGT8wYuVx_"
      },
      "source": [
        "## Problem 7: Final evaluation"
      ]
    },
    {
      "cell_type": "markdown",
      "metadata": {
        "id": "rc6663XBuVyA"
      },
      "source": [
        "Once you have working code for all problems, re-run Problems&nbsp;4–6 with the full training data. This will take quite a while (expect approximately 1&;nbsp;hour on Colab). **Make sure to not overwrite your previous results.** What are your results on the full data? How do they differ from the results that you obtained for the smaller training data? How do you interpret this? Summarize your findings in a short text."
      ]
    },
    {
      "cell_type": "code",
      "metadata": {
        "id": "qZGtoW07uVyA",
        "colab": {
          "base_uri": "https://localhost:8080/"
        },
        "outputId": "c9b8f24e-1e97-4012-fed8-40618e2b9ade"
      },
      "source": [
        "with bz2.open('/content/sample_data/train.jsonl.bz2', 'rt') as source:\n",
        "    train = pd.read_json(source, lines=True)\n",
        "    print('Number of sentence pairs in the training data:', len(train))\n",
        "\n",
        "with bz2.open('/content/sample_data/dev.jsonl.bz2', 'rt') as source:\n",
        "    dev = pd.read_json(source, lines=True)\n",
        "    print('Number of sentence pairs in the development data:', len(dev))"
      ],
      "execution_count": 39,
      "outputs": [
        {
          "output_type": "stream",
          "name": "stdout",
          "text": [
            "Number of sentence pairs in the training data: 549367\n",
            "Number of sentence pairs in the development data: 9842\n"
          ]
        }
      ]
    },
    {
      "cell_type": "code",
      "metadata": {
        "colab": {
          "base_uri": "https://localhost:8080/"
        },
        "id": "hRNH8njAgGz3",
        "outputId": "5b6512fe-ab1a-4c83-c85b-845106c56778"
      },
      "source": [
        "# full training data\n",
        "fX_train = train.iloc[:,1:]\n",
        "fy_train = train.iloc[:,0]\n",
        "\n",
        "# test data\n",
        "fX_test = dev.iloc[:,1:]\n",
        "fy_test = dev.iloc[:,0]\n",
        "\n",
        "# Dummy classifier model\n",
        "clf = DummyClassifier(strategy='stratified')\n",
        "clf.fit(fX_train, fy_train)\n",
        "\n",
        "# Predict the test by using dummmy classifier\n",
        "dummy_ftest_pred = clf.predict(fX_test)\n",
        "\n",
        "print(classification_report(fy_test, dummy_ftest_pred))"
      ],
      "execution_count": 40,
      "outputs": [
        {
          "output_type": "stream",
          "name": "stdout",
          "text": [
            "               precision    recall  f1-score   support\n",
            "\n",
            "contradiction       0.33      0.32      0.32      3278\n",
            "   entailment       0.34      0.34      0.34      3329\n",
            "      neutral       0.33      0.34      0.33      3235\n",
            "\n",
            "     accuracy                           0.33      9842\n",
            "    macro avg       0.33      0.33      0.33      9842\n",
            " weighted avg       0.33      0.33      0.33      9842\n",
            "\n"
          ]
        }
      ]
    },
    {
      "cell_type": "code",
      "metadata": {
        "colab": {
          "base_uri": "https://localhost:8080/"
        },
        "id": "o6unxE6Ph4A-",
        "outputId": "9a7f1643-b259-495e-b579-9c170168f2cb"
      },
      "source": [
        "fx1 = train[\"sentence1\"]\n",
        "fx2 = train[\"sentence2\"]\n",
        "\n",
        "ftx1 = dev[\"sentence1\"]\n",
        "ftx2 = dev[\"sentence2\"]\n",
        "\n",
        "fy = train[\"gold_label\"]\n",
        "fty = dev[\"gold_label\"]\n",
        "\n",
        "print(fx1.shape,fx2.shape)\n",
        "print(ftx1.shape,ftx2.shape)\n",
        "print(fy.shape,fty.shape)\n",
        "\n",
        "## Baseline Model\n",
        "logistic = linear_model.LogisticRegression(max_iter = 600)\n",
        "\n",
        "pipe = Pipeline([(\"count_vectorizer\",CountVectorizer()),\n",
        "                 (\"logistic\",logistic)])\n",
        "\n",
        "# fit the model to train data of sentence1\n",
        "pipe.fit(fx1, fy)\n",
        "test_ftx1 = pipe.predict(ftx1)\n",
        "print(classification_report(fty, test_ftx1))\n",
        "\n",
        "# fit the model to train data of sentence1\n",
        "pipe.fit(fx2, fy)\n",
        "test_ftx2 = pipe.predict(ftx2)\n",
        "print(classification_report(fty, test_ftx2))"
      ],
      "execution_count": 41,
      "outputs": [
        {
          "output_type": "stream",
          "name": "stdout",
          "text": [
            "(549367,) (549367,)\n",
            "(9842,) (9842,)\n",
            "(549367,) (9842,)\n"
          ]
        },
        {
          "output_type": "stream",
          "name": "stderr",
          "text": [
            "/usr/local/lib/python3.7/dist-packages/sklearn/linear_model/_logistic.py:818: ConvergenceWarning: lbfgs failed to converge (status=1):\n",
            "STOP: TOTAL NO. of ITERATIONS REACHED LIMIT.\n",
            "\n",
            "Increase the number of iterations (max_iter) or scale the data as shown in:\n",
            "    https://scikit-learn.org/stable/modules/preprocessing.html\n",
            "Please also refer to the documentation for alternative solver options:\n",
            "    https://scikit-learn.org/stable/modules/linear_model.html#logistic-regression\n",
            "  extra_warning_msg=_LOGISTIC_SOLVER_CONVERGENCE_MSG,\n"
          ]
        },
        {
          "output_type": "stream",
          "name": "stdout",
          "text": [
            "               precision    recall  f1-score   support\n",
            "\n",
            "contradiction       0.34      0.25      0.29      3278\n",
            "   entailment       0.34      0.39      0.36      3329\n",
            "      neutral       0.33      0.36      0.35      3235\n",
            "\n",
            "     accuracy                           0.34      9842\n",
            "    macro avg       0.34      0.34      0.33      9842\n",
            " weighted avg       0.34      0.34      0.33      9842\n",
            "\n"
          ]
        },
        {
          "output_type": "stream",
          "name": "stderr",
          "text": [
            "/usr/local/lib/python3.7/dist-packages/sklearn/linear_model/_logistic.py:818: ConvergenceWarning: lbfgs failed to converge (status=1):\n",
            "STOP: TOTAL NO. of ITERATIONS REACHED LIMIT.\n",
            "\n",
            "Increase the number of iterations (max_iter) or scale the data as shown in:\n",
            "    https://scikit-learn.org/stable/modules/preprocessing.html\n",
            "Please also refer to the documentation for alternative solver options:\n",
            "    https://scikit-learn.org/stable/modules/linear_model.html#logistic-regression\n",
            "  extra_warning_msg=_LOGISTIC_SOLVER_CONVERGENCE_MSG,\n"
          ]
        },
        {
          "output_type": "stream",
          "name": "stdout",
          "text": [
            "               precision    recall  f1-score   support\n",
            "\n",
            "contradiction       0.65      0.63      0.64      3278\n",
            "   entailment       0.64      0.72      0.68      3329\n",
            "      neutral       0.67      0.60      0.63      3235\n",
            "\n",
            "     accuracy                           0.65      9842\n",
            "    macro avg       0.65      0.65      0.65      9842\n",
            " weighted avg       0.65      0.65      0.65      9842\n",
            "\n"
          ]
        }
      ]
    },
    {
      "cell_type": "code",
      "metadata": {
        "colab": {
          "base_uri": "https://localhost:8080/"
        },
        "id": "XRPcKnB5jbWg",
        "outputId": "99783e4f-d3da-4d7c-c130-efd6f8bd8c72"
      },
      "source": [
        "## Problem 5\n",
        "fx_train = train.drop([\"gold_label\"],axis=1)\n",
        "x_test  = df_dev.drop([\"gold_label\"],axis =1)\n",
        "\n",
        "transformed_ftrain = transformer.transform(fx_train)\n",
        "transformed_fdev = transformer.transform(x_test)\n",
        "\n",
        "# fit the pipe to the transformed data\n",
        "pipe.fit(transformed_ftrain,fy)\n",
        "\n",
        "# test the model by using test data\n",
        "ftdev = pipe.predict(transformed_fdev)\n",
        "\n",
        "print(classification_report(ftdev,fty))"
      ],
      "execution_count": 42,
      "outputs": [
        {
          "output_type": "stream",
          "name": "stderr",
          "text": [
            "/usr/local/lib/python3.7/dist-packages/sklearn/linear_model/_logistic.py:818: ConvergenceWarning: lbfgs failed to converge (status=1):\n",
            "STOP: TOTAL NO. of ITERATIONS REACHED LIMIT.\n",
            "\n",
            "Increase the number of iterations (max_iter) or scale the data as shown in:\n",
            "    https://scikit-learn.org/stable/modules/preprocessing.html\n",
            "Please also refer to the documentation for alternative solver options:\n",
            "    https://scikit-learn.org/stable/modules/linear_model.html#logistic-regression\n",
            "  extra_warning_msg=_LOGISTIC_SOLVER_CONVERGENCE_MSG,\n"
          ]
        },
        {
          "output_type": "stream",
          "name": "stdout",
          "text": [
            "               precision    recall  f1-score   support\n",
            "\n",
            "contradiction       0.67      0.69      0.68      3179\n",
            "   entailment       0.71      0.66      0.68      3561\n",
            "      neutral       0.64      0.67      0.66      3102\n",
            "\n",
            "     accuracy                           0.67      9842\n",
            "    macro avg       0.67      0.67      0.67      9842\n",
            " weighted avg       0.68      0.67      0.67      9842\n",
            "\n"
          ]
        }
      ]
    },
    {
      "cell_type": "code",
      "metadata": {
        "colab": {
          "base_uri": "https://localhost:8080/"
        },
        "id": "-ZJaSUWslBmn",
        "outputId": "08fc90a8-b0ed-4d98-c45b-9c3a6c27196c"
      },
      "source": [
        "## problem 6\n",
        "fdt_train = train.drop([\"tags1\",\"tags2\",\"gold_label\"],axis =1)\n",
        "fdt_dev = dev.drop([\"tags1\",\"tags2\",\"gold_label\"],axis = 1)\n",
        "\n",
        "processor = PairedSentenceVectorizer()\n",
        "\n",
        "# transform the trainng and development data\n",
        "processed_ftrain = processor.transform(fdt_train)\n",
        "processed_fdev = processor.transform(fdt_dev)\n",
        "\n",
        "# multilayer perceptron clssifier \n",
        "from sklearn.neural_network import MLPClassifier\n",
        "clf = MLPClassifier( max_iter=8,hidden_layer_sizes=(300,300,300)).fit(processed_ftrain, fy) # fy - gold_label of train\n",
        "\n",
        "ftest_pred_processed = clf.predict(processed_fdev)\n",
        "print(classification_report(ftest_pred_processed,fty))   # fty - gold_label of dev"
      ],
      "execution_count": 43,
      "outputs": [
        {
          "output_type": "stream",
          "name": "stderr",
          "text": [
            "/usr/local/lib/python3.7/dist-packages/sklearn/neural_network/_multilayer_perceptron.py:696: ConvergenceWarning: Stochastic Optimizer: Maximum iterations (8) reached and the optimization hasn't converged yet.\n",
            "  ConvergenceWarning,\n"
          ]
        },
        {
          "output_type": "stream",
          "name": "stdout",
          "text": [
            "               precision    recall  f1-score   support\n",
            "\n",
            "contradiction       0.74      0.81      0.77      2979\n",
            "   entailment       0.80      0.78      0.79      3392\n",
            "      neutral       0.75      0.70      0.72      3471\n",
            "\n",
            "     accuracy                           0.76      9842\n",
            "    macro avg       0.76      0.76      0.76      9842\n",
            " weighted avg       0.76      0.76      0.76      9842\n",
            "\n"
          ]
        }
      ]
    },
    {
      "cell_type": "markdown",
      "metadata": {
        "id": "leAgGwVQuVyC"
      },
      "source": [
        "<div class=\"alert alert-info\">\n",
        "    Please read the section ‘General information’ on the ‘Labs’ page of the course website before submitting this notebook!\n",
        "</div>"
      ]
    },
    {
      "cell_type": "markdown",
      "metadata": {
        "id": "_RPch6IP7fOS"
      },
      "source": [
        "Reflection questions\n",
        "The following reflection questions are questions that you could be asked in the oral exam. Try to answer each of them in the form of a short text and enter it in the cell below. You will get feedback on your answers from your lab assistant.\n",
        "\n",
        "\n",
        "\n",
        "RQ 4.1: In Problem 3, you manipulated word vectors using addition and subtraction, getting intermediate vectors which are still valid embeddings. Consider the difference vector Stockholm $-$ Sweden. What does that vector intuitively represent? What words do you think it should be most similar to?\n",
        "\n",
        "\n",
        "\n",
        "The Vector respresents the relationhip between the two words. It should be more similar to countries and capitals of the countries. The vector simply means the difference of distances between the two words namely Sweden and Stockholm , and this difference could be interpreted as the distance between the words itself and since the difference is added to Germany it returns its corresponding capital Berlin.\n",
        "\n",
        "\n",
        "\n",
        "\n",
        "RQ 4.2: Manually engineering features is a fairly time-consuming task, but as shown in Problem 5, can result in systems which are on par with embedding-based systems. Conversely, embedding-based systems avoid manual feature engineering, but often require significantly more computational resources. Looking at your results from Problem 7, are embedding-based systems worth the extra resources in the context of this task?\n",
        "\n",
        "\n",
        "\n",
        "\n",
        "Yes, It is worth the extra investment in computation. This is simply due to the following reasons , one being the increase in perfromence itself and it seems to have a balance in modelling both sentences equally.\n",
        "\n",
        "\n",
        "\n",
        "\n",
        "\n",
        "RQ 4.3: Throughout the lab, you have been using pre-trained word vectors from spaCy. In Problem 7, you used them to compute the input to a neural network. Another common pattern is to use them to initialize an embedding layer in a neural network. (Have a look at this article if you are unfamiliar with that pattern.) Explain the difference between the two usage patterns. What advantages/disadvantages do they have?\n",
        "\n",
        "\n",
        "\n",
        "By using the pretrained embedding layer will perform better in some cases. But it is not working for all the domain specific cases and diiferent language data.since we are using spacy it performs good in our case.\n",
        "\n",
        "\n",
        "\n",
        "TODO: Enter your answers here\n",
        "\n"
      ]
    },
    {
      "cell_type": "code",
      "metadata": {
        "id": "UQgzv5md7gQ_"
      },
      "source": [
        ""
      ],
      "execution_count": null,
      "outputs": []
    }
  ]
}